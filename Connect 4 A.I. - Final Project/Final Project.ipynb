{
 "cells": [
  {
   "cell_type": "markdown",
   "metadata": {},
   "source": [
    "# CS 440 Final Project: Connect 4 AI - Heuristic Tournament"
   ]
  },
  {
   "cell_type": "markdown",
   "metadata": {},
   "source": [
    "### **Author**: Zach Goodenow\n",
    "<br>\n",
    "> **Date**: 12/12/17\n",
    "<br>\n",
    "> **School**: Colorado State University\n",
    "<br>\n",
    "> **Course**: Introduction to Artificial Intelligence\n",
    "<br>\n",
    "> **Professor**: Chuck Anderson\n",
    "<br>\n",
    "> **CSU Email**: zachgood@rams.colostate.edu\n",
    "<br>\n",
    "> **Personal Email**: zachgoodenow@icloud.com"
   ]
  },
  {
   "cell_type": "markdown",
   "metadata": {},
   "source": [
    "# Table Of Contents"
   ]
  },
  {
   "cell_type": "markdown",
   "metadata": {},
   "source": [
    "* [1. Introduction](#Intro)\n",
    "    * [1.1 Tic-Tac-Toe](#TicTacToe)\n",
    "    * [1.2 Connect 4](#Connect4)\n",
    "* [2. Backgroud](#Background)\n",
    "    * [2.1 Definitions & Algorithms](#DandA)\n",
    "* [3. Methods](#Methods)\n",
    "    * [3.1 Increase game efficiency & speed](#EffSpeed)\n",
    "        * [3.1.1 Using numpy board](#UsingNumpy)\n",
    "        * [3.1.2 Without numpy board](#WONumpy)\n",
    "    * [3.2 Utility Functions Using Heuristics](#UtFun)\n",
    "        * [3.2.1 Development](#Dev)\n",
    "            * [3.2.1.1 Original Heuristic](#O)\n",
    "            * [3.2.1.2 Count 2 Win Heuristic](#C2W)\n",
    "            * [3.2.1.3 Simple Heuristic](#S)\n",
    "            * [3.2.1.4 Next Move Win Count Heuristic](#NMWC)\n",
    "        * [3.2.2 Examples](#Examples)\n",
    "        * [3.2.3 Performance Evaluation](#Eval)\n",
    "            * [3.2.3.1 Speed](#Speed)\n",
    "            * [3.2.3.2 Effective Branching Factor](#EBF)\n",
    "* [4. Results](#Results)\n",
    "    * [4.1 Utility vs Random](#UvR)\n",
    "    * [4.2 Tournament](#Tournament)\n",
    "        * [4.2.1 Utility Tournament](#UtilityTournament)\n",
    "        * [4.2.2 Depth Tournament](#DepthTournament)\n",
    "    * [4.3 A Tie Game?](#Tie)\n",
    "* [5. Conclusion](#Conclusion)\n",
    "    * [5.1 Best Player](#BestPlayer)\n",
    "    * [5.2 Do You Think You Can Win?](#YouPlay)\n",
    "    * [5.3 Word Count](#WordCount)\n",
    "* [6. References](#References) "
   ]
  },
  {
   "cell_type": "markdown",
   "metadata": {
    "collapsed": true
   },
   "source": [
    "<a id='Intro'></a>\n",
    "## Introduction"
   ]
  },
  {
   "cell_type": "markdown",
   "metadata": {},
   "source": [
    "Connect 4 is a two-player game played on a board with 6 rows and 7 columns.  Each turn, a player selects a column to insert their piece, which falls straight down, occupying the next available space.   The objective of the game is to arrange your pieces to form a horizontal, vertical, or diagonal connection of 4 or more before the other player.  **Connect Four is a solved game**, meaning that the first player can always win by playing the right moves. Hence, a proper implementation will result in an artificial intelligence that will always win.  More information about the game can be found on the [Wikipedia about Connect 4](https://en.wikipedia.org/wiki/Connect_Four)"
   ]
  },
  {
   "cell_type": "code",
   "execution_count": 9,
   "metadata": {},
   "outputs": [
    {
     "data": {
      "text/html": [
       "<table><tr><td><img src='https://upload.wikimedia.org/wikipedia/en/7/79/Connect_4_Board_and_Box.jpg'></td><td><img src='https://upload.wikimedia.org/wikipedia/commons/a/ad/Connect_Four.gif'></td></tr></table>"
      ],
      "text/plain": [
       "<IPython.core.display.HTML object>"
      ]
     },
     "metadata": {},
     "output_type": "display_data"
    }
   ],
   "source": [
    "from IPython.display import HTML, display, IFrame\n",
    "display(HTML(\"<table><tr><td><img src='https://upload.wikimedia.org/wikipedia/en/7/79/Connect_4_Board_and_Box.jpg'></td><td><img src='https://upload.wikimedia.org/wikipedia/commons/a/ad/Connect_Four.gif'></td></tr></table>\"))"
   ]
  },
  {
   "cell_type": "markdown",
   "metadata": {},
   "source": [
    "<a id='TicTacToe'></a>\n",
    "### Tic-Tac-Toe"
   ]
  },
  {
   "cell_type": "markdown",
   "metadata": {},
   "source": [
    "In *Assignment 4: Negamax with Alpha-Beta Pruning and Iterative Deepening*, we were tasked with applying negamax and alpha-beta pruning to a game of tic-tac-toe.  I found [this website](https://www.jesperjuul.net/ludologist/2003/12/28/255168-ways-of-playing-tic-tac-toe/) which documents every single game of Tic Tac Toe. It gives the following numbers: \n",
    "\n",
    "<div class=\"alert alert-block alert-warning\">\n",
    "\n",
    " - 255,168 unique games of Tic Tac Toe to be played. \n",
    " - Of these, 131,184 are won by the first player, 77,904 are won by the second player, and 46,080 are drawn.\n",
    " \n",
    " "
   ]
  },
  {
   "cell_type": "markdown",
   "metadata": {},
   "source": [
    "I successfully applied negamax, negamax iterative deepening search, negamax alpha-beta pruned, and negamax alpha-beta pruned iterative deepening search.  All 4 algorithms will never lose at a search depth of 9 because they search every possible game that can result after each turn. The code for Tic-Tac-Toe was given in assignment 4. I also implemented a feature to let user input play against these algorithms \n",
    "<br><br>\n",
    "For simplicity, I will only include an example of UI vs NegamaxIDSab at a depth of 10, but any combination of algorithms, depths, and opponents can be played."
   ]
  },
  {
   "cell_type": "code",
   "execution_count": 2,
   "metadata": {
    "collapsed": true
   },
   "outputs": [],
   "source": [
    "%%capture\n",
    "from importlib import reload\n",
    "import Negamax\n",
    "import NegamaxAB\n",
    "from TicTacToe import *\n",
    "from PlayTTT import *"
   ]
  },
  {
   "cell_type": "code",
   "execution_count": 3,
   "metadata": {
    "scrolled": true
   },
   "outputs": [
    {
     "name": "stdout",
     "output_type": "stream",
     "text": [
      "Move positions:\n",
      "0|1|2\n",
      "-----\n",
      "3|4|5\n",
      "-----\n",
      "6|7|8\n",
      "Would you like to go first? (Y(es) or N(o))\n",
      "y\n",
      " | | \n",
      "-----\n",
      " | | \n",
      "-----\n",
      " | | \n",
      "COMPUTER IS X\n",
      "Your Move...(or exit with (q)uit)\n",
      "1\n",
      "Player O to 1\n",
      " |O| \n",
      "-----\n",
      " | | \n",
      "-----\n",
      " | | \n",
      "Player X to 4 for score 1\n",
      " |O| \n",
      "-----\n",
      " |X| \n",
      "-----\n",
      " | | \n",
      "Your Move...(or exit with (q)uit)\n",
      "3\n",
      "Player O to 3\n",
      " |O| \n",
      "-----\n",
      "O|X| \n",
      "-----\n",
      " | | \n",
      "Player X to 0 for score 1\n",
      "X|O| \n",
      "-----\n",
      "O|X| \n",
      "-----\n",
      " | | \n",
      "Your Move...(or exit with (q)uit)\n",
      "4\n",
      "\n",
      "NOT A VALID MOVE!\n",
      "\n",
      "Pick from one of the following --->  [2, 5, 6, 7, 8]\n",
      "Your Move...(or exit with (q)uit)\n",
      "2\n",
      "Player O to 2\n",
      "X|O|O\n",
      "-----\n",
      "O|X| \n",
      "-----\n",
      " | | \n",
      "Player X to 8 for score 1\n",
      "X|O|O\n",
      "-----\n",
      "O|X| \n",
      "-----\n",
      " | |X\n",
      "Computer won!\n",
      "Nodes explored during this game:  2134\n"
     ]
    }
   ],
   "source": [
    "# RUN THIS CELL TO PLAY TIC-TAC-TOE\n",
    "playTTT_1vComp(game = TTT(), depthLimit = 10, opponent = TTT_UI, algorithm = NegamaxAB.negamaxIDSab)"
   ]
  },
  {
   "cell_type": "markdown",
   "metadata": {},
   "source": [
    "<a id='Connect4'></a>\n",
    "### Connect 4"
   ]
  },
  {
   "cell_type": "markdown",
   "metadata": {},
   "source": [
    "After I learned these algorithms and applied them to tic-tac-toe, I knew I could apply them to connect 4.  Ever since I was a kid, I loved to play connect 4.  I would always beg my mom to play with me because it was a game that I was very good at.  My experience playing connect 4 as a kid helped me develop the game and heuristics. I also found a website about [Basic Connect 4 AI](https://roadtolarissa.com/connect-4-ai-how-it-works/) which was helpful to understand sombe basic steps that can be taken to understanding the logic behind Connect 4"
   ]
  },
  {
   "cell_type": "markdown",
   "metadata": {},
   "source": [
    "<div class=\"alert alert-block alert-warning\">\n",
    "**What makes Connect 4 harder than Tic-Tac-Toe**\n",
    "* 4,531,985,219,092 unique states for all game boards populated with 0 to 42 pieces\n",
    "* 42 moves in full game board = max search depth of 42.  \n",
    "* If most states have 7 valid moves, the search tree grows far to large to be fully searched, even with alpha-beta pruning.  \n",
    "* After 1 move there are 7 possible game states, after 2 there are 49, after 3 there are 343, after 4 there are 2401..."
   ]
  },
  {
   "cell_type": "markdown",
   "metadata": {},
   "source": [
    "<a id='Background'></a>\n",
    "## Background"
   ]
  },
  {
   "cell_type": "markdown",
   "metadata": {},
   "source": [
    "<a id='DandA'></a>\n",
    "A **Heuristic** is a search function that estimates the number of steps it would take to achieve a the goal state from a start state.  If a heuristic is **admissible** it never overestimates the cost of the minimum cost path from a node to the goal node (lecture notes 9 from [Chuck Anderson CS440](http://www.cs.colostate.edu/~anderson/cs440/doku.php))."
   ]
  },
  {
   "cell_type": "markdown",
   "metadata": {},
   "source": [
    "**Adversarial search** was introduced in lecture notes 11 from [Chuck Anderson CS440](http://www.cs.colostate.edu/~anderson/cs440/doku.php).  The notes focused on games that are deterministic and completely observable. In these games, we also assumed that the payoff to each player at the end of a game is equal and opposite, called **zero-sum**.  In a some games, it is required to subtract the outcome of player 1 from the outcome of player 2.  A game is defined as follows: "
   ]
  },
  {
   "cell_type": "markdown",
   "metadata": {},
   "source": [
    "Definition of a game:\n",
    "  * initial state $s_0$\n",
    "  * $player(s)$: which player is to move in state $s$,\n",
    "  * $actions(s)$: legal actions from state $s$,\n",
    "  * $result(s,a)$: state that results, like our `takeActionF`\n",
    "  * $terminalTest(s)$: true when game is over\n",
    "  * $utility(s,p)$: payoff for player $p$ upon reaching state $s$."
   ]
  },
  {
   "cell_type": "markdown",
   "metadata": {},
   "source": [
    "The notes also described **minimax**, a search algorithm in which the two players in a two person game will be called `Max` and `Min`. These names reflect the meaning of the $utility(s,p)$ function, which is to be maximized by Player `Max` and minimized by Player `Min`. "
   ]
  },
  {
   "cell_type": "markdown",
   "metadata": {},
   "source": [
    "The next note set (lecture notes 12 by Chuck Anderson) introduced the **negamax** algorithm compared to minimax.  Simply put, negamax search behaves identical to minimax, but rather than alternating between maximizing and minimizing steps, every step aims to maximize.  This can be achieved if the values from each node are negated every time and the utility in terminal states for one player is always the negative of the utility for the other player."
   ]
  },
  {
   "cell_type": "markdown",
   "metadata": {},
   "source": [
    "However, these search algorithms can be inefficient in games with large sets of possible terminal states.  To increase efficiency, **Alpha-Beta Pruning** can be applied to decrease the number of nodes that are evaluated.  "
   ]
  },
  {
   "cell_type": "markdown",
   "metadata": {},
   "source": [
    "For each node, keep track of \n",
    "\n",
    "$alpha$ is best value by any means\n",
    "  * Any value less than this is no use because we already now how to achieve at least a value of $alpha$\n",
    "  * Minimum value Max can get\n",
    "  * Initially, negative infinity\n",
    "\n",
    "*beta* is worst value for the opponent\n",
    "  * Anything higher than this won't be useful to opponent\n",
    "  * Maximum score Min can get\n",
    "  * Initially, infinity\n",
    "\n",
    "The span between *alpha* and *beta* progressively gets smaller.\n",
    "\n",
    "Any position for which *beta* < *alpha* can be pruned."
   ]
  },
  {
   "cell_type": "markdown",
   "metadata": {},
   "source": [
    "<a id='Methods'></a>\n",
    "## Methods"
   ]
  },
  {
   "cell_type": "markdown",
   "metadata": {},
   "source": [
    "My overall goal was to make an AI opponent that was good enough to beat me every time and made moves in a reasonable time.  I also wanted to test some heuristics against each other to determine which one gave the \"best\" game utility.  "
   ]
  },
  {
   "cell_type": "markdown",
   "metadata": {},
   "source": [
    "After I finished assignment 4, I was able to make a connect 4 game class.  But when I applied the negamax algorithms to the game, it was unable to search deep enough to make valuable move decisions. For this reason, I developed a heuristic function to estimate the value that a state had.  This heuristic is calculated when the game utility is requested on a game that is not over.  I used the zero-sum property to subtract Os utility from Xs, so the utility will be negated if the next player to move is O.  This code was functional and for a negamaxAB at depth 6, the program would usually beat me.  However, I was able to get a few wins and the program needed to be sped up."
   ]
  },
  {
   "cell_type": "markdown",
   "metadata": {},
   "source": [
    "<a id='EffSpeed'></a>\n",
    "### Increase game efficiency & speed\n",
    "<a id='UsingNumpy'></a>\n",
    "#### Using numpy board"
   ]
  },
  {
   "cell_type": "markdown",
   "metadata": {},
   "source": [
    "For my first attempt, I tried to make connect 4 by using a numpy 2d array for the board and functions.  Using numpy improved the simplicity of the connect 4 class because **it cut the lines of code from about 450 to about 200**. However, numpy actually slowed the program down overall.  I analyzed the speed of each below.  I looked at the speed of row, column, and diagonal access as they are the most used functions.  I also looked at the speed of making moves, unmaking moves, and checking win considering those functions will be repeated hundreds of thousands of times, if not millions for every game played. "
   ]
  },
  {
   "cell_type": "markdown",
   "metadata": {},
   "source": [
    "<a id='WONumpy'></a>\n",
    "#### Without numpy board"
   ]
  },
  {
   "cell_type": "markdown",
   "metadata": {},
   "source": [
    "The speed results showed that using numpy arrays for the board was not what I wanted.  While it improved the readability of the code, it slowed down the most used functions.  For this reason I decided to not use a numpy 2d array for the game board.  I then set out to speed up the program in other ways.  After many attempts, these changes had the most influence on speeding up the program:\n",
    "* 1.) Direct access of element in board for diagonals with hard coded spots\n",
    "* 2.) Simplified getMoves() - columns that have empty spots in top row\n",
    "* 3.) Check win by collapsing board down to string of rows, colums, and diagonals, then check for '*XXXX*' or '*OOOO*'\n",
    "\n",
    "I put these changes into a new class called *C4Fast.py*.  Speed is analyzed below for the functions *getDiagDown()*, *getDiagUp()*, *getMoves()*, *makeMove()*, *unmakeMove()*, and *isWon()*:"
   ]
  },
  {
   "cell_type": "code",
   "execution_count": 4,
   "metadata": {
    "collapsed": true
   },
   "outputs": [],
   "source": [
    "import time\n",
    "import ConnectFour\n",
    "import NewC4\n",
    "import C4Fast"
   ]
  },
  {
   "cell_type": "code",
   "execution_count": 322,
   "metadata": {
    "collapsed": true
   },
   "outputs": [],
   "source": [
    "%%capture\n",
    "reload(ConnectFour)\n",
    "reload(NewC4)\n",
    "reload(C4Fast)"
   ]
  },
  {
   "cell_type": "code",
   "execution_count": 199,
   "metadata": {
    "format": "column"
   },
   "outputs": [
    {
     "name": "stdout",
     "output_type": "stream",
     "text": [
      "Old version of connect 4\n",
      " _ 0 _ 1 _ 2 _ 3 _ 4 _ 5 _ 6 _\n",
      "0   |   | O |   |   |   |   |\n",
      "|---+---+---+---+---+---+---|\n",
      "1   |   | X |   |   |   |   |\n",
      "|---+---+---+---+---+---+---|\n",
      "2   |   | O | O |   |   |   |\n",
      "|---+---+---+---+---+---+---|\n",
      "3   |   | O | X |   |   |   |\n",
      "|---+---+---+---+---+---+---|\n",
      "4   | X | X | O |   |   |   |\n",
      "|---+---+---+---+---+---+---|\n",
      "5 O | X | X | X | O |   |   |\n",
      "-----------------------------\n",
      "\n",
      "Numpy board version of connect 4\n",
      " _ 0 _ 1 _ 2 _ 3 _ 4 _ 5 _ 6 _\n",
      "0   |   | O |   |   |   |   |\n",
      "|---+---+---+---+---+---+---|\n",
      "1   |   | X |   |   |   |   |\n",
      "|---+---+---+---+---+---+---|\n",
      "2   |   | O | O |   |   |   |\n",
      "|---+---+---+---+---+---+---|\n",
      "3   |   | O | X |   |   |   |\n",
      "|---+---+---+---+---+---+---|\n",
      "4   | X | X | O |   |   |   |\n",
      "|---+---+---+---+---+---+---|\n",
      "5 O | X | X | X | O |   |   |\n",
      "-----------------------------\n",
      "\n",
      "Fastest version of connect 4\n",
      " _ 0 _ 1 _ 2 _ 3 _ 4 _ 5 _ 6 _\n",
      "0   |   | O |   |   |   |   |\n",
      "|---+---+---+---+---+---+---|\n",
      "1   |   | X |   |   |   |   |\n",
      "|---+---+---+---+---+---+---|\n",
      "2   |   | O | O |   |   |   |\n",
      "|---+---+---+---+---+---+---|\n",
      "3   |   | O | X |   |   |   |\n",
      "|---+---+---+---+---+---+---|\n",
      "4   | X | X | O |   |   |   |\n",
      "|---+---+---+---+---+---+---|\n",
      "5 O | X | X | X | O |   |   |\n",
      "-----------------------------\n",
      "\n",
      "Compare getDiagDown() and getDiagUp()\n",
      "\tOld C4 took 2.88443 seconds\n",
      "\tNumpy C4 took 2.31641 seconds\n",
      "\tFast C4 took 0.85354 seconds\n",
      "\n",
      "Compare getMoves(), makeMove(), unmakeMove()\n",
      "\tOld C4 took 1.99901 seconds\n",
      "\tNumpy C4 took 4.22368 seconds\n",
      "\tFast C4 took 1.98220 seconds\n",
      "\n",
      "Compare isWon()\n",
      "\tOld C4 took 5.09411 seconds\n",
      "\tNumpy C4 took 14.98977 seconds\n",
      "\tFast C4 took 2.14845 seconds\n"
     ]
    }
   ],
   "source": [
    "c4_old = ConnectFour.C4(load=True) # Old c4 game with example state to test\n",
    "print('Old version of connect 4\\n', c4_old)\n",
    "c4_np = NewC4.NC4(load=True) # Numpy c4 game\n",
    "print('\\nNumpy board version of connect 4\\n', c4_np)\n",
    "c4_fast = C4Fast.C4(load=True) # Fastest c4 game\n",
    "print('\\nFastest version of connect 4\\n', c4_fast)\n",
    "\n",
    "# Compare diagonal access\n",
    "print('\\nCompare getDiagDown() and getDiagUp()')\n",
    "startTime = time.time()\n",
    "for i in range(100000):\n",
    "    ddown = c4_old.getDiagDown()\n",
    "    dup = c4_old.getDiagUp()\n",
    "print('\\tOld C4 took {0:.5f} seconds'.format(time.time() - startTime))\n",
    "startTime = time.time()\n",
    "for i in range(100000):\n",
    "    ddown = c4_np.getDiagDown()\n",
    "    dup = c4_np.getDiagUp()\n",
    "print('\\tNumpy C4 took {0:.5f} seconds'.format(time.time() - startTime))\n",
    "startTime = time.time()\n",
    "for i in range(100000):\n",
    "    ddown = c4_fast.getDiagDown()\n",
    "    dup = c4_fast.getDiagUp()\n",
    "print('\\tFast C4 took {0:.5f} seconds'.format(time.time() - startTime))\n",
    "\n",
    "# Compare get move, make move, and unmake move\n",
    "print('\\nCompare getMoves(), makeMove(), unmakeMove()')\n",
    "startTime = time.time()\n",
    "for i in range(100000):\n",
    "    move = c4_old.getMoves()[i%6]\n",
    "    c4_old.makeMove(move)\n",
    "    c4_old.unmakeMove(move)\n",
    "print('\\tOld C4 took {0:.5f} seconds'.format(time.time() - startTime))\n",
    "startTime = time.time()\n",
    "for i in range(100000):\n",
    "    move = c4_np.getMoves()[i%6]\n",
    "    c4_np.makeMove(move)\n",
    "    c4_np.unmakeMove(move)\n",
    "print('\\tNumpy C4 took {0:.5f} seconds'.format(time.time() - startTime))\n",
    "startTime = time.time()\n",
    "for i in range(100000):\n",
    "    move = c4_fast.getMoves()[i%6]\n",
    "    c4_fast.makeMove(move)\n",
    "    c4_fast.unmakeMove(move)\n",
    "print('\\tFast C4 took {0:.5f} seconds'.format(time.time() - startTime))\n",
    "\n",
    "# Compare win checking\n",
    "print('\\nCompare isWon()')\n",
    "startTime = time.time()\n",
    "for i in range(100000): c4_old.isWon()\n",
    "print('\\tOld C4 took {0:.5f} seconds'.format(time.time() - startTime))\n",
    "startTime = time.time()\n",
    "for i in range(100000): c4_np.isWon()\n",
    "print('\\tNumpy C4 took {0:.5f} seconds'.format(time.time() - startTime))\n",
    "startTime = time.time()\n",
    "for i in range(100000): c4_fast.isWon()\n",
    "print('\\tFast C4 took {0:.5f} seconds'.format(time.time() - startTime))"
   ]
  },
  {
   "cell_type": "markdown",
   "metadata": {},
   "source": [
    "<a id='UtFun'></a>\n",
    "### Utility Functions Using Heuristics\n",
    "<a id='Dev'></a>\n",
    "#### Development"
   ]
  },
  {
   "cell_type": "markdown",
   "metadata": {},
   "source": [
    "<div class=\"alert alert-block alert-info\">\n",
    "At this point, I decided to go without numpy 2d array for the board.  But I still needed to speed up the heuristic used in *getUtility()*.  To do this, **I added an argument in *getUtility()* for a heuristic-based function** that will estimate the value of a state that is not over.  If *None* is passed for this argument, the function simply returns 0.  This also would be helpful for me to create different functions and test them against each other.  The *getUtility()* function now looks like this\n",
    "```python\n",
    "def getUtility(self, utilityFunction = nextMoveWinCount): \n",
    "    won, winner = self.isWon()\n",
    "    if winner is 'X': return 1000 if self.nextPiece is 'X' else -1000\n",
    "    elif winner is 'O': return 1000 if self.nextPiece is 'O' else -1000\n",
    "    elif self.isFull(): return 0\n",
    "    else:\n",
    "        utilityValue = utilityFunction(self) if utilityFunction is not None else 0\n",
    "        return utilityValue if self.nextPiece is 'X' else (utilityValue * -1)\n",
    "```"
   ]
  },
  {
   "cell_type": "markdown",
   "metadata": {},
   "source": [
    "<div class=\"alert alert-block alert-info\">\n",
    "After I made this change, I had to change how *negamax* and *negamaxab* used *getUtility()*.  The reason why I did this is because I planned on eventually making different \"players\" that would use different heuistic-based functions.\n",
    "```python\n",
    "        def negamax(game, depthLeft, utilityFunction = None):\n",
    "        def negamaxab(game, depthLeft, utilityFunction = None, alpha = -float('Inf'), beta = float('Inf')):\n",
    "```\n",
    "And they would call *getUtility()* as\n",
    "```python\n",
    "        return game.getUtility(utilityFunction), None\n",
    "```"
   ]
  },
  {
   "cell_type": "markdown",
   "metadata": {},
   "source": [
    "<a id='O'></a>\n",
    "##### Original Heuristic"
   ]
  },
  {
   "cell_type": "markdown",
   "metadata": {},
   "source": [
    "The **original heuristic** I developed started simple but got messy quickly. Looking back at the code now, it is hard for me to remember what I was doing with every step.  But this function works as follows\n",
    "\n",
    "        For each row, column, and diagonal:\n",
    "            Get chunks of potential win spots for 'piece'\n",
    "        For these counts: \n",
    "            Take the largest count in all rows, columns, and diagonals\n",
    "        Square this number (because 3 in a row is much more valuable than 2, or 1)\n",
    "        Add them all together\n",
    "        Add 10 to this number for every move that would win the game right away\n",
    "        If one of the moves from getMoves() can win the game, return 500\n",
    "        Return this number for 'piece'\n",
    "\n",
    "This number is applied for *X* and for *O*.  Using zero-sum, subtract the counts of *O* from the counts of *X*."
   ]
  },
  {
   "cell_type": "markdown",
   "metadata": {},
   "source": [
    "<a id='C2W'></a>\n",
    "##### Count 2 Win Heuristic"
   ]
  },
  {
   "cell_type": "markdown",
   "metadata": {},
   "source": [
    "The next heuristic I developed was intended to be more straight forward.  I call this heuristic **Count2WinHeuristic** and it simply counts the open spots that would result in a win if a piece were to be placed there.  Here is how I do it for one piece type:\n",
    "\n",
    "        For every spot that is empty:\n",
    "            Put 'piece' there\n",
    "            If game is won, add 1 to singleCount, remove 'piece', and continue to next open spot\n",
    "            For every additional spot that is empty:\n",
    "                Put 'piece' there\n",
    "                If game is won, add 1 to doubleCount, remove 'piece', and continue to next open spot\n",
    "                For every additional spot that is empty:\n",
    "                    Put 'piece' there\n",
    "                    If game is won, add 1 to tripleCount, remove 'piece', and continue to next open spot\n",
    "                    Make third spot empty again\n",
    "                Make second spot empty again\n",
    "            Make first spot empty again\n",
    "        Return singleCount, doubleCount, tripleCount\n",
    "        \n",
    "These counts are made for *X* and for *O*.  Using zero-sum, subtract the counts of *O* from the counts of *X*, resulting in 3 values; *singleCountZeroSum*, *doubleCountZeroSum*, and *tripleCountZeroSum*.  At this point, I make 3 different utility values by combining the 3 zero-sum counts in different ways\n",
    "* **Utility1**: return $singleCountZeroSum + doubleCountZeroSum + tripleCountZeroSum$\n",
    "* **Utility2**: return $singleCountZeroSum * 3 + doubleCountZeroSum * 2 + tripleCountZeroSum$\n",
    "* **Utility3**: return $singleCountZeroSum^3 + doubleCountZeroSum^2 + tripleCountZeroSum$ making sure to restore negative to *doubleCountZeroSum* if it was negative before being squared \n",
    "\n",
    "The reason why I made these 3 utilities was because the counts for each move have different values.  Obviously, a win with 1 empty spot filled is more valuable than a win with 2 or 3 empty spots filled.  But what if there were many ways to win with 2 empty spots filled?  Each utility here puts weights to each of these counts.  If the weight is too high for *singleCountZeroSum*, the heuristic would be narrow-minded, but if the weight is too low, the heuristic would be more focused on getting 2 in a row."
   ]
  },
  {
   "cell_type": "markdown",
   "metadata": {},
   "source": [
    "<a id='S'></a>\n",
    "##### Simple Heuristic"
   ]
  },
  {
   "cell_type": "markdown",
   "metadata": {},
   "source": [
    "The simple heuristic does what *Count2WinHeuristic* does but only for one empty spot.  I developed this heuristic in hopes of making a control player to test heuristics - a player that is good enough to defend but can still be beat.  "
   ]
  },
  {
   "cell_type": "markdown",
   "metadata": {},
   "source": [
    "<a id='NMWC'></a>\n",
    "##### Next Move Win Count Heuristic "
   ]
  },
  {
   "cell_type": "markdown",
   "metadata": {},
   "source": [
    "Even more basic than *SimpleHeuristic*, *NextMoveWinCount* simply returns the number of moves from *getMoves()* that will win a game for the next piece.  It negates this number if the next piece is O to comply with the zero-sum property. This is the default heuristic used in *getUtility()*.  It is basically a search algorithm that only searches a depth of 1."
   ]
  },
  {
   "cell_type": "markdown",
   "metadata": {},
   "source": [
    "<a id='Examples'></a>\n",
    "#### Examples"
   ]
  },
  {
   "cell_type": "code",
   "execution_count": 4,
   "metadata": {
    "collapsed": true
   },
   "outputs": [],
   "source": [
    "import OriginalHeuristic # OrigonalHeuristic\n",
    "import Count2WinHeuristic # Count2WinHeuristic 1, 2, & 3\n",
    "import SimpleHeuristic # SimpleHeuristic\n",
    "from C4Helpers import * # NextMoveWinCount\n",
    "from ListTable import * # For the tables I use"
   ]
  },
  {
   "cell_type": "code",
   "execution_count": 192,
   "metadata": {
    "collapsed": true
   },
   "outputs": [],
   "source": [
    "%%capture\n",
    "reload(OriginalHeuristic)\n",
    "reload(Count2WinHeuristic)\n",
    "reload(SimpleHeuristic)"
   ]
  },
  {
   "cell_type": "markdown",
   "metadata": {},
   "source": [
    "<a id='E1'></a>\n",
    "##### Example 1"
   ]
  },
  {
   "cell_type": "markdown",
   "metadata": {},
   "source": [
    "<div class=\"alert alert-block alert-success\">\n",
    "What would one value the following state if they were player *X*? Is this board more favorable for player *X* or for player *O*? I will answer this question using *getUtility()* and each heuristic.  A higher value indicates a more favorable state for *X*, while a negative number means the state is more favorable for *O*. "
   ]
  },
  {
   "cell_type": "code",
   "execution_count": 125,
   "metadata": {
    "format": "column"
   },
   "outputs": [
    {
     "name": "stdout",
     "output_type": "stream",
     "text": [
      "_ 0 _ 1 _ 2 _ 3 _ 4 _ 5 _ 6 _\n",
      "0   |   | O |   |   |   |   |\n",
      "|---+---+---+---+---+---+---|\n",
      "1   |   | X |   |   |   |   |\n",
      "|---+---+---+---+---+---+---|\n",
      "2   |   | O | O |   |   |   |\n",
      "|---+---+---+---+---+---+---|\n",
      "3   |   | O | X |   |   |   |\n",
      "|---+---+---+---+---+---+---|\n",
      "4   | X | X | O |   |   |   |\n",
      "|---+---+---+---+---+---+---|\n",
      "5 O | X | X | X | O |   |   |\n",
      "----------------------------- Next piece is X\n"
     ]
    }
   ],
   "source": [
    "TestC4 = C4Fast.C4(load=True)\n",
    "print(TestC4, 'Next piece is', TestC4.nextPiece)"
   ]
  },
  {
   "cell_type": "code",
   "execution_count": 126,
   "metadata": {
    "format": "column"
   },
   "outputs": [
    {
     "name": "stdout",
     "output_type": "stream",
     "text": [
      "Original: 0\n",
      "Count2Win 1: -7\n",
      "Count2Win 2: -10\n",
      "Count2Win 3: -13\n",
      "Simple: 0\n",
      "NextMoveWinCount: 0\n",
      "No Heuristic: 0\n"
     ]
    }
   ],
   "source": [
    "print('Original:', TestC4.getUtility(OriginalHeuristic.utility))\n",
    "print('Count2Win 1:', TestC4.getUtility(Count2WinHeuristic.utility1))\n",
    "print('Count2Win 2:', TestC4.getUtility(Count2WinHeuristic.utility2))\n",
    "print('Count2Win 3:', TestC4.getUtility(Count2WinHeuristic.utility3))\n",
    "print('Simple:', TestC4.getUtility(SimpleHeuristic.utility))\n",
    "print('NextMoveWinCount:', TestC4.getUtility())\n",
    "print('No Heuristic:', TestC4.getUtility(None))"
   ]
  },
  {
   "cell_type": "markdown",
   "metadata": {},
   "source": [
    "But which move should be made based off each heuristic? We can determine this by making a move and evaluate the resulting utility.  But the utility will come back from the perspective of *O*, so we need to negate it. "
   ]
  },
  {
   "cell_type": "code",
   "execution_count": 196,
   "metadata": {
    "format": "row"
   },
   "outputs": [
    {
     "data": {
      "text/html": [
       "<table><tr><td>Move Made By X</td><td>Original</td><td>Count2Win 1</td><td>Count2Win 2</td><td>Count2Win 3</td><td>Simple</td><td>NextMoveWinCount</td><td>None</td></tr><tr><td>0</td><td>-7</td><td>6</td><td>6</td><td>12</td><td>-2</td><td>-1</td><td>0</td></tr><tr><td>1</td><td>1000</td><td>1000</td><td>1000</td><td>1000</td><td>1000</td><td>1000</td><td>1000</td></tr><tr><td>3</td><td>-10</td><td>8</td><td>8</td><td>14</td><td>-2</td><td>-1</td><td>0</td></tr><tr><td>4</td><td>-7</td><td>8</td><td>9</td><td>22</td><td>-2</td><td>-1</td><td>0</td></tr><tr><td>5</td><td>-10</td><td>5</td><td>4</td><td>5</td><td>-2</td><td>-1</td><td>0</td></tr><tr><td>6</td><td>-10</td><td>6</td><td>6</td><td>12</td><td>-2</td><td>-1</td><td>0</td></tr></table>"
      ],
      "text/plain": [
       "[['Move Made By X',\n",
       "  'Original',\n",
       "  'Count2Win 1',\n",
       "  'Count2Win 2',\n",
       "  'Count2Win 3',\n",
       "  'Simple',\n",
       "  'NextMoveWinCount',\n",
       "  'None'],\n",
       " [0, -7, 6, 6, 12, -2, -1, 0],\n",
       " [1, 1000, 1000, 1000, 1000, 1000, 1000, 1000],\n",
       " [3, -10, 8, 8, 14, -2, -1, 0],\n",
       " [4, -7, 8, 9, 22, -2, -1, 0],\n",
       " [5, -10, 5, 4, 5, -2, -1, 0],\n",
       " [6, -10, 6, 6, 12, -2, -1, 0]]"
      ]
     },
     "execution_count": 196,
     "metadata": {},
     "output_type": "execute_result"
    }
   ],
   "source": [
    "table = ListTable()\n",
    "table.append(['Move Made By X', 'Original', 'Count2Win 1', 'Count2Win 2', 'Count2Win 3', \n",
    "              'Simple', 'NextMoveWinCount', 'None'])\n",
    "for move in TestC4.getMoves(): # Loop through all moves that X can make\n",
    "    TestC4.makeMove(move)\n",
    "    table.append([move, -TestC4.getUtility(OriginalHeuristic.utility), \n",
    "                  -TestC4.getUtility(Count2WinHeuristic.utility1),\n",
    "                  -TestC4.getUtility(Count2WinHeuristic.utility2),\n",
    "                  -TestC4.getUtility(Count2WinHeuristic.utility3),\n",
    "                  -TestC4.getUtility(SimpleHeuristic.utility),\n",
    "                  -TestC4.getUtility(),\n",
    "                  -TestC4.getUtility(None)])\n",
    "    TestC4.unmakeMove(move)\n",
    "table"
   ]
  },
  {
   "cell_type": "markdown",
   "metadata": {},
   "source": [
    "The largest number in each column corresponds with the row for move that the utility function would suggest.  *OriginalHeuristic* and *SimpleHeuristic* would make move 1, which would allow player *O* to make move 1 and win the game.  *OriginalHeuristic* and *SimpleHeuristic* choose this move because it would create two 'three in a row' runs for *X*.  In fact, move 1 would be the WORST move to make at this state.  "
   ]
  },
  {
   "cell_type": "markdown",
   "metadata": {},
   "source": [
    "This is basically the process that *negamax* would take if it were to search max depth 1.  In fact, if you call *negamax* with this data, it will return matching information (*bestValue*, *bestMove*) from the table above.   "
   ]
  },
  {
   "cell_type": "markdown",
   "metadata": {},
   "source": [
    "<a id='E2'></a>\n",
    "##### Example 2"
   ]
  },
  {
   "cell_type": "markdown",
   "metadata": {},
   "source": [
    "<div class=\"alert alert-block alert-success\">\n",
    "Repeat the process above if *X* made move 1.  This time, don't negate the value because it will come back from the perspective of *X*.  "
   ]
  },
  {
   "cell_type": "code",
   "execution_count": 190,
   "metadata": {
    "format": "column"
   },
   "outputs": [
    {
     "name": "stdout",
     "output_type": "stream",
     "text": [
      "_ 0 _ 1 _ 2 _ 3 _ 4 _ 5 _ 6 _\n",
      "0   |   | O |   |   |   |   |\n",
      "|---+---+---+---+---+---+---|\n",
      "1   |   | X |   |   |   |   |\n",
      "|---+---+---+---+---+---+---|\n",
      "2   |   | O | O |   |   |   |\n",
      "|---+---+---+---+---+---+---|\n",
      "3   | X | O | X |   |   |   |\n",
      "|---+---+---+---+---+---+---|\n",
      "4   | X | X | O |   |   |   |\n",
      "|---+---+---+---+---+---+---|\n",
      "5 O | X | X | X | O |   |   |\n",
      "-----------------------------\n"
     ]
    }
   ],
   "source": [
    "TestC4.makeMove(1)\n",
    "print(TestC4)"
   ]
  },
  {
   "cell_type": "code",
   "execution_count": 197,
   "metadata": {},
   "outputs": [
    {
     "data": {
      "text/html": [
       "<table><tr><td>Move Made By O</td><td>Original</td><td>Count2Win 1</td><td>Count2Win 2</td><td>Count2Win 3</td><td>Simple</td><td>NextMoveWinCount</td><td>None</td></tr><tr><td>0</td><td>7</td><td>-6</td><td>-6</td><td>-12</td><td>2</td><td>1</td><td>0</td></tr><tr><td>1</td><td>-1000</td><td>-1000</td><td>-1000</td><td>-1000</td><td>-1000</td><td>-1000</td><td>-1000</td></tr><tr><td>3</td><td>10</td><td>-8</td><td>-8</td><td>-14</td><td>2</td><td>1</td><td>0</td></tr><tr><td>4</td><td>7</td><td>-8</td><td>-9</td><td>-22</td><td>2</td><td>1</td><td>0</td></tr><tr><td>5</td><td>10</td><td>-5</td><td>-4</td><td>-5</td><td>2</td><td>1</td><td>0</td></tr><tr><td>6</td><td>10</td><td>-6</td><td>-6</td><td>-12</td><td>2</td><td>1</td><td>0</td></tr></table>"
      ],
      "text/plain": [
       "[['Move Made By O',\n",
       "  'Original',\n",
       "  'Count2Win 1',\n",
       "  'Count2Win 2',\n",
       "  'Count2Win 3',\n",
       "  'Simple',\n",
       "  'NextMoveWinCount',\n",
       "  'None'],\n",
       " [0, 7, -6, -6, -12, 2, 1, 0],\n",
       " [1, -1000, -1000, -1000, -1000, -1000, -1000, -1000],\n",
       " [3, 10, -8, -8, -14, 2, 1, 0],\n",
       " [4, 7, -8, -9, -22, 2, 1, 0],\n",
       " [5, 10, -5, -4, -5, 2, 1, 0],\n",
       " [6, 10, -6, -6, -12, 2, 1, 0]]"
      ]
     },
     "execution_count": 197,
     "metadata": {},
     "output_type": "execute_result"
    }
   ],
   "source": [
    "table = ListTable()\n",
    "table.append(['Move Made By O', 'Original', 'Count2Win 1', 'Count2Win 2', 'Count2Win 3', \n",
    "              'Simple', 'NextMoveWinCount', 'None'])\n",
    "for move in TestC4.getMoves(): # Loop through all moves that O can make\n",
    "    TestC4.makeMove(move)\n",
    "    table.append([move, TestC4.getUtility(OriginalHeuristic.utility), \n",
    "                  TestC4.getUtility(Count2WinHeuristic.utility1),\n",
    "                  TestC4.getUtility(Count2WinHeuristic.utility2),\n",
    "                  TestC4.getUtility(Count2WinHeuristic.utility3),\n",
    "                  TestC4.getUtility(SimpleHeuristic.utility),\n",
    "                  TestC4.getUtility(),\n",
    "                  TestC4.getUtility(None)])\n",
    "    TestC4.unmakeMove(move)\n",
    "table"
   ]
  },
  {
   "cell_type": "markdown",
   "metadata": {},
   "source": [
    "The interpretation of this table is different than *Example 1* because they represent moves that *O* can make.  The Presence of $-1000$ indicates that the game can be won by O with that move.  If this example was being used by *NegamaxAB* it would indicate an opportunity to prune move from *Example 1*."
   ]
  },
  {
   "cell_type": "markdown",
   "metadata": {},
   "source": [
    "<a id='Eval'></a>\n",
    "#### Performance evaluation"
   ]
  },
  {
   "cell_type": "code",
   "execution_count": 8,
   "metadata": {
    "collapsed": true
   },
   "outputs": [],
   "source": [
    "import math\n",
    "import random\n",
    "import matplotlib.pyplot as plt"
   ]
  },
  {
   "cell_type": "code",
   "execution_count": 11,
   "metadata": {
    "collapsed": true
   },
   "outputs": [],
   "source": [
    "TestC4 = C4Fast.C4()\n",
    "utilityList = [None, nextMoveWinCount, SimpleHeuristic.utility, OriginalHeuristic.utility,\n",
    "               Count2WinHeuristic.utility1, Count2WinHeuristic.utility2, Count2WinHeuristic.utility3]\n",
    "utilityNames = ['None', 'Next Move Win Count', 'Simple', 'Original', 'C2W 1', 'C2W 2', 'C2W 3']"
   ]
  },
  {
   "cell_type": "markdown",
   "metadata": {},
   "source": [
    "<a id='Speed'></a>\n",
    "##### Speed"
   ]
  },
  {
   "cell_type": "markdown",
   "metadata": {},
   "source": [
    "The following plot shows the speed of each utility function.  We can see that the quickest result comes from not using a utility function and the slowest result comes from *SimpleHeuristic*.  This is very helpful because I was planning on testing heuristics with *SimpleHeuristic* which I will not do now because it will take much longer.  I am happy to see that the 3 utilities from *Count2Win* are almost the exact same speed and much faster than the original heuristic I developed. \n",
    "\n",
    "The table shows the values returned by *Negamax* at each depth for each utility function.  This table indicates that *None*, *NextMoveWinCount*, and *Simple* heuristics aren't very helpful to *Negamax* during early states of connect 4.  This makes sense because they all depend on finding a winning game which cannot happen after 6 moves.  The table also indicates that making the first move in column 3 is favored the most. "
   ]
  },
  {
   "cell_type": "code",
   "execution_count": 13,
   "metadata": {
    "format": "column"
   },
   "outputs": [
    {
     "data": {
      "image/png": "[encoded data removed]",
      "text/plain": [
       "<matplotlib.figure.Figure at 0x10b3935c0>"
      ]
     },
     "metadata": {},
     "output_type": "display_data"
    },
    {
     "data": {
      "text/html": [
       "<table><tr><td>    </td><td>Depth 1</td><td>Depth 2</td><td>Depth 3</td><td>Depth 4</td><td>Depth 5</td><td>Depth 6</td></tr><tr><td>None</td><td>(0, 0)</td><td>(0, 0)</td><td>(0, 0)</td><td>(0, 0)</td><td>(0, 0)</td><td>(0, 0)</td></tr><tr><td>Next Move Win Count</td><td>(0, 0)</td><td>(0, 0)</td><td>(0, 0)</td><td>(0, 0)</td><td>(0, 0)</td><td>(0, 0)</td></tr><tr><td>Simple</td><td>(0, 0)</td><td>(0, 0)</td><td>(0, 0)</td><td>(0, 0)</td><td>(0, 0)</td><td>(0, 0)</td></tr><tr><td>Original</td><td>(4, 3)</td><td>(-1, 3)</td><td>(3, 2)</td><td>(-2, 0)</td><td>(8, 3)</td><td>(-1, 3)</td></tr><tr><td>C2W 1</td><td>(7, 3)</td><td>(-3, 1)</td><td>(9, 3)</td><td>(-2, 3)</td><td>(6, 3)</td><td>(0, 3)</td></tr><tr><td>C2W 2</td><td>(7, 3)</td><td>(-3, 1)</td><td>(9, 3)</td><td>(-2, 3)</td><td>(8, 4)</td><td>(-1, 3)</td></tr><tr><td>C2W 3</td><td>(7, 3)</td><td>(-3, 1)</td><td>(9, 3)</td><td>(-2, 3)</td><td>(9, 3)</td><td>(-1, 3)</td></tr></table>"
      ],
      "text/plain": [
       "[['    ', 'Depth 1', 'Depth 2', 'Depth 3', 'Depth 4', 'Depth 5', 'Depth 6'],\n",
       " ['None', (0, 0), (0, 0), (0, 0), (0, 0), (0, 0), (0, 0)],\n",
       " ['Next Move Win Count', (0, 0), (0, 0), (0, 0), (0, 0), (0, 0), (0, 0)],\n",
       " ['Simple', (0, 0), (0, 0), (0, 0), (0, 0), (0, 0), (0, 0)],\n",
       " ['Original', (4, 3), (-1, 3), (3, 2), (-2, 0), (8, 3), (-1, 3)],\n",
       " ['C2W 1', (7, 3), (-3, 1), (9, 3), (-2, 3), (6, 3), (0, 3)],\n",
       " ['C2W 2', (7, 3), (-3, 1), (9, 3), (-2, 3), (8, 4), (-1, 3)],\n",
       " ['C2W 3', (7, 3), (-3, 1), (9, 3), (-2, 3), (9, 3), (-1, 3)]]"
      ]
     },
     "execution_count": 13,
     "metadata": {},
     "output_type": "execute_result"
    }
   ],
   "source": [
    "table = ListTable()\n",
    "table.append(['    ', 'Depth 1', 'Depth 2', 'Depth 3', 'Depth 4', 'Depth 5', 'Depth 6'])\n",
    "plt.figure(figsize=(15,15))\n",
    "plt.subplot(3,1,1)\n",
    "\n",
    "for i in range(len(utilityList)):\n",
    "    row = [utilityNames[i]]\n",
    "    trackTime = [0]\n",
    "    trackValMove = []\n",
    "    for depth in range(1,7):\n",
    "        startTime = time.time()\n",
    "        bestValue, bestMove = Negamax.negamax(TestC4, depth, utilityList[i])\n",
    "        searchTime = time.time()-startTime\n",
    "        trackTime.append(searchTime)\n",
    "        trackValMove.append((bestValue, bestMove))\n",
    "    plt.plot(trackTime, label = utilityNames[i])\n",
    "    row.extend(trackValMove)\n",
    "    table.append(row)\n",
    "plt.legend(bbox_to_anchor=(1.05, 1), loc=2, borderaxespad=0.)\n",
    "plt.title('Negamax Search Time vs Depth')\n",
    "plt.xlabel('Depth')\n",
    "plt.ylabel('Time (Seconds)')\n",
    "plt.axis([1, 6.5, -5, 215])\n",
    "plt.show()\n",
    "table"
   ]
  },
  {
   "cell_type": "markdown",
   "metadata": {},
   "source": [
    "<a id='EBF'></a>\n",
    "##### Effective Branching Factor"
   ]
  },
  {
   "cell_type": "markdown",
   "metadata": {},
   "source": [
    "The following plot shows the effective branching factor for each heuristic as depth increases using *NegamaxAB* because it allows the heuristic utilities to prune moves.  You can see that *OriginalHeuristic* had the worst effective branching factor, meaning it was the least efficient.  *Count2Win.Utility1*, *Count2Win.Utility2*, and *Count2Win.Utility3* are among the most efficient heuristics to apply to *NegamaxAB* which indicates that they might be good utilities to use for game play.\n",
    "\n",
    "The table shows the (*score*, *move*) that each heuristic gets at each depth.  They are actually exactly the same when using *negamax* but this is expected because *negamax* searched all the nodes that *NegamaxAB* searched."
   ]
  },
  {
   "cell_type": "code",
   "execution_count": 9,
   "metadata": {
    "collapsed": true
   },
   "outputs": [],
   "source": [
    "from ebf import *"
   ]
  },
  {
   "cell_type": "code",
   "execution_count": 15,
   "metadata": {
    "format": "row"
   },
   "outputs": [
    {
     "data": {
      "image/png": "[encoded data removed]",
      "text/plain": [
       "<matplotlib.figure.Figure at 0x10bad9128>"
      ]
     },
     "metadata": {},
     "output_type": "display_data"
    },
    {
     "data": {
      "text/html": [
       "<table><tr><td>    </td><td>Depth 1</td><td>Depth 2</td><td>Depth 3</td><td>Depth 4</td><td>Depth 5</td><td>Depth 6</td></tr><tr><td>None</td><td>(0, 0)</td><td>(0, 0)</td><td>(0, 0)</td><td>(0, 0)</td><td>(0, 0)</td><td>(0, 0)</td></tr><tr><td>Next Move Win Count</td><td>(0, 0)</td><td>(0, 0)</td><td>(0, 0)</td><td>(0, 0)</td><td>(0, 0)</td><td>(0, 0)</td></tr><tr><td>Simple</td><td>(0, 0)</td><td>(0, 0)</td><td>(0, 0)</td><td>(0, 0)</td><td>(0, 0)</td><td>(0, 0)</td></tr><tr><td>Original</td><td>(4, 3)</td><td>(-1, 3)</td><td>(3, 2)</td><td>(-2, 0)</td><td>(8, 3)</td><td>(-1, 3)</td></tr><tr><td>C2W 1</td><td>(7, 3)</td><td>(-3, 1)</td><td>(9, 3)</td><td>(-2, 3)</td><td>(6, 3)</td><td>(0, 3)</td></tr><tr><td>C2W 2</td><td>(7, 3)</td><td>(-3, 1)</td><td>(9, 3)</td><td>(-2, 3)</td><td>(8, 4)</td><td>(-1, 3)</td></tr><tr><td>C2W 3</td><td>(7, 3)</td><td>(-3, 1)</td><td>(9, 3)</td><td>(-2, 3)</td><td>(9, 3)</td><td>(-1, 3)</td></tr></table>"
      ],
      "text/plain": [
       "[['    ', 'Depth 1', 'Depth 2', 'Depth 3', 'Depth 4', 'Depth 5', 'Depth 6'],\n",
       " ['None', (0, 0), (0, 0), (0, 0), (0, 0), (0, 0), (0, 0)],\n",
       " ['Next Move Win Count', (0, 0), (0, 0), (0, 0), (0, 0), (0, 0), (0, 0)],\n",
       " ['Simple', (0, 0), (0, 0), (0, 0), (0, 0), (0, 0), (0, 0)],\n",
       " ['Original', (4, 3), (-1, 3), (3, 2), (-2, 0), (8, 3), (-1, 3)],\n",
       " ['C2W 1', (7, 3), (-3, 1), (9, 3), (-2, 3), (6, 3), (0, 3)],\n",
       " ['C2W 2', (7, 3), (-3, 1), (9, 3), (-2, 3), (8, 4), (-1, 3)],\n",
       " ['C2W 3', (7, 3), (-3, 1), (9, 3), (-2, 3), (9, 3), (-1, 3)]]"
      ]
     },
     "execution_count": 15,
     "metadata": {},
     "output_type": "execute_result"
    }
   ],
   "source": [
    "EBFtable = ListTable()\n",
    "EBFtable.append(['    ', 'Depth 1', 'Depth 2', 'Depth 3', 'Depth 4', 'Depth 5', 'Depth 6'])\n",
    "plt.figure(figsize=(15,15))\n",
    "plt.subplot(3,1,1)\n",
    "\n",
    "for i in range(len(utilityList)):\n",
    "    row = [utilityNames[i]]\n",
    "    trackMovesExplored = []\n",
    "    trackValMove = []\n",
    "    for depth in range(7):\n",
    "        TestC4 = C4Fast.C4() # Reset the moves explored\n",
    "        bestValue, bestMove = NegamaxAB.negamaxab(TestC4, depth, utilityList[i])\n",
    "        if depth == 0:\n",
    "            trackMovesExplored.append(0)\n",
    "        else:\n",
    "            trackMovesExplored.append(ebf(TestC4.movesExplored, depth)) \n",
    "            trackValMove.append((bestValue, bestMove))\n",
    "    if i == 5:\n",
    "        c2w2 = trackMovesExplored\n",
    "    plt.plot(trackMovesExplored, label = utilityNames[i])\n",
    "    row.extend(trackValMove)\n",
    "    EBFtable.append(row)\n",
    "plt.legend(bbox_to_anchor=(1.05, 1), loc=2, borderaxespad=0.)\n",
    "plt.title('NegamaxAB Nodes Explored vs Depth: EBF')\n",
    "plt.xlabel('Depth')\n",
    "plt.ylabel('Effective Branching Factor')\n",
    "plt.axis([0, 6, -1, 35])\n",
    "plt.show()\n",
    "EBFtable"
   ]
  },
  {
   "cell_type": "markdown",
   "metadata": {},
   "source": [
    "<a id='Results'></a>\n",
    "## Results"
   ]
  },
  {
   "cell_type": "markdown",
   "metadata": {},
   "source": [
    "The file *PlayC4.py* contains the functions:\n",
    "- *playC4(game, player1, player2, track = True)*: automates a game between *player1* and *player2* which are functions that are passed *game* and return *score*, *move* for each turn.  Player 1 is always X and goes first.\n",
    "- *tournamentC4(playerList, playerNames = None, track = True)*: round robin match system where every player plays every other player (including itself) twice; once as the first player to move and once as the second player to move. "
   ]
  },
  {
   "cell_type": "markdown",
   "metadata": {},
   "source": [
    "The file *C4Players.py* contains the functions:\n",
    "- *UI(game, utilityFunction = None)*: Player that takes user input for each move\n",
    "- *listInput(game, moveList, utilityFunction = None)*: Player that takes moves from *moveList* in order for each move\n",
    "- *randomMove(game, utilityFunction = None)*: Player makes random move from moves that generate highest game utility using *utilityFunction*"
   ]
  },
  {
   "cell_type": "markdown",
   "metadata": {},
   "source": [
    "Another useful function that I put into *C4Fast.py* is *makeRandomMoves(nMoves)*.  When called, the function will make *nMoves* number of random moves on the game that do not end the game.  It is also used to start a connect 4 game at a random state when *C4(randomStart = True)* is called."
   ]
  },
  {
   "cell_type": "code",
   "execution_count": 8,
   "metadata": {
    "collapsed": true
   },
   "outputs": [],
   "source": [
    "from PlayC4 import *"
   ]
  },
  {
   "cell_type": "markdown",
   "metadata": {},
   "source": [
    "<a id='UvR'></a>\n",
    "### Utility vs Random"
   ]
  },
  {
   "cell_type": "markdown",
   "metadata": {},
   "source": [
    "To test if each utility is actually useful, I match each utility up against a player that makes random moves that dont result in a loss using *NextMoveWinCount*.  Each game will be played 10 times where the random move gets to go first.  If there is ever a loss it would show that the utility is quite useless."
   ]
  },
  {
   "cell_type": "markdown",
   "metadata": {},
   "source": [
    "The results from this experiment are very reassuring because you can see that *NegamaxAB* without a utility function is almost useless until the end of the game.  In fact, it only wins about 20% of the time against a random opponent.  When I created *OriginalHeuristic*, I was quite sure it was unbeatable, but it is obviously not if it can lose to a random opponent, as is *Count2Win.utility1*.  Since *Count2Win.utility2* and *Count2Win.utility3* didn't lose a game, I will test them further."
   ]
  },
  {
   "cell_type": "code",
   "execution_count": 317,
   "metadata": {
    "collapsed": true
   },
   "outputs": [],
   "source": [
    "utilityList = [None, nextMoveWinCount, OriginalHeuristic.utility,\n",
    "               Count2WinHeuristic.utility1, Count2WinHeuristic.utility2, Count2WinHeuristic.utility3]\n",
    "utilityNames = ['None', 'Next Move Win Count', 'Original', 'C2W 1', 'C2W 2', 'C2W 3']"
   ]
  },
  {
   "cell_type": "code",
   "execution_count": 325,
   "metadata": {
    "format": "column",
    "scrolled": true
   },
   "outputs": [
    {
     "name": "stdout",
     "output_type": "stream",
     "text": [
      "Utility None won 2 out of 10 games\n",
      "Utility Next Move Win Count won 3 out of 10 games\n",
      "Utility Original won 9 out of 10 games\n",
      "Utility C2W 1 won 9 out of 10 games\n",
      "Utility C2W 2 won 10 out of 10 games\n",
      "Utility C2W 3 won 10 out of 10 games\n"
     ]
    }
   ],
   "source": [
    "Random_NMWC = lambda game: randomMove(game, nextMoveWinCount)\n",
    "\n",
    "for i in range(len(utilityList)):\n",
    "    player2 = lambda game: NegamaxAB.negamaxab(game, 4, utilityList[i])\n",
    "    lossCount = 0\n",
    "    for nGame in range(10):\n",
    "        newC4 = C4Fast.C4()\n",
    "        path, player1Moves, player1Scores, player2Moves, player2Scores = playC4(newC4, Random_NMWC, player2, track=False)\n",
    "        if newC4.isWon()[1] == 'X': lossCount += 1\n",
    "    print('Utility {} won {} out of 10 games'.format(utilityNames[i], 10 - lossCount))\n",
    "    "
   ]
  },
  {
   "cell_type": "markdown",
   "metadata": {},
   "source": [
    "<a id='Tournament'></a>\n",
    "### Tournament"
   ]
  },
  {
   "cell_type": "markdown",
   "metadata": {},
   "source": [
    "<a id='UtilityTournament'></a>\n",
    "#### Utility Tournament"
   ]
  },
  {
   "cell_type": "markdown",
   "metadata": {},
   "source": [
    "This tournament was set up with 6 players each using *NegamaxAB*, max depth 4, and using all 6 heuristic utility functions. The results of the tournament come in the form of a dictionary.  The dictionary keys are the player names in *utilityNames*.  The values are a list of all players that defeated *key* when *key* took the first move. As expected, *Count2Win.Utility2* and *Count2Win.Utility3* did not lose when they went first.  But what is really interesting is that *Count2Win.Utility2* won every game it played accept when it played against *Count2Win.Utility1* and went second.  This further proves that *Count2Win.Utility2* is the best heuristic utility to use."
   ]
  },
  {
   "cell_type": "code",
   "execution_count": 330,
   "metadata": {
    "collapsed": true
   },
   "outputs": [],
   "source": [
    "utilityList = [None, C4Helpers.nextMoveWinCount, SimpleHeuristic.utility, OriginalHeuristic.utility,\n",
    "                   Count2WinHeuristic.utility1, Count2WinHeuristic.utility2, Count2WinHeuristic.utility3]\n",
    "utilityNames = ['None', 'Next Move Win Count', 'Simple', 'Original', 'C2W 1', 'C2W 2', 'C2W 3']"
   ]
  },
  {
   "cell_type": "code",
   "execution_count": 331,
   "metadata": {
    "collapsed": true
   },
   "outputs": [],
   "source": [
    "player1 = lambda game: NegamaxAB.negamaxab(game, 4, utilityList[0])\n",
    "player2 = lambda game: NegamaxAB.negamaxab(game, 4, utilityList[1])\n",
    "player3 = lambda game: NegamaxAB.negamaxab(game, 4, utilityList[2])\n",
    "player4 = lambda game: NegamaxAB.negamaxab(game, 4, utilityList[3])\n",
    "player5 = lambda game: NegamaxAB.negamaxab(game, 4, utilityList[4])\n",
    "player6 = lambda game: NegamaxAB.negamaxab(game, 4, utilityList[5])"
   ]
  },
  {
   "cell_type": "code",
   "execution_count": 332,
   "metadata": {
    "collapsed": true
   },
   "outputs": [],
   "source": [
    "tournamentDict = tournamentC4([player1, player2, player3, player4, player5, player6], utilityNames, track=False)"
   ]
  },
  {
   "cell_type": "code",
   "execution_count": 333,
   "metadata": {},
   "outputs": [
    {
     "name": "stdout",
     "output_type": "stream",
     "text": [
      "None lost as X against: ['None', 'Next Move Win Count', 'Original', 'C2W 1', 'C2W 2']\n",
      "Next Move Win Count lost as X against: ['None', 'Next Move Win Count', 'Original', 'C2W 1', 'C2W 2']\n",
      "Simple lost as X against: ['Original', 'C2W 1', 'C2W 2']\n",
      "Original lost as X against: ['Original', 'C2W 1', 'C2W 2']\n",
      "C2W 1 lost as X against: ['Simple', 'Original', 'C2W 1']\n",
      "C2W 2 lost as X against: []\n",
      "C2W 3 lost as X against: []\n"
     ]
    }
   ],
   "source": [
    "for name in tournamentDict:\n",
    "    print('{} lost as X against: {}'.format(name, tournamentDict.get(name)))"
   ]
  },
  {
   "cell_type": "markdown",
   "metadata": {},
   "source": [
    "<a id='DepthTournament'></a>\n",
    "#### Depth Tournament "
   ]
  },
  {
   "cell_type": "markdown",
   "metadata": {},
   "source": [
    "This tournament was set up using *Count2Win.Utility2*, *NegamaxAB*, and depths 1 - 6.  The results are as expected; the largest depth was the overall winner.  But what is also shown by these results are that odd number depths preform worse than even.  This is because in a two player game, even depths end by evaluating the states resulting from the opponent's move."
   ]
  },
  {
   "cell_type": "code",
   "execution_count": 17,
   "metadata": {
    "collapsed": true
   },
   "outputs": [],
   "source": [
    "player1 = lambda game: NegamaxAB.negamaxab(game, 1, Count2WinHeuristic.utility2)\n",
    "player2 = lambda game: NegamaxAB.negamaxab(game, 2, Count2WinHeuristic.utility2)\n",
    "player3 = lambda game: NegamaxAB.negamaxab(game, 3, Count2WinHeuristic.utility2)\n",
    "player4 = lambda game: NegamaxAB.negamaxab(game, 4, Count2WinHeuristic.utility2)\n",
    "player5 = lambda game: NegamaxAB.negamaxab(game, 5, Count2WinHeuristic.utility2)\n",
    "player6 = lambda game: NegamaxAB.negamaxab(game, 6, Count2WinHeuristic.utility2)"
   ]
  },
  {
   "cell_type": "code",
   "execution_count": 18,
   "metadata": {
    "collapsed": true
   },
   "outputs": [],
   "source": [
    "tournamentDict = tournamentC4([player1, player2, player3, player4, player5, player6], \n",
    "                              ['Depth 1', 'Depth 2', 'Depth 3', 'Depth 4', 'Depth 5', 'Depth 6'], track=False)"
   ]
  },
  {
   "cell_type": "code",
   "execution_count": 19,
   "metadata": {},
   "outputs": [
    {
     "name": "stdout",
     "output_type": "stream",
     "text": [
      "Depth 1 lost as X against: ['Depth 4', 'Depth 5', 'Depth 6']\n",
      "Depth 2 lost as X against: ['Depth 2', 'Depth 3', 'Depth 5']\n",
      "Depth 3 lost as X against: ['Depth 2', 'Depth 4', 'Depth 6']\n",
      "Depth 4 lost as X against: ['Depth 5', 'Depth 6']\n",
      "Depth 5 lost as X against: ['Depth 3', 'Depth 5']\n",
      "Depth 6 lost as X against: []\n"
     ]
    }
   ],
   "source": [
    "for name in tournamentDict:\n",
    "    print('{} lost as X against: {}'.format(name, tournamentDict.get(name)))"
   ]
  },
  {
   "cell_type": "markdown",
   "metadata": {},
   "source": [
    "<a id='Tie'></a>\n",
    "### A tie game?"
   ]
  },
  {
   "cell_type": "markdown",
   "metadata": {},
   "source": [
    "A big bug I ran into was when I matched up two utilities and it ended in a tie.  There was multiple errors because the utilities didn't know what to do and suggested move 'None' which obviously caused an error.  I didn't actually know that a tie was possible in Connect 4.  I even looked around online to find an example of a draw.  The following game results in a tie."
   ]
  },
  {
   "cell_type": "code",
   "execution_count": 329,
   "metadata": {
    "format": "row"
   },
   "outputs": [
    {
     "name": "stdout",
     "output_type": "stream",
     "text": [
      "_ 0 _ 1 _ 2 _ 3 _ 4 _ 5 _ 6 _\n",
      "0   |   |   |   |   |   |   |\n",
      "|---+---+---+---+---+---+---|\n",
      "1   |   |   |   |   |   |   |\n",
      "|---+---+---+---+---+---+---|\n",
      "2   |   |   |   |   |   |   |\n",
      "|---+---+---+---+---+---+---|\n",
      "3   |   |   |   |   |   |   |\n",
      "|---+---+---+---+---+---+---|\n",
      "4   |   |   |   |   |   |   |\n",
      "|---+---+---+---+---+---+---|\n",
      "5   |   |   |   |   |   |   |\n",
      "-----------------------------\n",
      "Player 1 moved X to 3 for score -2\n",
      "Game utility is now 0\n",
      "_ 0 _ 1 _ 2 _ 3 _ 4 _ 5 _ 6 _\n",
      "0   |   |   |   |   |   |   |\n",
      "|---+---+---+---+---+---+---|\n",
      "1   |   |   |   |   |   |   |\n",
      "|---+---+---+---+---+---+---|\n",
      "2   |   |   |   |   |   |   |\n",
      "|---+---+---+---+---+---+---|\n",
      "3   |   |   |   |   |   |   |\n",
      "|---+---+---+---+---+---+---|\n",
      "4   |   |   |   |   |   |   |\n",
      "|---+---+---+---+---+---+---|\n",
      "5   |   |   | X |   |   |   |\n",
      "-----------------------------\n",
      "Player 2 moved O to 3 for score -6\n",
      "Game utility is now 0\n",
      "_ 0 _ 1 _ 2 _ 3 _ 4 _ 5 _ 6 _\n",
      "0   |   |   |   |   |   |   |\n",
      "|---+---+---+---+---+---+---|\n",
      "1   |   |   |   |   |   |   |\n",
      "|---+---+---+---+---+---+---|\n",
      "2   |   |   |   |   |   |   |\n",
      "|---+---+---+---+---+---+---|\n",
      "3   |   |   |   |   |   |   |\n",
      "|---+---+---+---+---+---+---|\n",
      "4   |   |   | O |   |   |   |\n",
      "|---+---+---+---+---+---+---|\n",
      "5   |   |   | X |   |   |   |\n",
      "-----------------------------\n",
      "Player 1 moved X to 3 for score 0\n",
      "Game utility is now 0\n",
      "_ 0 _ 1 _ 2 _ 3 _ 4 _ 5 _ 6 _\n",
      "0   |   |   |   |   |   |   |\n",
      "|---+---+---+---+---+---+---|\n",
      "1   |   |   |   |   |   |   |\n",
      "|---+---+---+---+---+---+---|\n",
      "2   |   |   |   |   |   |   |\n",
      "|---+---+---+---+---+---+---|\n",
      "3   |   |   | X |   |   |   |\n",
      "|---+---+---+---+---+---+---|\n",
      "4   |   |   | O |   |   |   |\n",
      "|---+---+---+---+---+---+---|\n",
      "5   |   |   | X |   |   |   |\n",
      "-----------------------------\n",
      "Player 2 moved O to 3 for score -8\n",
      "Game utility is now 0\n",
      "_ 0 _ 1 _ 2 _ 3 _ 4 _ 5 _ 6 _\n",
      "0   |   |   |   |   |   |   |\n",
      "|---+---+---+---+---+---+---|\n",
      "1   |   |   |   |   |   |   |\n",
      "|---+---+---+---+---+---+---|\n",
      "2   |   |   | O |   |   |   |\n",
      "|---+---+---+---+---+---+---|\n",
      "3   |   |   | X |   |   |   |\n",
      "|---+---+---+---+---+---+---|\n",
      "4   |   |   | O |   |   |   |\n",
      "|---+---+---+---+---+---+---|\n",
      "5   |   |   | X |   |   |   |\n",
      "-----------------------------\n",
      "Player 1 moved X to 3 for score -2\n",
      "Game utility is now 0\n",
      "_ 0 _ 1 _ 2 _ 3 _ 4 _ 5 _ 6 _\n",
      "0   |   |   |   |   |   |   |\n",
      "|---+---+---+---+---+---+---|\n",
      "1   |   |   | X |   |   |   |\n",
      "|---+---+---+---+---+---+---|\n",
      "2   |   |   | O |   |   |   |\n",
      "|---+---+---+---+---+---+---|\n",
      "3   |   |   | X |   |   |   |\n",
      "|---+---+---+---+---+---+---|\n",
      "4   |   |   | O |   |   |   |\n",
      "|---+---+---+---+---+---+---|\n",
      "5   |   |   | X |   |   |   |\n",
      "-----------------------------\n",
      "Player 2 moved O to 3 for score -7\n",
      "Game utility is now 0\n",
      "_ 0 _ 1 _ 2 _ 3 _ 4 _ 5 _ 6 _\n",
      "0   |   |   | O |   |   |   |\n",
      "|---+---+---+---+---+---+---|\n",
      "1   |   |   | X |   |   |   |\n",
      "|---+---+---+---+---+---+---|\n",
      "2   |   |   | O |   |   |   |\n",
      "|---+---+---+---+---+---+---|\n",
      "3   |   |   | X |   |   |   |\n",
      "|---+---+---+---+---+---+---|\n",
      "4   |   |   | O |   |   |   |\n",
      "|---+---+---+---+---+---+---|\n",
      "5   |   |   | X |   |   |   |\n",
      "-----------------------------\n",
      "Player 1 moved X to 2 for score -3\n",
      "Game utility is now 0\n",
      "_ 0 _ 1 _ 2 _ 3 _ 4 _ 5 _ 6 _\n",
      "0   |   |   | O |   |   |   |\n",
      "|---+---+---+---+---+---+---|\n",
      "1   |   |   | X |   |   |   |\n",
      "|---+---+---+---+---+---+---|\n",
      "2   |   |   | O |   |   |   |\n",
      "|---+---+---+---+---+---+---|\n",
      "3   |   |   | X |   |   |   |\n",
      "|---+---+---+---+---+---+---|\n",
      "4   |   |   | O |   |   |   |\n",
      "|---+---+---+---+---+---+---|\n",
      "5   |   | X | X |   |   |   |\n",
      "-----------------------------\n",
      "Player 2 moved O to 1 for score -6\n",
      "Game utility is now 0\n",
      "_ 0 _ 1 _ 2 _ 3 _ 4 _ 5 _ 6 _\n",
      "0   |   |   | O |   |   |   |\n",
      "|---+---+---+---+---+---+---|\n",
      "1   |   |   | X |   |   |   |\n",
      "|---+---+---+---+---+---+---|\n",
      "2   |   |   | O |   |   |   |\n",
      "|---+---+---+---+---+---+---|\n",
      "3   |   |   | X |   |   |   |\n",
      "|---+---+---+---+---+---+---|\n",
      "4   |   |   | O |   |   |   |\n",
      "|---+---+---+---+---+---+---|\n",
      "5   | O | X | X |   |   |   |\n",
      "-----------------------------\n",
      "Player 1 moved X to 1 for score -2\n",
      "Game utility is now 0\n",
      "_ 0 _ 1 _ 2 _ 3 _ 4 _ 5 _ 6 _\n",
      "0   |   |   | O |   |   |   |\n",
      "|---+---+---+---+---+---+---|\n",
      "1   |   |   | X |   |   |   |\n",
      "|---+---+---+---+---+---+---|\n",
      "2   |   |   | O |   |   |   |\n",
      "|---+---+---+---+---+---+---|\n",
      "3   |   |   | X |   |   |   |\n",
      "|---+---+---+---+---+---+---|\n",
      "4   | X |   | O |   |   |   |\n",
      "|---+---+---+---+---+---+---|\n",
      "5   | O | X | X |   |   |   |\n",
      "-----------------------------\n",
      "Player 2 moved O to 1 for score -5\n",
      "Game utility is now 0\n",
      "_ 0 _ 1 _ 2 _ 3 _ 4 _ 5 _ 6 _\n",
      "0   |   |   | O |   |   |   |\n",
      "|---+---+---+---+---+---+---|\n",
      "1   |   |   | X |   |   |   |\n",
      "|---+---+---+---+---+---+---|\n",
      "2   |   |   | O |   |   |   |\n",
      "|---+---+---+---+---+---+---|\n",
      "3   | O |   | X |   |   |   |\n",
      "|---+---+---+---+---+---+---|\n",
      "4   | X |   | O |   |   |   |\n",
      "|---+---+---+---+---+---+---|\n",
      "5   | O | X | X |   |   |   |\n",
      "-----------------------------\n",
      "Player 1 moved X to 1 for score -2\n",
      "Game utility is now 0\n",
      "_ 0 _ 1 _ 2 _ 3 _ 4 _ 5 _ 6 _\n",
      "0   |   |   | O |   |   |   |\n",
      "|---+---+---+---+---+---+---|\n",
      "1   |   |   | X |   |   |   |\n",
      "|---+---+---+---+---+---+---|\n",
      "2   | X |   | O |   |   |   |\n",
      "|---+---+---+---+---+---+---|\n",
      "3   | O |   | X |   |   |   |\n",
      "|---+---+---+---+---+---+---|\n",
      "4   | X |   | O |   |   |   |\n",
      "|---+---+---+---+---+---+---|\n",
      "5   | O | X | X |   |   |   |\n",
      "-----------------------------\n",
      "Player 2 moved O to 5 for score -4\n",
      "Game utility is now 0\n",
      "_ 0 _ 1 _ 2 _ 3 _ 4 _ 5 _ 6 _\n",
      "0   |   |   | O |   |   |   |\n",
      "|---+---+---+---+---+---+---|\n",
      "1   |   |   | X |   |   |   |\n",
      "|---+---+---+---+---+---+---|\n",
      "2   | X |   | O |   |   |   |\n",
      "|---+---+---+---+---+---+---|\n",
      "3   | O |   | X |   |   |   |\n",
      "|---+---+---+---+---+---+---|\n",
      "4   | X |   | O |   |   |   |\n",
      "|---+---+---+---+---+---+---|\n",
      "5   | O | X | X |   | O |   |\n",
      "-----------------------------\n",
      "Player 1 moved X to 5 for score -1\n",
      "Game utility is now 0\n",
      "_ 0 _ 1 _ 2 _ 3 _ 4 _ 5 _ 6 _\n",
      "0   |   |   | O |   |   |   |\n",
      "|---+---+---+---+---+---+---|\n",
      "1   |   |   | X |   |   |   |\n",
      "|---+---+---+---+---+---+---|\n",
      "2   | X |   | O |   |   |   |\n",
      "|---+---+---+---+---+---+---|\n",
      "3   | O |   | X |   |   |   |\n",
      "|---+---+---+---+---+---+---|\n",
      "4   | X |   | O |   | X |   |\n",
      "|---+---+---+---+---+---+---|\n",
      "5   | O | X | X |   | O |   |\n",
      "-----------------------------\n",
      "Player 2 moved O to 5 for score -3\n",
      "Game utility is now 0\n",
      "_ 0 _ 1 _ 2 _ 3 _ 4 _ 5 _ 6 _\n",
      "0   |   |   | O |   |   |   |\n",
      "|---+---+---+---+---+---+---|\n",
      "1   |   |   | X |   |   |   |\n",
      "|---+---+---+---+---+---+---|\n",
      "2   | X |   | O |   |   |   |\n",
      "|---+---+---+---+---+---+---|\n",
      "3   | O |   | X |   | O |   |\n",
      "|---+---+---+---+---+---+---|\n",
      "4   | X |   | O |   | X |   |\n",
      "|---+---+---+---+---+---+---|\n",
      "5   | O | X | X |   | O |   |\n",
      "-----------------------------\n",
      "Player 1 moved X to 5 for score -2\n",
      "Game utility is now 0\n",
      "_ 0 _ 1 _ 2 _ 3 _ 4 _ 5 _ 6 _\n",
      "0   |   |   | O |   |   |   |\n",
      "|---+---+---+---+---+---+---|\n",
      "1   |   |   | X |   |   |   |\n",
      "|---+---+---+---+---+---+---|\n",
      "2   | X |   | O |   | X |   |\n",
      "|---+---+---+---+---+---+---|\n",
      "3   | O |   | X |   | O |   |\n",
      "|---+---+---+---+---+---+---|\n",
      "4   | X |   | O |   | X |   |\n",
      "|---+---+---+---+---+---+---|\n",
      "5   | O | X | X |   | O |   |\n",
      "-----------------------------\n",
      "Player 2 moved O to 5 for score -1\n",
      "Game utility is now 0\n",
      "_ 0 _ 1 _ 2 _ 3 _ 4 _ 5 _ 6 _\n",
      "0   |   |   | O |   |   |   |\n",
      "|---+---+---+---+---+---+---|\n",
      "1   |   |   | X |   | O |   |\n",
      "|---+---+---+---+---+---+---|\n",
      "2   | X |   | O |   | X |   |\n",
      "|---+---+---+---+---+---+---|\n",
      "3   | O |   | X |   | O |   |\n",
      "|---+---+---+---+---+---+---|\n",
      "4   | X |   | O |   | X |   |\n",
      "|---+---+---+---+---+---+---|\n",
      "5   | O | X | X |   | O |   |\n",
      "-----------------------------\n",
      "Player 1 moved X to 5 for score -1\n",
      "Game utility is now 0\n",
      "_ 0 _ 1 _ 2 _ 3 _ 4 _ 5 _ 6 _\n",
      "0   |   |   | O |   | X |   |\n",
      "|---+---+---+---+---+---+---|\n",
      "1   |   |   | X |   | O |   |\n",
      "|---+---+---+---+---+---+---|\n",
      "2   | X |   | O |   | X |   |\n",
      "|---+---+---+---+---+---+---|\n",
      "3   | O |   | X |   | O |   |\n",
      "|---+---+---+---+---+---+---|\n",
      "4   | X |   | O |   | X |   |\n",
      "|---+---+---+---+---+---+---|\n",
      "5   | O | X | X |   | O |   |\n",
      "-----------------------------\n",
      "Player 2 moved O to 1 for score -1\n",
      "Game utility is now 0\n",
      "_ 0 _ 1 _ 2 _ 3 _ 4 _ 5 _ 6 _\n",
      "0   |   |   | O |   | X |   |\n",
      "|---+---+---+---+---+---+---|\n",
      "1   | O |   | X |   | O |   |\n",
      "|---+---+---+---+---+---+---|\n",
      "2   | X |   | O |   | X |   |\n",
      "|---+---+---+---+---+---+---|\n",
      "3   | O |   | X |   | O |   |\n",
      "|---+---+---+---+---+---+---|\n",
      "4   | X |   | O |   | X |   |\n",
      "|---+---+---+---+---+---+---|\n",
      "5   | O | X | X |   | O |   |\n",
      "-----------------------------\n",
      "Player 1 moved X to 1 for score 0\n",
      "Game utility is now 0\n",
      "_ 0 _ 1 _ 2 _ 3 _ 4 _ 5 _ 6 _\n",
      "0   | X |   | O |   | X |   |\n",
      "|---+---+---+---+---+---+---|\n",
      "1   | O |   | X |   | O |   |\n",
      "|---+---+---+---+---+---+---|\n",
      "2   | X |   | O |   | X |   |\n",
      "|---+---+---+---+---+---+---|\n",
      "3   | O |   | X |   | O |   |\n",
      "|---+---+---+---+---+---+---|\n",
      "4   | X |   | O |   | X |   |\n",
      "|---+---+---+---+---+---+---|\n",
      "5   | O | X | X |   | O |   |\n",
      "-----------------------------\n",
      "Player 2 moved O to 2 for score -1\n",
      "Game utility is now 0\n",
      "_ 0 _ 1 _ 2 _ 3 _ 4 _ 5 _ 6 _\n",
      "0   | X |   | O |   | X |   |\n",
      "|---+---+---+---+---+---+---|\n",
      "1   | O |   | X |   | O |   |\n",
      "|---+---+---+---+---+---+---|\n",
      "2   | X |   | O |   | X |   |\n",
      "|---+---+---+---+---+---+---|\n",
      "3   | O |   | X |   | O |   |\n",
      "|---+---+---+---+---+---+---|\n",
      "4   | X | O | O |   | X |   |\n",
      "|---+---+---+---+---+---+---|\n",
      "5   | O | X | X |   | O |   |\n",
      "-----------------------------\n",
      "Player 1 moved X to 0 for score -1\n",
      "Game utility is now 0\n",
      "_ 0 _ 1 _ 2 _ 3 _ 4 _ 5 _ 6 _\n",
      "0   | X |   | O |   | X |   |\n",
      "|---+---+---+---+---+---+---|\n",
      "1   | O |   | X |   | O |   |\n",
      "|---+---+---+---+---+---+---|\n",
      "2   | X |   | O |   | X |   |\n",
      "|---+---+---+---+---+---+---|\n",
      "3   | O |   | X |   | O |   |\n",
      "|---+---+---+---+---+---+---|\n",
      "4   | X | O | O |   | X |   |\n",
      "|---+---+---+---+---+---+---|\n",
      "5 X | O | X | X |   | O |   |\n",
      "-----------------------------\n",
      "Player 2 moved O to 0 for score -1\n",
      "Game utility is now 0\n",
      "_ 0 _ 1 _ 2 _ 3 _ 4 _ 5 _ 6 _\n",
      "0   | X |   | O |   | X |   |\n",
      "|---+---+---+---+---+---+---|\n",
      "1   | O |   | X |   | O |   |\n",
      "|---+---+---+---+---+---+---|\n",
      "2   | X |   | O |   | X |   |\n",
      "|---+---+---+---+---+---+---|\n",
      "3   | O |   | X |   | O |   |\n",
      "|---+---+---+---+---+---+---|\n",
      "4 O | X | O | O |   | X |   |\n",
      "|---+---+---+---+---+---+---|\n",
      "5 X | O | X | X |   | O |   |\n",
      "-----------------------------\n",
      "Player 1 moved X to 0 for score -1\n",
      "Game utility is now 0\n",
      "_ 0 _ 1 _ 2 _ 3 _ 4 _ 5 _ 6 _\n",
      "0   | X |   | O |   | X |   |\n",
      "|---+---+---+---+---+---+---|\n",
      "1   | O |   | X |   | O |   |\n",
      "|---+---+---+---+---+---+---|\n",
      "2   | X |   | O |   | X |   |\n",
      "|---+---+---+---+---+---+---|\n",
      "3 X | O |   | X |   | O |   |\n",
      "|---+---+---+---+---+---+---|\n",
      "4 O | X | O | O |   | X |   |\n",
      "|---+---+---+---+---+---+---|\n",
      "5 X | O | X | X |   | O |   |\n",
      "-----------------------------\n"
     ]
    },
    {
     "name": "stdout",
     "output_type": "stream",
     "text": [
      "Player 2 moved O to 0 for score -1\n",
      "Game utility is now 0\n",
      "_ 0 _ 1 _ 2 _ 3 _ 4 _ 5 _ 6 _\n",
      "0   | X |   | O |   | X |   |\n",
      "|---+---+---+---+---+---+---|\n",
      "1   | O |   | X |   | O |   |\n",
      "|---+---+---+---+---+---+---|\n",
      "2 O | X |   | O |   | X |   |\n",
      "|---+---+---+---+---+---+---|\n",
      "3 X | O |   | X |   | O |   |\n",
      "|---+---+---+---+---+---+---|\n",
      "4 O | X | O | O |   | X |   |\n",
      "|---+---+---+---+---+---+---|\n",
      "5 X | O | X | X |   | O |   |\n",
      "-----------------------------\n",
      "Player 1 moved X to 2 for score -1\n",
      "Game utility is now 0\n",
      "_ 0 _ 1 _ 2 _ 3 _ 4 _ 5 _ 6 _\n",
      "0   | X |   | O |   | X |   |\n",
      "|---+---+---+---+---+---+---|\n",
      "1   | O |   | X |   | O |   |\n",
      "|---+---+---+---+---+---+---|\n",
      "2 O | X |   | O |   | X |   |\n",
      "|---+---+---+---+---+---+---|\n",
      "3 X | O | X | X |   | O |   |\n",
      "|---+---+---+---+---+---+---|\n",
      "4 O | X | O | O |   | X |   |\n",
      "|---+---+---+---+---+---+---|\n",
      "5 X | O | X | X |   | O |   |\n",
      "-----------------------------\n",
      "Player 2 moved O to 2 for score -1\n",
      "Game utility is now 0\n",
      "_ 0 _ 1 _ 2 _ 3 _ 4 _ 5 _ 6 _\n",
      "0   | X |   | O |   | X |   |\n",
      "|---+---+---+---+---+---+---|\n",
      "1   | O |   | X |   | O |   |\n",
      "|---+---+---+---+---+---+---|\n",
      "2 O | X | O | O |   | X |   |\n",
      "|---+---+---+---+---+---+---|\n",
      "3 X | O | X | X |   | O |   |\n",
      "|---+---+---+---+---+---+---|\n",
      "4 O | X | O | O |   | X |   |\n",
      "|---+---+---+---+---+---+---|\n",
      "5 X | O | X | X |   | O |   |\n",
      "-----------------------------\n",
      "Player 1 moved X to 4 for score 0\n",
      "Game utility is now 0\n",
      "_ 0 _ 1 _ 2 _ 3 _ 4 _ 5 _ 6 _\n",
      "0   | X |   | O |   | X |   |\n",
      "|---+---+---+---+---+---+---|\n",
      "1   | O |   | X |   | O |   |\n",
      "|---+---+---+---+---+---+---|\n",
      "2 O | X | O | O |   | X |   |\n",
      "|---+---+---+---+---+---+---|\n",
      "3 X | O | X | X |   | O |   |\n",
      "|---+---+---+---+---+---+---|\n",
      "4 O | X | O | O |   | X |   |\n",
      "|---+---+---+---+---+---+---|\n",
      "5 X | O | X | X | X | O |   |\n",
      "-----------------------------\n",
      "Player 2 moved O to 4 for score -1\n",
      "Game utility is now 0\n",
      "_ 0 _ 1 _ 2 _ 3 _ 4 _ 5 _ 6 _\n",
      "0   | X |   | O |   | X |   |\n",
      "|---+---+---+---+---+---+---|\n",
      "1   | O |   | X |   | O |   |\n",
      "|---+---+---+---+---+---+---|\n",
      "2 O | X | O | O |   | X |   |\n",
      "|---+---+---+---+---+---+---|\n",
      "3 X | O | X | X |   | O |   |\n",
      "|---+---+---+---+---+---+---|\n",
      "4 O | X | O | O | O | X |   |\n",
      "|---+---+---+---+---+---+---|\n",
      "5 X | O | X | X | X | O |   |\n",
      "-----------------------------\n",
      "Player 1 moved X to 4 for score -1\n",
      "Game utility is now 0\n",
      "_ 0 _ 1 _ 2 _ 3 _ 4 _ 5 _ 6 _\n",
      "0   | X |   | O |   | X |   |\n",
      "|---+---+---+---+---+---+---|\n",
      "1   | O |   | X |   | O |   |\n",
      "|---+---+---+---+---+---+---|\n",
      "2 O | X | O | O |   | X |   |\n",
      "|---+---+---+---+---+---+---|\n",
      "3 X | O | X | X | X | O |   |\n",
      "|---+---+---+---+---+---+---|\n",
      "4 O | X | O | O | O | X |   |\n",
      "|---+---+---+---+---+---+---|\n",
      "5 X | O | X | X | X | O |   |\n",
      "-----------------------------\n",
      "Player 2 moved O to 4 for score -1\n",
      "Game utility is now 0\n",
      "_ 0 _ 1 _ 2 _ 3 _ 4 _ 5 _ 6 _\n",
      "0   | X |   | O |   | X |   |\n",
      "|---+---+---+---+---+---+---|\n",
      "1   | O |   | X |   | O |   |\n",
      "|---+---+---+---+---+---+---|\n",
      "2 O | X | O | O | O | X |   |\n",
      "|---+---+---+---+---+---+---|\n",
      "3 X | O | X | X | X | O |   |\n",
      "|---+---+---+---+---+---+---|\n",
      "4 O | X | O | O | O | X |   |\n",
      "|---+---+---+---+---+---+---|\n",
      "5 X | O | X | X | X | O |   |\n",
      "-----------------------------\n",
      "Player 1 moved X to 0 for score -1\n",
      "Game utility is now 0\n",
      "_ 0 _ 1 _ 2 _ 3 _ 4 _ 5 _ 6 _\n",
      "0   | X |   | O |   | X |   |\n",
      "|---+---+---+---+---+---+---|\n",
      "1 X | O |   | X |   | O |   |\n",
      "|---+---+---+---+---+---+---|\n",
      "2 O | X | O | O | O | X |   |\n",
      "|---+---+---+---+---+---+---|\n",
      "3 X | O | X | X | X | O |   |\n",
      "|---+---+---+---+---+---+---|\n",
      "4 O | X | O | O | O | X |   |\n",
      "|---+---+---+---+---+---+---|\n",
      "5 X | O | X | X | X | O |   |\n",
      "-----------------------------\n",
      "Player 2 moved O to 0 for score -1\n",
      "Game utility is now 0\n",
      "_ 0 _ 1 _ 2 _ 3 _ 4 _ 5 _ 6 _\n",
      "0 O | X |   | O |   | X |   |\n",
      "|---+---+---+---+---+---+---|\n",
      "1 X | O |   | X |   | O |   |\n",
      "|---+---+---+---+---+---+---|\n",
      "2 O | X | O | O | O | X |   |\n",
      "|---+---+---+---+---+---+---|\n",
      "3 X | O | X | X | X | O |   |\n",
      "|---+---+---+---+---+---+---|\n",
      "4 O | X | O | O | O | X |   |\n",
      "|---+---+---+---+---+---+---|\n",
      "5 X | O | X | X | X | O |   |\n",
      "-----------------------------\n",
      "Player 1 moved X to 2 for score -1\n",
      "Game utility is now 0\n",
      "_ 0 _ 1 _ 2 _ 3 _ 4 _ 5 _ 6 _\n",
      "0 O | X |   | O |   | X |   |\n",
      "|---+---+---+---+---+---+---|\n",
      "1 X | O | X | X |   | O |   |\n",
      "|---+---+---+---+---+---+---|\n",
      "2 O | X | O | O | O | X |   |\n",
      "|---+---+---+---+---+---+---|\n",
      "3 X | O | X | X | X | O |   |\n",
      "|---+---+---+---+---+---+---|\n",
      "4 O | X | O | O | O | X |   |\n",
      "|---+---+---+---+---+---+---|\n",
      "5 X | O | X | X | X | O |   |\n",
      "-----------------------------\n",
      "Player 2 moved O to 2 for score -1\n",
      "Game utility is now 0\n",
      "_ 0 _ 1 _ 2 _ 3 _ 4 _ 5 _ 6 _\n",
      "0 O | X | O | O |   | X |   |\n",
      "|---+---+---+---+---+---+---|\n",
      "1 X | O | X | X |   | O |   |\n",
      "|---+---+---+---+---+---+---|\n",
      "2 O | X | O | O | O | X |   |\n",
      "|---+---+---+---+---+---+---|\n",
      "3 X | O | X | X | X | O |   |\n",
      "|---+---+---+---+---+---+---|\n",
      "4 O | X | O | O | O | X |   |\n",
      "|---+---+---+---+---+---+---|\n",
      "5 X | O | X | X | X | O |   |\n",
      "-----------------------------\n",
      "Player 1 moved X to 4 for score -1\n",
      "Game utility is now 0\n",
      "_ 0 _ 1 _ 2 _ 3 _ 4 _ 5 _ 6 _\n",
      "0 O | X | O | O |   | X |   |\n",
      "|---+---+---+---+---+---+---|\n",
      "1 X | O | X | X | X | O |   |\n",
      "|---+---+---+---+---+---+---|\n",
      "2 O | X | O | O | O | X |   |\n",
      "|---+---+---+---+---+---+---|\n",
      "3 X | O | X | X | X | O |   |\n",
      "|---+---+---+---+---+---+---|\n",
      "4 O | X | O | O | O | X |   |\n",
      "|---+---+---+---+---+---+---|\n",
      "5 X | O | X | X | X | O |   |\n",
      "-----------------------------\n",
      "Player 2 moved O to 4 for score -1\n",
      "Game utility is now 0\n",
      "_ 0 _ 1 _ 2 _ 3 _ 4 _ 5 _ 6 _\n",
      "0 O | X | O | O | O | X |   |\n",
      "|---+---+---+---+---+---+---|\n",
      "1 X | O | X | X | X | O |   |\n",
      "|---+---+---+---+---+---+---|\n",
      "2 O | X | O | O | O | X |   |\n",
      "|---+---+---+---+---+---+---|\n",
      "3 X | O | X | X | X | O |   |\n",
      "|---+---+---+---+---+---+---|\n",
      "4 O | X | O | O | O | X |   |\n",
      "|---+---+---+---+---+---+---|\n",
      "5 X | O | X | X | X | O |   |\n",
      "-----------------------------\n",
      "Player 1 moved X to 6 for score 0\n",
      "Game utility is now 0\n",
      "_ 0 _ 1 _ 2 _ 3 _ 4 _ 5 _ 6 _\n",
      "0 O | X | O | O | O | X |   |\n",
      "|---+---+---+---+---+---+---|\n",
      "1 X | O | X | X | X | O |   |\n",
      "|---+---+---+---+---+---+---|\n",
      "2 O | X | O | O | O | X |   |\n",
      "|---+---+---+---+---+---+---|\n",
      "3 X | O | X | X | X | O |   |\n",
      "|---+---+---+---+---+---+---|\n",
      "4 O | X | O | O | O | X |   |\n",
      "|---+---+---+---+---+---+---|\n",
      "5 X | O | X | X | X | O | X |\n",
      "-----------------------------\n",
      "Player 2 moved O to 6 for score 0\n",
      "Game utility is now 0\n",
      "_ 0 _ 1 _ 2 _ 3 _ 4 _ 5 _ 6 _\n",
      "0 O | X | O | O | O | X |   |\n",
      "|---+---+---+---+---+---+---|\n",
      "1 X | O | X | X | X | O |   |\n",
      "|---+---+---+---+---+---+---|\n",
      "2 O | X | O | O | O | X |   |\n",
      "|---+---+---+---+---+---+---|\n",
      "3 X | O | X | X | X | O |   |\n",
      "|---+---+---+---+---+---+---|\n",
      "4 O | X | O | O | O | X | O |\n",
      "|---+---+---+---+---+---+---|\n",
      "5 X | O | X | X | X | O | X |\n",
      "-----------------------------\n",
      "Player 1 moved X to 6 for score 0\n",
      "Game utility is now 0\n",
      "_ 0 _ 1 _ 2 _ 3 _ 4 _ 5 _ 6 _\n",
      "0 O | X | O | O | O | X |   |\n",
      "|---+---+---+---+---+---+---|\n",
      "1 X | O | X | X | X | O |   |\n",
      "|---+---+---+---+---+---+---|\n",
      "2 O | X | O | O | O | X |   |\n",
      "|---+---+---+---+---+---+---|\n",
      "3 X | O | X | X | X | O | X |\n",
      "|---+---+---+---+---+---+---|\n",
      "4 O | X | O | O | O | X | O |\n",
      "|---+---+---+---+---+---+---|\n",
      "5 X | O | X | X | X | O | X |\n",
      "-----------------------------\n",
      "Player 2 moved O to 6 for score 0\n",
      "Game utility is now 0\n",
      "_ 0 _ 1 _ 2 _ 3 _ 4 _ 5 _ 6 _\n",
      "0 O | X | O | O | O | X |   |\n",
      "|---+---+---+---+---+---+---|\n",
      "1 X | O | X | X | X | O |   |\n",
      "|---+---+---+---+---+---+---|\n",
      "2 O | X | O | O | O | X | O |\n",
      "|---+---+---+---+---+---+---|\n",
      "3 X | O | X | X | X | O | X |\n",
      "|---+---+---+---+---+---+---|\n",
      "4 O | X | O | O | O | X | O |\n",
      "|---+---+---+---+---+---+---|\n",
      "5 X | O | X | X | X | O | X |\n",
      "-----------------------------\n",
      "Player 1 moved X to 6 for score 0\n",
      "Game utility is now 1\n",
      "_ 0 _ 1 _ 2 _ 3 _ 4 _ 5 _ 6 _\n",
      "0 O | X | O | O | O | X |   |\n",
      "|---+---+---+---+---+---+---|\n",
      "1 X | O | X | X | X | O | X |\n",
      "|---+---+---+---+---+---+---|\n",
      "2 O | X | O | O | O | X | O |\n",
      "|---+---+---+---+---+---+---|\n",
      "3 X | O | X | X | X | O | X |\n",
      "|---+---+---+---+---+---+---|\n",
      "4 O | X | O | O | O | X | O |\n",
      "|---+---+---+---+---+---+---|\n",
      "5 X | O | X | X | X | O | X |\n",
      "-----------------------------\n",
      "Player 2 moved O to 6 for score 0\n",
      "Game utility is now 0\n",
      "_ 0 _ 1 _ 2 _ 3 _ 4 _ 5 _ 6 _\n",
      "0 O | X | O | O | O | X | O |\n",
      "|---+---+---+---+---+---+---|\n",
      "1 X | O | X | X | X | O | X |\n",
      "|---+---+---+---+---+---+---|\n",
      "2 O | X | O | O | O | X | O |\n",
      "|---+---+---+---+---+---+---|\n",
      "3 X | O | X | X | X | O | X |\n",
      "|---+---+---+---+---+---+---|\n",
      "4 O | X | O | O | O | X | O |\n",
      "|---+---+---+---+---+---+---|\n",
      "5 X | O | X | X | X | O | X |\n",
      "-----------------------------\n",
      "Cats game...\n",
      "Player 1 moves: [3, 3, 3, 2, 1, 1, 5, 5, 5, 1, 0, 0, 2, 4, 4, 0, 2, 4, 6, 6, 6]\n",
      "Player 1 scores: [-2, 0, -2, -3, -2, -2, -1, -2, -1, 0, -1, -1, -1, 0, -1, -1, -1, -1, 0, 0, 0]\n",
      "Player 1 average move time: 0.13\n",
      "Player 2 moves: [3, 3, 3, 1, 1, 5, 5, 5, 1, 2, 0, 0, 2, 4, 4, 0, 2, 4, 6, 6, 6]\n",
      "Player 2 scores: [-6, -8, -7, -6, -5, -4, -3, -1, -1, -1, -1, -1, -1, -1, -1, -1, -1, -1, 0, 0, 0]\n",
      "Player 2 average move time: 0.14\n",
      "Moves explored during this game: 13380\n",
      "Game history: [3, 3, 3, 3, 3, 3, 2, 1, 1, 1, 1, 5, 5, 5, 5, 5, 5, 1, 1, 2, 0, 0, 0, 0, 2, 2, 4, 4, 4, 4, 0, 0, 2, 2, 4, 4, 6, 6, 6, 6, 6, 6]\n"
     ]
    }
   ],
   "source": [
    "c4game = C4Fast.C4()\n",
    "_,_,_,_,_ = playC4(c4game, lambda game: NegamaxAB.negamaxab(game, 4, Count2WinHeuristic.utility1),\n",
    "       lambda game: NegamaxAB.negamaxab(game, 4, Count2WinHeuristic.utility2))"
   ]
  },
  {
   "cell_type": "markdown",
   "metadata": {},
   "source": [
    "<a id='Conclusion'></a>\n",
    "## Conclusion"
   ]
  },
  {
   "cell_type": "markdown",
   "metadata": {},
   "source": [
    "<a id='BestPlayer'></a>\n",
    "I know that *Count2Win.Utility2* is able to play Connect 4 very well, but is it worth the effort to make the heuristic when *NegamaxAB* without a heuristic utility function is able to reach depths much more quickly?  To answer this question, I will match up 2 *NegamaxAB* players; one with *Count2Win.Utility2* and one with no heuristic utility but a search depth of 10.  I will set the depth for *Count2Win.Utility2* to 4; a depth less than half of its competitor's"
   ]
  },
  {
   "cell_type": "code",
   "execution_count": 6,
   "metadata": {
    "collapsed": true
   },
   "outputs": [],
   "source": [
    "player1 = lambda game: NegamaxAB.negamaxab(game, 4, Count2WinHeuristic.utility2)\n",
    "player2 = lambda game: NegamaxAB.negamaxab(game, 10, None)"
   ]
  },
  {
   "cell_type": "code",
   "execution_count": 27,
   "metadata": {
    "collapsed": true
   },
   "outputs": [],
   "source": [
    "tournamentDict = tournamentC4([player1, player2], \n",
    "                              ['C2W 2 - Depth 4', 'None - Depth 10'], track=False)"
   ]
  },
  {
   "cell_type": "code",
   "execution_count": 28,
   "metadata": {},
   "outputs": [
    {
     "name": "stdout",
     "output_type": "stream",
     "text": [
      "C2W 2 - Depth 4 lost as X against: []\n",
      "None - Depth 10 lost as X against: ['C2W 2 - Depth 4', 'None - Depth 10']\n"
     ]
    }
   ],
   "source": [
    "for name in tournamentDict:\n",
    "    print('{} lost as X against: {}'.format(name, tournamentDict.get(name)))"
   ]
  },
  {
   "cell_type": "markdown",
   "metadata": {},
   "source": [
    "After all aspects of playing connect 4, I have determined that the best AI player is *NegamaxAB* combined with *Count2WinHeuristic.utility2* at a depth of 6."
   ]
  },
  {
   "cell_type": "markdown",
   "metadata": {},
   "source": [
    "<a id='YouPlay'></a>\n",
    "### Do you think you can win?"
   ]
  },
  {
   "cell_type": "markdown",
   "metadata": {},
   "source": [
    "The following cell allows you to play connect 4 with the best utility, search algorithm I created.  Give it a shot!"
   ]
  },
  {
   "cell_type": "code",
   "execution_count": null,
   "metadata": {
    "format": "column"
   },
   "outputs": [
    {
     "name": "stdout",
     "output_type": "stream",
     "text": [
      "_ 0 _ 1 _ 2 _ 3 _ 4 _ 5 _ 6 _\n",
      "0   |   |   |   |   |   |   |\n",
      "|---+---+---+---+---+---+---|\n",
      "1   |   |   |   |   |   |   |\n",
      "|---+---+---+---+---+---+---|\n",
      "2   |   |   |   |   |   |   |\n",
      "|---+---+---+---+---+---+---|\n",
      "3   |   |   |   |   |   |   |\n",
      "|---+---+---+---+---+---+---|\n",
      "4   |   |   |   |   |   |   |\n",
      "|---+---+---+---+---+---+---|\n",
      "5   |   |   |   |   |   |   |\n",
      "-----------------------------\n",
      "Player 1 moved X to 3 for score -1\n",
      "_ 0 _ 1 _ 2 _ 3 _ 4 _ 5 _ 6 _\n",
      "0   |   |   |   |   |   |   |\n",
      "|---+---+---+---+---+---+---|\n",
      "1   |   |   |   |   |   |   |\n",
      "|---+---+---+---+---+---+---|\n",
      "2   |   |   |   |   |   |   |\n",
      "|---+---+---+---+---+---+---|\n",
      "3   |   |   |   |   |   |   |\n",
      "|---+---+---+---+---+---+---|\n",
      "4   |   |   |   |   |   |   |\n",
      "|---+---+---+---+---+---+---|\n",
      "5   |   |   | X |   |   |   |\n",
      "-----------------------------\n",
      "Move... (or exit with (q)uit)\n",
      "4\n",
      "Player 2 moved O to 4 for score 0\n",
      "_ 0 _ 1 _ 2 _ 3 _ 4 _ 5 _ 6 _\n",
      "0   |   |   |   |   |   |   |\n",
      "|---+---+---+---+---+---+---|\n",
      "1   |   |   |   |   |   |   |\n",
      "|---+---+---+---+---+---+---|\n",
      "2   |   |   |   |   |   |   |\n",
      "|---+---+---+---+---+---+---|\n",
      "3   |   |   |   |   |   |   |\n",
      "|---+---+---+---+---+---+---|\n",
      "4   |   |   |   |   |   |   |\n",
      "|---+---+---+---+---+---+---|\n",
      "5   |   |   | X | O |   |   |\n",
      "-----------------------------\n",
      "Player 1 moved X to 3 for score -1\n",
      "_ 0 _ 1 _ 2 _ 3 _ 4 _ 5 _ 6 _\n",
      "0   |   |   |   |   |   |   |\n",
      "|---+---+---+---+---+---+---|\n",
      "1   |   |   |   |   |   |   |\n",
      "|---+---+---+---+---+---+---|\n",
      "2   |   |   |   |   |   |   |\n",
      "|---+---+---+---+---+---+---|\n",
      "3   |   |   |   |   |   |   |\n",
      "|---+---+---+---+---+---+---|\n",
      "4   |   |   | X |   |   |   |\n",
      "|---+---+---+---+---+---+---|\n",
      "5   |   |   | X | O |   |   |\n",
      "-----------------------------\n",
      "Move... (or exit with (q)uit)\n",
      "3\n",
      "Player 2 moved O to 3 for score 0\n",
      "_ 0 _ 1 _ 2 _ 3 _ 4 _ 5 _ 6 _\n",
      "0   |   |   |   |   |   |   |\n",
      "|---+---+---+---+---+---+---|\n",
      "1   |   |   |   |   |   |   |\n",
      "|---+---+---+---+---+---+---|\n",
      "2   |   |   |   |   |   |   |\n",
      "|---+---+---+---+---+---+---|\n",
      "3   |   |   | O |   |   |   |\n",
      "|---+---+---+---+---+---+---|\n",
      "4   |   |   | X |   |   |   |\n",
      "|---+---+---+---+---+---+---|\n",
      "5   |   |   | X | O |   |   |\n",
      "-----------------------------\n",
      "Player 1 moved X to 3 for score 2\n",
      "_ 0 _ 1 _ 2 _ 3 _ 4 _ 5 _ 6 _\n",
      "0   |   |   |   |   |   |   |\n",
      "|---+---+---+---+---+---+---|\n",
      "1   |   |   |   |   |   |   |\n",
      "|---+---+---+---+---+---+---|\n",
      "2   |   |   | X |   |   |   |\n",
      "|---+---+---+---+---+---+---|\n",
      "3   |   |   | O |   |   |   |\n",
      "|---+---+---+---+---+---+---|\n",
      "4   |   |   | X |   |   |   |\n",
      "|---+---+---+---+---+---+---|\n",
      "5   |   |   | X | O |   |   |\n",
      "-----------------------------\n",
      "Move... (or exit with (q)uit)\n",
      "4\n",
      "Player 2 moved O to 4 for score 0\n",
      "_ 0 _ 1 _ 2 _ 3 _ 4 _ 5 _ 6 _\n",
      "0   |   |   |   |   |   |   |\n",
      "|---+---+---+---+---+---+---|\n",
      "1   |   |   |   |   |   |   |\n",
      "|---+---+---+---+---+---+---|\n",
      "2   |   |   | X |   |   |   |\n",
      "|---+---+---+---+---+---+---|\n",
      "3   |   |   | O |   |   |   |\n",
      "|---+---+---+---+---+---+---|\n",
      "4   |   |   | X | O |   |   |\n",
      "|---+---+---+---+---+---+---|\n",
      "5   |   |   | X | O |   |   |\n",
      "-----------------------------\n",
      "Player 1 moved X to 3 for score 7\n",
      "_ 0 _ 1 _ 2 _ 3 _ 4 _ 5 _ 6 _\n",
      "0   |   |   |   |   |   |   |\n",
      "|---+---+---+---+---+---+---|\n",
      "1   |   |   | X |   |   |   |\n",
      "|---+---+---+---+---+---+---|\n",
      "2   |   |   | X |   |   |   |\n",
      "|---+---+---+---+---+---+---|\n",
      "3   |   |   | O |   |   |   |\n",
      "|---+---+---+---+---+---+---|\n",
      "4   |   |   | X | O |   |   |\n",
      "|---+---+---+---+---+---+---|\n",
      "5   |   |   | X | O |   |   |\n",
      "-----------------------------\n",
      "Move... (or exit with (q)uit)\n",
      "5\n",
      "Player 2 moved O to 5 for score 0\n",
      "_ 0 _ 1 _ 2 _ 3 _ 4 _ 5 _ 6 _\n",
      "0   |   |   |   |   |   |   |\n",
      "|---+---+---+---+---+---+---|\n",
      "1   |   |   | X |   |   |   |\n",
      "|---+---+---+---+---+---+---|\n",
      "2   |   |   | X |   |   |   |\n",
      "|---+---+---+---+---+---+---|\n",
      "3   |   |   | O |   |   |   |\n",
      "|---+---+---+---+---+---+---|\n",
      "4   |   |   | X | O |   |   |\n",
      "|---+---+---+---+---+---+---|\n",
      "5   |   |   | X | O | O |   |\n",
      "-----------------------------\n",
      "Player 1 moved X to 3 for score 12\n",
      "_ 0 _ 1 _ 2 _ 3 _ 4 _ 5 _ 6 _\n",
      "0   |   |   | X |   |   |   |\n",
      "|---+---+---+---+---+---+---|\n",
      "1   |   |   | X |   |   |   |\n",
      "|---+---+---+---+---+---+---|\n",
      "2   |   |   | X |   |   |   |\n",
      "|---+---+---+---+---+---+---|\n",
      "3   |   |   | O |   |   |   |\n",
      "|---+---+---+---+---+---+---|\n",
      "4   |   |   | X | O |   |   |\n",
      "|---+---+---+---+---+---+---|\n",
      "5   |   |   | X | O | O |   |\n",
      "-----------------------------\n"
     ]
    }
   ],
   "source": [
    "# RUN THIS CELL TO PLAY CONNECT 4 WITH AN AI.  SWITCH PLAYER1 WITH PLAYER2 TO GO FIRST\n",
    "UIC4 = C4Fast.C4()\n",
    "player1 = lambda game: NegamaxAB.negamaxab(game, 6, Count2WinHeuristic.utility2)\n",
    "player2 = lambda game: UI(game) \n",
    "_,_,_,_,_ = playC4(UIC4, player1, player2)"
   ]
  },
  {
   "cell_type": "markdown",
   "metadata": {},
   "source": [
    "<a id='WordCount'></a>\n",
    "### Word Count"
   ]
  },
  {
   "cell_type": "code",
   "execution_count": 30,
   "metadata": {},
   "outputs": [
    {
     "name": "stdout",
     "output_type": "stream",
     "text": [
      "Word count for file Final Project.ipynb is 4166\n"
     ]
    }
   ],
   "source": [
    "%run WordCount.py"
   ]
  },
  {
   "cell_type": "markdown",
   "metadata": {},
   "source": [
    "<a id='References'></a>\n",
    "## References"
   ]
  },
  {
   "cell_type": "markdown",
   "metadata": {},
   "source": [
    "[Basic Connect 4 AI](https://roadtolarissa.com/connect-4-ai-how-it-works/)"
   ]
  },
  {
   "cell_type": "markdown",
   "metadata": {},
   "source": [
    "[Wikipedia about Connect 4](https://en.wikipedia.org/wiki/Connect_Four)"
   ]
  },
  {
   "cell_type": "markdown",
   "metadata": {
    "collapsed": true
   },
   "source": [
    "[Tic-Tac-Toe stats](https://www.jesperjuul.net/ludologist/2003/12/28/255168-ways-of-playing-tic-tac-toe/)"
   ]
  },
  {
   "cell_type": "markdown",
   "metadata": {},
   "source": [
    "[Chuck Anderson CS440](http://www.cs.colostate.edu/~anderson/cs440/doku.php)"
   ]
  }
 ],
 "metadata": {
  "kernelspec": {
   "display_name": "Python 3",
   "language": "python",
   "name": "python3"
  },
  "language_info": {
   "codemirror_mode": {
    "name": "ipython",
    "version": 3
   },
   "file_extension": ".py",
   "mimetype": "text/x-python",
   "name": "python",
   "nbconvert_exporter": "python",
   "pygments_lexer": "ipython3",
   "version": "3.6.1"
  }
 },
 "nbformat": 4,
 "nbformat_minor": 2
}
