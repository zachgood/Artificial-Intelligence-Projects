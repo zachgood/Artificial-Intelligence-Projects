{
 "cells": [
  {
   "cell_type": "markdown",
   "metadata": {},
   "source": [
    "# A3: A\\*, IDS, and Effective Branching Factor"
   ]
  },
  {
   "cell_type": "markdown",
   "metadata": {},
   "source": [
    "### Zach Goodenow"
   ]
  },
  {
   "cell_type": "markdown",
   "metadata": {},
   "source": [
    "For this assignment, implement the Recursive Best-First Search\n",
    "implementation of the A\\* algorithm given in class.  Name this function `aStarSearch`.  Also in this notebook include your `iterativeDeepeningSearch` functions.  Define a new function named `ebf` that returns an estimate of the effective\n",
    "branching factor for a search algorithm applied to a search problem.\n",
    "\n",
    "So, the required functions are\n",
    "\n",
    "   - `aStarSearch(startState, actionsF, takeActionF, goalTestF, hF)`\n",
    "   - `iterativeDeepeningSearch(startState, goalState, actionsF, takeActionF, maxDepth)`\n",
    "   - `ebf(nNodes, depth, precision=0.01)`, returns number of nodes expanded and depth reached during a search.\n",
    "\n",
    "Apply `iterativeDeepeningSearch` and `aStarSearch` to several eight-tile sliding puzzle\n",
    "problems. For this you must include your implementations of these functions, from Assignment 2:\n",
    "\n",
    "  * `actionsF_8p(state)`: returns a list of up to four valid actions that can be applied in `state`. With each action include a step cost of 1. For example, if all four actions are possible from this state, return [('left', 1), ('right', 1), ('up', 1), ('down', 1)].\n",
    "  * `takeActionF_8p(state, action)`: return the state that results from applying `action` in `state` and the cost of the one step,\n",
    "  \n",
    "plus the following function for the eight-tile puzzle:\n",
    "\n",
    "  * `goalTestF_8p(state, goal)`\n",
    "  \n",
    "Compare their results by displayng\n",
    "solution path depth, number of nodes \n",
    "generated, and the effective branching factor, and discuss the results.  Do this by defining the following function that prints the table as shown in the example below.\n",
    "\n",
    "   - runExperiment(goalState1, goalState2, goalState3, [h1, h2, h3])\n",
    "   \n",
    "Define this function so it takes any number of $h$ functions in the list that is the fourth argument."
   ]
  },
  {
   "cell_type": "markdown",
   "metadata": {},
   "source": [
    "## Heuristic Functions\n",
    "\n",
    "For `aStarSearch` use the following two heuristic functions, plus one more of your own design, for a total of three heuristic functions.\n",
    "\n",
    "  * `h1_8p(state, goal)`: $h(state, goal) = 0$, for all states $state$ and all goal states $goal$,\n",
    "  * `h2_8p(state, goal)`: $h(state, goal) = m$, where $m$ is the Manhattan distance that the blank is from its goal position,\n",
    "  * `h3_8p(state, goal)`: $h(state, goal) = ?$, that you define.  It must be admissible, and not constant for all states."
   ]
  },
  {
   "cell_type": "markdown",
   "metadata": {},
   "source": [
    "## Comparison"
   ]
  },
  {
   "cell_type": "markdown",
   "metadata": {},
   "source": [
    "Apply all four algorithms (`iterativeDeepeningSearch` plus `aStarSearch` with the three heuristic\n",
    "functions) to three eight-tile puzzle problems with start state\n",
    "\n",
    "$$\n",
    "\\begin{array}{ccc}\n",
    "1 & 2 & 3\\\\\n",
    "4 & 0 & 5\\\\\n",
    "6 & 7 & 8\n",
    "\\end{array}\n",
    "$$\n",
    "\n",
    "and these three goal states.\n",
    "\n",
    "$$\n",
    "\\begin{array}{ccccccccccc}\n",
    "1 & 2 & 3  & ~~~~ & 1 & 2 & 3  &  ~~~~ & 1 & 0 &  3\\\\\n",
    "4 & 0 & 5  & & 4 & 5 & 8  & & 4 & 5 & 8\\\\\n",
    "6 & 7 & 8 &  & 6 & 0 & 7  & & 2 & 6 & 7\n",
    "\\end{array}\n",
    "$$"
   ]
  },
  {
   "cell_type": "markdown",
   "metadata": {},
   "source": [
    "Print a well-formatted table like the following.  Try to match this\n",
    "format. \n",
    "\n",
    "           [1, 2, 3, 4, 0, 5, 6, 7, 8]    [1, 2, 3, 4, 5, 8, 6, 0, 7]    [1, 0, 3, 4, 5, 8, 2, 6, 7] \n",
    "    Algorithm    Depth  Nodes  EBF              Depth  Nodes  EBF              Depth  Nodes  EBF          \n",
    "         IDS       0      0  0.000                3     43  3.086               11 225850  2.954         \n",
    "        A*h1       0      0  0.000                3    116  4.488               11 643246  3.263         \n",
    "        A*h2       0      0  0.000                3     51  3.297               11 100046  2.733         \n",
    "\n",
    "Of course you will have one more line for `h3`."
   ]
  },
  {
   "cell_type": "markdown",
   "metadata": {},
   "source": [
    "### Compairson Using texttable: usage and example"
   ]
  },
  {
   "cell_type": "markdown",
   "metadata": {},
   "source": [
    "I found a package online called texttable that lets you write data to an automatically formated text table.  To use it locally you need to run the command \"pip install texttable\" to install texttable.  The table formating isnt super flexable but I made it work for this example.  I hard coded the values below to get used to using texttable and to show how an example of how you can use it and what the output is."
   ]
  },
  {
   "cell_type": "code",
   "execution_count": 4,
   "metadata": {},
   "outputs": [
    {
     "name": "stdout",
     "output_type": "stream",
     "text": [
      "+-----------+-------+-------+-----+\n",
      "| Algorithm | Depth | Nodes | EBF |\n",
      "+===========+=======+=======+=====+\n",
      "| IDS       | 0     | 0     | 0   |\n",
      "+-----------+-------+-------+-----+\n",
      "| A*h1      | 0     | 0     | 0   |\n",
      "+-----------+-------+-------+-----+\n",
      "| A*h2      | 0     | 0     | 0   |\n",
      "+-----------+-------+-------+-----+\n",
      "| A*h3      | 0     | 0     | 0   |\n",
      "+-----------+-------+-------+-----+\n"
     ]
    }
   ],
   "source": [
    "#Try using texttable\n",
    "import texttable as tt  \n",
    "\n",
    "#Make table and add headders\n",
    "tab = tt.Texttable()\n",
    "headings = ['Algorithm', 'Depth', 'Nodes', 'EBF']\n",
    "tab.header(headings)\n",
    "# tab.set_cols_width([4]*10)\n",
    "algorithms = ['IDS', 'A*h1', 'A*h2', 'A*h3']\n",
    "\n",
    "#Example 1\n",
    "example1 = [1, 2, 3, 4, 0, 5, 6, 7, 8]\n",
    "depths1 = [0,0,0,0]\n",
    "nodes1 = [0,0,0,0]\n",
    "ebfs1 = [0.000,0.000,0.000,0.0000]\n",
    "    \n",
    "for row in zip(algorithms, depths1, nodes1, ebfs1):\n",
    "    tab.add_row(row)\n",
    "\n",
    "exampleTable = tab.draw()\n",
    "print(exampleTable)"
   ]
  },
  {
   "cell_type": "markdown",
   "metadata": {},
   "source": [
    "# My Functions"
   ]
  },
  {
   "cell_type": "code",
   "execution_count": 2,
   "metadata": {
    "collapsed": true
   },
   "outputs": [],
   "source": [
    "# from A3mysolution import *"
   ]
  },
  {
   "cell_type": "markdown",
   "metadata": {},
   "source": [
    "## Eight Puzzle Functions\n",
    "<div class=\"alert alert-block alert-info\">\n",
    "There are a few changes in these functions from A2 to A3:\n",
    "<br>\n",
    "1.\tI added a **findIndex_8p function** that returns the index of any piece.  The function findBlank_8p now calls findIndex_8p and passes 0 as the piece.  Later you will see this function is helpful for the heuristic functions, specifically the Manhattan Distance.\n",
    "<br><br>\n",
    "2.\tThe **actionsF_8p function** now returns a tuple where the first element is the string representation of a move and the second is the cost of that move.\n",
    "<br><br>\n",
    "3.\tThe **takeActionF_8p function** requires the tuple format from 2.) as the action.  If this action isn’t in the list returned by actionsF_8p it raises a ValueError.  I thought about accepting just the string representation of the action but I didn't know if that would be helpful or not so I left it out.  "
   ]
  },
  {
   "cell_type": "code",
   "execution_count": 63,
   "metadata": {
    "collapsed": true
   },
   "outputs": [],
   "source": [
    "import copy\n",
    "\n",
    "# Formats 8-puzzle for printing\n",
    "def printState_8p(state):\n",
    "    state[state.index(0)] = \" \"\n",
    "    print(state[0], state[1], state[2])\n",
    "    print(state[3], state[4], state[5])\n",
    "    print(state[6], state[7], state[8])\n",
    "    state[state.index(\" \")] = 0\n",
    "\n",
    "\n",
    "# Returns index of blank as tuple\n",
    "def findBlank_8p(state):\n",
    "    return findIndex_8p(state, 0)\n",
    "\n",
    "\n",
    "# Returns index of specific piece\n",
    "def findIndex_8p(state, piece):\n",
    "    col, row = 0, 0\n",
    "\n",
    "    # find column\n",
    "    while col < 3:\n",
    "        if piece in state[col::3]: break\n",
    "        col += 1\n",
    "\n",
    "    # col = 3 if piece wasnt in state\n",
    "    if col == 3:\n",
    "        raise ValueError(str(piece) + ' not found in 8-Puzzle!')\n",
    "\n",
    "    # find row\n",
    "    for i in state[col::3]:\n",
    "        if i == piece: break\n",
    "        row += 1\n",
    "\n",
    "    return (row, col)\n",
    "\n",
    "\n",
    "def actionsF_8p(state):\n",
    "    actions = []\n",
    "    index = findBlank_8p(state)\n",
    "\n",
    "    if index[1] > 0:\n",
    "        actions.append(('left',1))\n",
    "    if index[1] < 2:\n",
    "        actions.append(('right',1))\n",
    "    if index[0] > 0:\n",
    "        actions.append(('up',1))\n",
    "    if index[0] < 2:\n",
    "        actions.append(('down',1))\n",
    "\n",
    "    return actions\n",
    "\n",
    "\n",
    "def takeActionF_8p(state, action):\n",
    "    if action not in actionsF_8p(state):\n",
    "        raise ValueError(str(action) + ' not valid with blank at index: ' + str(findBlank_8p(state)))\n",
    "\n",
    "    here = state.index(0) #Index of blank\n",
    "    there = state.index(0) #Index of spot to move blank\n",
    "    move = action[0]\n",
    "    cost = action[1]\n",
    "\n",
    "    if(move == 'left'):\n",
    "        there -= 1\n",
    "    if(move == 'right'):\n",
    "        there += 1\n",
    "    if(move == 'up'):\n",
    "        there -= 3\n",
    "    if(move == 'down'):\n",
    "        there += 3\n",
    "\n",
    "    stateC = copy.copy(state)\n",
    "    stateC[here], stateC[there] = stateC[there], stateC[here]\n",
    "    return (stateC, cost)\n",
    "\n",
    "\n",
    "def goalTestF_8p(state, goal):\n",
    "    return state == goal\n",
    "\n",
    "\n",
    "def printPath_8p(startState, goalState, path):\n",
    "    print('--Start State--')\n",
    "    printState_8p(startState)\n",
    "    print('--End State--')\n",
    "    printState_8p(goalState)\n",
    "\n",
    "    if isinstance(path, str):\n",
    "        print('Path not found: ', path)\n",
    "        return\n",
    "\n",
    "    print(len(path), ' states for success: ')\n",
    "\n",
    "    stateNum = 1\n",
    "    for state in path:\n",
    "        print('-', stateNum, '-')\n",
    "        printState_8p(state)\n",
    "        print()\n",
    "        stateNum += 1"
   ]
  },
  {
   "cell_type": "markdown",
   "metadata": {},
   "source": [
    "A little testing of these functions"
   ]
  },
  {
   "cell_type": "code",
   "execution_count": 6,
   "metadata": {
    "collapsed": true
   },
   "outputs": [
    {
     "name": "stdout",
     "output_type": "stream",
     "text": [
      "--Start State--\n",
      "2 4 3\n",
      "1   8\n",
      "6 5 7\n",
      "--End State--\n",
      "1 2 3\n",
      "4   5\n",
      "6 7 8\n",
      "9  states for success: \n",
      "- 1 -\n",
      "2 4 3\n",
      "1   8\n",
      "6 5 7\n",
      "\n",
      "- 2 -\n",
      "2   3\n",
      "1 4 8\n",
      "6 5 7\n",
      "\n",
      "- 3 -\n",
      "  2 3\n",
      "1 4 8\n",
      "6 5 7\n",
      "\n",
      "- 4 -\n",
      "1 2 3\n",
      "  4 8\n",
      "6 5 7\n",
      "\n",
      "- 5 -\n",
      "1 2 3\n",
      "4   8\n",
      "6 5 7\n",
      "\n",
      "- 6 -\n",
      "1 2 3\n",
      "4 5 8\n",
      "6   7\n",
      "\n",
      "- 7 -\n",
      "1 2 3\n",
      "4 5 8\n",
      "6 7  \n",
      "\n",
      "- 8 -\n",
      "1 2 3\n",
      "4 5  \n",
      "6 7 8\n",
      "\n",
      "- 9 -\n",
      "1 2 3\n",
      "4   5\n",
      "6 7 8\n",
      "\n"
     ]
    }
   ],
   "source": [
    "goalState = [1,2,3,4,0,5,6,7,8]\n",
    "steps = [goalState]\n",
    "steps.insert(0, takeActionF_8p(steps[0], ('right', 1))[0])\n",
    "steps.insert(0, takeActionF_8p(steps[0], ('down', 1))[0])\n",
    "steps.insert(0, takeActionF_8p(steps[0], ('left', 1))[0])\n",
    "steps.insert(0, takeActionF_8p(steps[0], ('up', 1))[0])\n",
    "steps.insert(0, takeActionF_8p(steps[0], ('left', 1))[0])\n",
    "steps.insert(0, takeActionF_8p(steps[0], ('up', 1))[0])\n",
    "steps.insert(0, takeActionF_8p(steps[0], ('right', 1))[0])\n",
    "steps.insert(0, takeActionF_8p(steps[0], ('down', 1))[0])\n",
    "printPath_8p(steps[0], steps[-1], steps)"
   ]
  },
  {
   "cell_type": "markdown",
   "metadata": {},
   "source": [
    "## Heuristic Functions"
   ]
  },
  {
   "cell_type": "markdown",
   "metadata": {},
   "source": [
    "<div class=\"alert alert-block alert-info\">\n",
    "1.)\tThe **mDist function** returns the Manhattan Distance of a piece for a specified start and goal state.  This function is helpful in h2 and h3\n",
    "<br><br>\n",
    "2.)\tMy **h3_8p function** is the summation of the Manhattan Distance of all pieces EXCLUDING the blank piece.  I actually had the idea to use this heuristic in class and later found it in the book.  This heuristic is admissible, and not constant for all states:\n",
    "    <br>\n",
    "- An **admissible heuristic** is one that never overestimates the cost of the minimum cost path from a node to the goal node. So, a heuristic is specific to a particular state space, and also to a particular goal state in that state space. It must be **admissible** for all states in that search space.\n",
    "    <br>\n",
    "    *\tI know **my heuristic is admissible** because to get from any start state to any goal state, each piece needs to move a minimum of its Manhattan distance.  Because each move includes exactly one piece and the blank spot, the Manhattan Distance of each piece is exclusive to that piece alone.  In other words, the Manhattan Distances of all pieces have no overlap.  Thus, my heuristic will never overestimate the cost of the minimum cost path from a node to the goal node.  If I were to include the Manhattan Distance of the blank, this fact would not hold true.  This is because a single move could apply to the Manhattan Distance of a the blank and the piece it switched with. Here is a simple example:\n",
    "</div>\n",
    "<div class=\"alert alert-block alert-success\">\n",
    "Goal: \n",
    "$$\n",
    "\\begin{array}{ccc}\n",
    "0 & 1 & 2\\\\\n",
    "3 & 4 & 5\\\\\n",
    "6 & 7 & 8\n",
    "\\end{array}\n",
    "$$\n",
    "Start:\n",
    "$$\n",
    "\\begin{array}{ccc}\n",
    "1 & 0 & 2\\\\\n",
    "3 & 4 & 5\\\\\n",
    "6 & 7 & 8\n",
    "\\end{array}\n",
    "$$\n",
    "<br>\n",
    "    - H estimate including the blank: 2 –> Blank spot to the left and 1 piece to the right<br>\n",
    "    - H estimate excluding the blank: 1<br>\n",
    "    - Switching the blank spot with the 1 piece would result in the goal state.  Thus, the minimum cost path for this example is 1. \n",
    "</div>\n",
    "<div class=\"alert alert-block alert-info\">\n",
    "- A stronger requirement on a heuristic is that it is **consistent**, sometimes called **monotonic**. A heuristic h is consistent if its value is non-decreasing along a path. Mathematically, a heuristic h is consistent if for every node n of a parent node p, \n",
    "$$h(p)≤h(n)+stepcost(p,n)$$\n",
    "    *\tI know that **my heuristic is not consistent** because the Manhattan Distance of any piece decreases every time that piece moves closer to its goal destination.  Obviously, each piece needs to move to its goal spot to satisfy any goal state.  Thus, my heuristic will always decrease at some point along every path from any start state to any goal state.  Hence, my heuristic is not consistent for all states.\n",
    "    \n",
    "    \n",
    "    "
   ]
  },
  {
   "cell_type": "code",
   "execution_count": 86,
   "metadata": {
    "collapsed": true
   },
   "outputs": [],
   "source": [
    "# Returns the Manhattan distance that the piece is from its goal position\n",
    "def mDist(state, goal, piece):\n",
    "    m = 0\n",
    "    indexS = findIndex_8p(state, piece)\n",
    "    indexG = findIndex_8p(goal, piece)\n",
    "    m += abs(indexS[0] - indexG[0])\n",
    "    m += abs(indexS[1] - indexG[1])\n",
    "    return m\n",
    "\n",
    "\n",
    "# Heuristic Functions\n",
    "# h(state,goal) = 0, for all states 'state' and all goal states 'goal'\n",
    "def h1_8p(state, goal):\n",
    "    return 0\n",
    "\n",
    "\n",
    "# h(state,goal) = m, where m is the Manhattan distance that the blank is from its goal position\n",
    "def h2_8p(state, goal):\n",
    "    return mDist(state, goal, 0)\n",
    "\n",
    "\n",
    "# h(state,goal) = a, where a is the summation of the Manhattan distance\n",
    "# that all pieces are from their goal position excluding the blank\n",
    "def h3_8p(state, goal):\n",
    "    a = 0\n",
    "    for piece in range(1,9):\n",
    "        a += mDist(state, goal, piece)\n",
    "    return a"
   ]
  },
  {
   "cell_type": "markdown",
   "metadata": {},
   "source": [
    "A little testing of these functions"
   ]
  },
  {
   "cell_type": "code",
   "execution_count": 18,
   "metadata": {},
   "outputs": [
    {
     "name": "stdout",
     "output_type": "stream",
     "text": [
      "h1:  0\n",
      "h2:  1\n",
      "h3:  1\n"
     ]
    }
   ],
   "source": [
    "goalState = [1, 2, 3, 4, 0, 5, 6, 7, 8]\n",
    "startState1 = [1, 2, 3, 4, 5, 0, 6, 7, 8] # Actual min. dist. is 1\n",
    "\n",
    "# Test 1: Move one piece\n",
    "print('h1: ', h1_8p(startState1, goalState))\n",
    "print('h2: ', h2_8p(startState1, goalState))\n",
    "print('h3: ', h3_8p(startState1, goalState))"
   ]
  },
  {
   "cell_type": "code",
   "execution_count": 19,
   "metadata": {},
   "outputs": [
    {
     "name": "stdout",
     "output_type": "stream",
     "text": [
      "h1:  0\n",
      "h2:  2\n",
      "h3:  8\n"
     ]
    }
   ],
   "source": [
    "startState2 = [4, 1, 2, 6, 7, 3, 0, 8, 5] # Actual min. dist. is 8\n",
    "\n",
    "# Test 2: Move each piece once. \n",
    "print('h1: ', h1_8p(startState2, goalState))\n",
    "print('h2: ', h2_8p(startState2, goalState))\n",
    "print('h3: ', h3_8p(startState2, goalState))"
   ]
  },
  {
   "cell_type": "code",
   "execution_count": 20,
   "metadata": {},
   "outputs": [
    {
     "name": "stdout",
     "output_type": "stream",
     "text": [
      "h1:  0\n",
      "h2:  0\n",
      "h3:  24\n"
     ]
    }
   ],
   "source": [
    "startState3 = [8, 7, 6, 5, 0, 4, 3, 2, 1]\n",
    "\n",
    "# Test 3: Inversion of goal\n",
    "print('h1: ', h1_8p(startState3, goalState))\n",
    "print('h2: ', h2_8p(startState3, goalState))\n",
    "print('h3: ', h3_8p(startState3, goalState))"
   ]
  },
  {
   "cell_type": "markdown",
   "metadata": {},
   "source": [
    "A few examples to test that h3 is not consistent"
   ]
  },
  {
   "cell_type": "code",
   "execution_count": 96,
   "metadata": {},
   "outputs": [
    {
     "name": "stdout",
     "output_type": "stream",
     "text": [
      "Path length: 9 \n",
      "start h3: 8\n"
     ]
    }
   ],
   "source": [
    "startState = [1, 5, 0, 4, 7, 2, 6, 8, 3]\n",
    "goalState = [1, 2, 3, 4, 0, 5, 6, 7, 8]\n",
    "\n",
    "path = iterativeDeepeningSearch(startState, goalState, actionsF_8p, takeActionF_8p, 10)\n",
    "print('Path length: {} \\nstart h3: {}'.format(len(path), h3_8p(startState, goalState)))"
   ]
  },
  {
   "cell_type": "code",
   "execution_count": 97,
   "metadata": {},
   "outputs": [
    {
     "name": "stdout",
     "output_type": "stream",
     "text": [
      "State: [1, 5, 0, 4, 7, 2, 6, 8, 3] has h value: 8\n",
      "State: [1, 5, 2, 4, 7, 0, 6, 8, 3] has h value: 7\n",
      "State: [1, 5, 2, 4, 7, 3, 6, 8, 0] has h value: 6\n",
      "State: [1, 5, 2, 4, 7, 3, 6, 0, 8] has h value: 5\n",
      "State: [1, 5, 2, 4, 0, 3, 6, 7, 8] has h value: 4\n",
      "State: [1, 0, 2, 4, 5, 3, 6, 7, 8] has h value: 3\n",
      "State: [1, 2, 0, 4, 5, 3, 6, 7, 8] has h value: 2\n",
      "State: [1, 2, 3, 4, 5, 0, 6, 7, 8] has h value: 1\n",
      "State: [1, 2, 3, 4, 0, 5, 6, 7, 8] has h value: 0\n"
     ]
    }
   ],
   "source": [
    "for state in path:\n",
    "    print('State: {} has h value: {}'.format(state, h3_8p(state, goalState)))"
   ]
  },
  {
   "cell_type": "markdown",
   "metadata": {},
   "source": [
    "## Estimated Effective Branching Factor Functions"
   ]
  },
  {
   "cell_type": "markdown",
   "metadata": {},
   "source": [
    "Some notes on Effective Branching Factor.\n",
    "<div class=\"alert alert-block alert-info\">\n",
    "One way to characterize the quality of a heuristic is the **effective branching factor** $b^∗$. If the total number of nodes generated by A∗ for a particular problem is $N$ and the solution depth is $d$, then $b^∗$ is the branching factor that a uniform tree of depth $d$ would have to have in order to contain $N$ nodes. Thus,\n",
    "</div>\n",
    "<div class=\"alert alert-block alert-success\">\n",
    "$$\n",
    "N = 1 + b^∗ + (b^∗)^2 + ··· + (b^∗)^d\n",
    "$$\n",
    "\n",
    "A faster way to calculate the above quantity is\n",
    "\n",
    "$$\n",
    "\\frac{1-b^{d+1}}{1-b}\n",
    "$$\n",
    "</div>\n",
    "<div class=\"alert alert-block alert-info\">\n",
    "For example, if A∗ finds a solution at depth 5 using 52 nodes, then the effective branching\n",
    "factor is 1.92. That is, if there was a tree 5 layers deep where each node had 1.92 children, then the tree would contain 52 nodes in total.\n",
    "<br><br>\n",
    "A well designed heuristic would have a value of $b^∗$ close to 1, allowing fairly large problems to be solved at reasonable computational cost."
   ]
  },
  {
   "cell_type": "markdown",
   "metadata": {},
   "source": [
    "Some notes on my functions.\n",
    "<div class=\"alert alert-block alert-info\">\n",
    "The **ebf function** returns an estimated effective branching factor $b^∗$ given the number of nodes expanded during a search and the depth of the search.  The precision of the number of nodes that the returned $b^∗$ will estimate can also be applied but will default to 0.01 if not specified.  Precision is important here because $b^∗$ is being searched for using a binary search method.\n",
    "<br><br>\n",
    "Originally, I thought that ebf couldnt be estimated when number of nodes was less than 1 or depth was less than 0 so I was raising a ValueError for those cases.  Then I saw an example in the \"Local Search in Discrete State and Action Spaces\" notes that ebf(0, 0) was simply 0 and ebf(1, 1) was 0.0078125.  So I commented these ValueErrors out and simply returned 0 when nNodes was less than 1 or depth was less than 0.  \n",
    "<br><br>\n",
    "**CASE:** depth = 1.  Mathematically, when depth = 1, $$N = 1 + b^*$$ Hence, $$b^* = N - 1$$  \n",
    "I had a case in my function that would return nNodes-1 when depth = 1 but I commented this case out because there are examples where depth = 1 and the returned value is not nNodes-1.  Based off of these examples, I assume that Chuck's implementation doesnt have a hard-coded case for depth = 1.\n",
    "<br><br>\n",
    "**CASE:** depth = 0.  Intuitively, when depth = 0, that means that the solution was found before any nodes were expanded.  Since the solution was found instantaneously, the effective branching factor should be 1.0.  But for this case, the ebf is not very applicable.\n",
    "<br><br>\n",
    "**CASE:** nNodes = 1.  Mathematically, when N = 1, $$1 = 1 + b^* + (b^*)^2 + ...$$ Hence, $b^*$ must equal 0.  However, there are a few examples from the notes where nNodes = 1 and the returned value is between 0 and 1.  Again, I commented this case out and let my function do the work\n",
    "<br><br>\n",
    "**CASE:** nNodes less than 1 or depth less than 0.  The ebf measurement doesn't really apply to this case either but examples in the notes (ebf(0,0)) led me to return 0 rather than raise a ValueError.\n",
    "<br><br>\n",
    "The **ebfGuess function** returns the number of nodes expanded during a search given an estimated $b^∗$ and depth.  This is helpful because ebf needs this equation very frequently.  \n",
    "<br>\n",
    "**SOMETHING COOL:** I was able to bring my ebfGuess function down to a single line by manipulating lists, range, and summation.  THIS IS WHY I LOVE PYTHON!"
   ]
  },
  {
   "cell_type": "code",
   "execution_count": 65,
   "metadata": {
    "collapsed": true
   },
   "outputs": [],
   "source": [
    "# nNodes = number of nodes expanded during a search\n",
    "# depth = depth of solution for a search\n",
    "# precision = precision on the number of nodes that the returned b* will estimate\n",
    "# returns esimated b*\n",
    "def ebf(nNodes, depth, precision=0.01):\n",
    "    if nNodes < 1 or depth < 0:\n",
    "        return 0\n",
    "    if depth == 0:\n",
    "        return 1.0\n",
    "#     if nNodes == 1:\n",
    "#         return 0.0\n",
    "#     if depth == 1: # N = 1 + b* => b* = N - 1\n",
    "#         return nNodes-1\n",
    "#     if nNodes < 1:\n",
    "#         raise ValueError('nNodes cant be less than 1 in ebf. Input: ' + str(nNodes))\n",
    "#     if depth < 0:\n",
    "#         raise ValueError('depth cant be less than 0 in ebf. Input: ' + str(depth))\n",
    "\n",
    "\n",
    "    # Find range.  Try 10 first and go up by 10s\n",
    "    low = 1 if ebfGuess(1, depth) <= nNodes else 0\n",
    "    high = 10\n",
    "    while nNodes > ebfGuess(high, depth):\n",
    "        low = high\n",
    "        high += 10\n",
    "\n",
    "    # print('range is', low, '-', high)\n",
    "    # Binary search for answer between range\n",
    "    while True:\n",
    "        guess = (high + low) / 2\n",
    "        result = ebfGuess(guess, depth)\n",
    "        # if result-precision <= nNodes <= result+precision:\n",
    "        if abs(nNodes - result) < precision:\n",
    "            return guess\n",
    "        # print('trying a b value of', guess, 'with range', low, '-', high)\n",
    "        if result > nNodes:\n",
    "            high = guess\n",
    "        else:\n",
    "            low = guess\n",
    "\n",
    "\n",
    "def ebfGuess(b, depth):\n",
    "    return sum([b**power for power in range(depth+1)])\n",
    "#     result = 0\n",
    "#     for power in range(depth+1):\n",
    "#         result += b**power\n",
    "#     return result"
   ]
  },
  {
   "cell_type": "markdown",
   "metadata": {},
   "source": [
    "First, some example output for the ebf function."
   ]
  },
  {
   "cell_type": "code",
   "execution_count": 38,
   "metadata": {},
   "outputs": [
    {
     "data": {
      "text/plain": [
       "1.661376953125"
      ]
     },
     "execution_count": 38,
     "metadata": {},
     "output_type": "execute_result"
    }
   ],
   "source": [
    "ebf(10, 3) # 1.661376953125"
   ]
  },
  {
   "cell_type": "markdown",
   "metadata": {},
   "source": [
    "The smallest argument values should be a depth of 0, and 1 node."
   ]
  },
  {
   "cell_type": "code",
   "execution_count": 39,
   "metadata": {},
   "outputs": [
    {
     "data": {
      "text/plain": [
       "1.0"
      ]
     },
     "execution_count": 39,
     "metadata": {},
     "output_type": "execute_result"
    }
   ],
   "source": [
    "ebf(1, 0) # 1.0"
   ]
  },
  {
   "cell_type": "code",
   "execution_count": 40,
   "metadata": {},
   "outputs": [
    {
     "data": {
      "text/plain": [
       "0.009765625"
      ]
     },
     "execution_count": 40,
     "metadata": {},
     "output_type": "execute_result"
    }
   ],
   "source": [
    "ebf(1, 1) # 0.0078125"
   ]
  },
  {
   "cell_type": "code",
   "execution_count": 41,
   "metadata": {},
   "outputs": [
    {
     "data": {
      "text/plain": [
       "0.009765625"
      ]
     },
     "execution_count": 41,
     "metadata": {},
     "output_type": "execute_result"
    }
   ],
   "source": [
    "ebf(1, 100)"
   ]
  },
  {
   "cell_type": "code",
   "execution_count": 42,
   "metadata": {},
   "outputs": [
    {
     "data": {
      "text/plain": [
       "1.0087890625"
      ]
     },
     "execution_count": 42,
     "metadata": {},
     "output_type": "execute_result"
    }
   ],
   "source": [
    "ebf(2, 1) # 1.0078125"
   ]
  },
  {
   "cell_type": "code",
   "execution_count": 43,
   "metadata": {},
   "outputs": [
    {
     "data": {
      "text/plain": [
       "2.001953125"
      ]
     },
     "execution_count": 43,
     "metadata": {},
     "output_type": "execute_result"
    }
   ],
   "source": [
    "ebf(3, 1)"
   ]
  },
  {
   "cell_type": "code",
   "execution_count": 44,
   "metadata": {},
   "outputs": [
    {
     "data": {
      "text/plain": [
       "8.998046875"
      ]
     },
     "execution_count": 44,
     "metadata": {},
     "output_type": "execute_result"
    }
   ],
   "source": [
    "ebf(10, 1)"
   ]
  },
  {
   "cell_type": "code",
   "execution_count": 45,
   "metadata": {},
   "outputs": [
    {
     "data": {
      "text/plain": [
       "1.0"
      ]
     },
     "execution_count": 45,
     "metadata": {},
     "output_type": "execute_result"
    }
   ],
   "source": [
    "ebf(4, 0)"
   ]
  },
  {
   "cell_type": "code",
   "execution_count": 46,
   "metadata": {},
   "outputs": [
    {
     "data": {
      "text/plain": [
       "1.000000536441803"
      ]
     },
     "execution_count": 46,
     "metadata": {},
     "output_type": "execute_result"
    }
   ],
   "source": [
    "# Check that precision is working correctly\n",
    "ebf(2, 1, precision=0.000001) # 1.0000009536743164"
   ]
  },
  {
   "cell_type": "code",
   "execution_count": 47,
   "metadata": {},
   "outputs": [
    {
     "data": {
      "text/plain": [
       "1.3034286499023438"
      ]
     },
     "execution_count": 47,
     "metadata": {},
     "output_type": "execute_result"
    }
   ],
   "source": [
    "ebf(100, 12, 0.01) # 1.3034343719482422"
   ]
  },
  {
   "cell_type": "code",
   "execution_count": 48,
   "metadata": {},
   "outputs": [
    {
     "data": {
      "text/plain": [
       "11.275596916675568"
      ]
     },
     "execution_count": 48,
     "metadata": {},
     "output_type": "execute_result"
    }
   ],
   "source": [
    "ebf(200000, 5) # 11.275596931956898"
   ]
  },
  {
   "cell_type": "code",
   "execution_count": 49,
   "metadata": {},
   "outputs": [
    {
     "data": {
      "text/plain": [
       "1.2348192499484867"
      ]
     },
     "execution_count": 49,
     "metadata": {},
     "output_type": "execute_result"
    }
   ],
   "source": [
    "ebf(200000, 50) # 1.2348192492705223"
   ]
  },
  {
   "cell_type": "markdown",
   "metadata": {},
   "source": [
    "## Node Class"
   ]
  },
  {
   "cell_type": "markdown",
   "metadata": {},
   "source": [
    "<div class=\"alert alert-block alert-info\">\n",
    "The **Node class** is used to make node objects.  This is extremely useful when using heuristics and informed search.  This is how the aStarSearch function will keep track of f, g, and h. I found this code in the notes \"08 Python Classes\" from 440 lecture"
   ]
  },
  {
   "cell_type": "code",
   "execution_count": 66,
   "metadata": {
    "collapsed": true
   },
   "outputs": [],
   "source": [
    "# Node class used for keeping track of f, g, & h for each state\n",
    "class Node:\n",
    "    # Constructor\n",
    "    def __init__(self, state, f=0, g=0 ,h=0):\n",
    "        self.state = state\n",
    "        self.f = f\n",
    "        self.g = g\n",
    "        self.h = h\n",
    "\n",
    "    # String representation of a node\n",
    "    def __repr__(self):\n",
    "        return \"Node(\" + repr(self.state) + \", f=\" + repr(self.f) + \\\n",
    "               \", g=\" + repr(self.g) + \", h=\" + repr(self.h) + \")\""
   ]
  },
  {
   "cell_type": "markdown",
   "metadata": {},
   "source": [
    "## Global Variables"
   ]
  },
  {
   "cell_type": "markdown",
   "metadata": {},
   "source": [
    "<div class=\"alert alert-block alert-info\">\n",
    "The global **nodesExpanded** is used to count the number of nodes/states expanded by each search algorithm.  I set this variable to 0 each time a new search is started to make sure I dont count nodes from a previous search."
   ]
  },
  {
   "cell_type": "code",
   "execution_count": 81,
   "metadata": {
    "collapsed": true
   },
   "outputs": [],
   "source": [
    "# Global to count nodes expanded\n",
    "nodesExpanded = 0"
   ]
  },
  {
   "cell_type": "markdown",
   "metadata": {},
   "source": [
    "## Iterative Deepening Search Functions"
   ]
  },
  {
   "cell_type": "markdown",
   "metadata": {},
   "source": [
    "<div class=\"alert alert-block alert-info\">\n",
    "A few changes from A2 to A3.\n",
    "<br>\n",
    "1. The **nodesExpanded** global is used to count the nodes expanded by each call to iterativeDeepeningSearch\n",
    "<br>\n",
    "2. The **takeActionF function** is now returning a tuple with child state and step cost."
   ]
  },
  {
   "cell_type": "code",
   "execution_count": 67,
   "metadata": {
    "collapsed": true
   },
   "outputs": [],
   "source": [
    "def iterativeDeepeningSearch(startState, goalState, actionsF, takeActionF, maxDepth):\n",
    "    global nodesExpanded\n",
    "    nodesExpanded = 0\n",
    "    for depth in range(maxDepth):\n",
    "        result = depthLimitedSearch(startState, goalState, actionsF, takeActionF, depth)\n",
    "        if result == 'failure':\n",
    "            return 'failure'\n",
    "        if result != 'cutoff':\n",
    "            result.insert(0, startState)\n",
    "            return result\n",
    "    return 'cutoff'\n",
    "\n",
    "\n",
    "def depthLimitedSearch(startState, goalState, actionsF, takeActionF, depthLimit):\n",
    "    return recursiveDLS(startState, goalState, actionsF, takeActionF, depthLimit)\n",
    "\n",
    "\n",
    "def recursiveDLS(startState, goalState, actionsF, takeActionF, depthLimit):\n",
    "    global nodesExpanded\n",
    "    if startState == goalState:\n",
    "        return []\n",
    "    elif depthLimit == 0:\n",
    "        return 'cutoff'\n",
    "    else:\n",
    "        cuttoffOccured = False\n",
    "        for action in actionsF(startState):\n",
    "            child,_ = takeActionF(startState, action)\n",
    "            nodesExpanded += 1\n",
    "            result = recursiveDLS(child, goalState, actionsF, takeActionF, depthLimit-1)\n",
    "            if result == 'cutoff':\n",
    "                cuttoffOccured = True\n",
    "            elif result != 'failure':\n",
    "                result.insert(0, child)\n",
    "                return result\n",
    "        if cuttoffOccured:\n",
    "            return 'cutoff'\n",
    "        else:\n",
    "            return 'failure'"
   ]
  },
  {
   "cell_type": "markdown",
   "metadata": {},
   "source": [
    "## A Star Search Functions"
   ]
  },
  {
   "cell_type": "markdown",
   "metadata": {},
   "source": [
    "<div class=\"alert alert-block alert-info\">\n",
    "The **aStarSearch function** uses the start state (**startState**), valid actions function (**actionsF**), action application function (**takeActionF**), goal test function (**goalTestF**), and heuristic function passed (**hF**), to make a new node.  It then uses this node to call the **aStarSearchHelper function** to recursively best-search.  This is helpful because the user of the aStarSearch function doesnt need to know how to use the node class at all.  It also keeps track of the f, g, and h values to find the next best child node to explore.  \n",
    "<br>\n",
    "A majority of this code was taken from the notes \"07 Informed Search\" from 440 lecture but modified slightly.  The code in the 07 notes actually has a error when trying to search for a node that does not exist.  However, for this assignment, we were told that we may assume that the goal is reachable. Failure will not happen for any of the tests run when grading your solution.  Even so, I use a try catch for the call to aStarSearchHelper to catch \"RecursionError: maximum recursion depth exceeded\" and return failure.\n",
    "<br><br>\n",
    "**Using lambda to call aStarSearch**\n",
    "<br>\n",
    "An interesting piece of these functions is that aStarSearchHelper only passes one argument to goalTestF and hF when they are called.  Originally, I thought that goalState was forgotten as an argument in the definition of aStarSeach.  But then I saw the example provided that used lambda to pass the goal state when calling aStarSearch.  I was very unfamilar with using lambda to do anything other than sort lists.  After reading posts on piazza and some google research, I figured out how python was interprateing this.  Here is some text about lambda from 'https://www.python-course.eu/lambda.php':\n",
    "- \"The lambda operator or lambda function is a way to create small anonymous functions, i.e. functions without a name. These functions are throw-away functions, i.e. they are just needed where they have been created.\"\n",
    "- \"The general syntax of a lambda function is quite simple: `lambda argument_list: expression`.\n",
    "The argument list consists of a comma separated list of arguments and the expression is an arithmetic expression using these arguments. You can assign the function to a variable to give it a name.\"\n",
    "\n",
    "Basically, a new function is beind defined when calling lambda in this case.  This function is identical to the goal test function or heuristic function already defined, but when it is called in the aStar functions, it passes the goal state provided as the second arguement.  \n",
    "<br>\n",
    "TL;DR: \n",
    "- Problem: 1.) aStar functions only pass the current state to goalTestF and hF.  2.) My goalTestF's and hF's require two arguments; state, goal.\n",
    "- Solution: Use lambda to define a new function with a hardcoded goal argument for goalTestF and hF"
   ]
  },
  {
   "cell_type": "code",
   "execution_count": 68,
   "metadata": {
    "collapsed": true
   },
   "outputs": [],
   "source": [
    "# Recursive Best-First Search implementation of the A* algorithm given in class\n",
    "# Recursive Best First Search (Figure 3.26, Russell and Norvig)\n",
    "# Recursive Iterative Deepening form of A*, where depth is replaced by f(n)\n",
    "def aStarSearch(startState, actionsF, takeActionF, goalTestF, hF):\n",
    "    global nodesExpanded\n",
    "    nodesExpanded = 0\n",
    "    h = hF(startState)\n",
    "    startNode = Node(state=startState, f=0+h, g=0, h=h)\n",
    "    try: \n",
    "        result = aStarSearchHelper(startNode, actionsF, takeActionF, goalTestF, hF, float('inf'))\n",
    "    except RuntimeError as re: # If  RecursionError occurs just return failure\n",
    "        result = (\"failure\", float('inf'))\n",
    "    return result\n",
    "\n",
    "\n",
    "def aStarSearchHelper(parentNode, actionsF, takeActionF, goalTestF, hF, fmax):\n",
    "    global nodesExpanded\n",
    "    if goalTestF(parentNode.state):\n",
    "        return ([parentNode.state], parentNode.g)\n",
    "    # Construct list of children nodes with f, g, and h values\n",
    "    actions = actionsF(parentNode.state)\n",
    "    if not actions:\n",
    "        return (\"failure\", float('inf'))\n",
    "    children = []\n",
    "    for action in actions:\n",
    "        (childState, stepCost) = takeActionF(parentNode.state, action)\n",
    "        h = hF(childState)\n",
    "        g = parentNode.g + stepCost\n",
    "        f = max(h+g, parentNode.f)\n",
    "        childNode = Node(state=childState, f=f, g=g, h=h)\n",
    "        children.append(childNode)\n",
    "        nodesExpanded += 1\n",
    "    while True:\n",
    "        # find best child\n",
    "        children.sort(key = lambda n: n.f) # sort by f value\n",
    "        bestChild = children[0]\n",
    "        if bestChild.f > fmax:\n",
    "            return (\"failure\",bestChild.f)\n",
    "\n",
    "        # next lowest f value\n",
    "        altf = children[1].f if len(children) > 1 else float('inf')\n",
    "\n",
    "        # expand best child, reassign its f value to be returned value\n",
    "        result, bestChild.f = aStarSearchHelper(bestChild, actionsF, takeActionF, goalTestF, hF, min(fmax,altf))\n",
    "        if result is not \"failure\":\n",
    "            result.insert(0, parentNode.state)\n",
    "            return (result, bestChild.f)"
   ]
  },
  {
   "cell_type": "markdown",
   "metadata": {},
   "source": [
    "Here is a simple example using our usual simple graph search."
   ]
  },
  {
   "cell_type": "code",
   "execution_count": 53,
   "metadata": {
    "collapsed": true
   },
   "outputs": [],
   "source": [
    "def actionsF_simple(state):\n",
    "    succs = {'a': ['b', 'c'], 'b':['a'], 'c':['h'], 'h':['i'], 'i':['j', 'k', 'l'], 'k':['z']}\n",
    "    return [(s, 1) for s in succs.get(state, [])]\n",
    "\n",
    "def takeActionF_simple(state, action):\n",
    "    return action\n",
    "\n",
    "def goalTestF_simple(state, goal):\n",
    "    return state == goal\n",
    "\n",
    "def h_simple(state, goal):\n",
    "    return 1"
   ]
  },
  {
   "cell_type": "code",
   "execution_count": 54,
   "metadata": {},
   "outputs": [
    {
     "data": {
      "text/plain": [
       "[('b', 1), ('c', 1)]"
      ]
     },
     "execution_count": 54,
     "metadata": {},
     "output_type": "execute_result"
    }
   ],
   "source": [
    "actions = actionsF_simple('a')\n",
    "actions"
   ]
  },
  {
   "cell_type": "code",
   "execution_count": 55,
   "metadata": {},
   "outputs": [
    {
     "data": {
      "text/plain": [
       "('b', 1)"
      ]
     },
     "execution_count": 55,
     "metadata": {},
     "output_type": "execute_result"
    }
   ],
   "source": [
    "takeActionF_simple('a', actions[0])"
   ]
  },
  {
   "cell_type": "code",
   "execution_count": 56,
   "metadata": {},
   "outputs": [
    {
     "data": {
      "text/plain": [
       "True"
      ]
     },
     "execution_count": 56,
     "metadata": {},
     "output_type": "execute_result"
    }
   ],
   "source": [
    "goalTestF_simple('a', 'a')"
   ]
  },
  {
   "cell_type": "code",
   "execution_count": 57,
   "metadata": {},
   "outputs": [
    {
     "data": {
      "text/plain": [
       "1"
      ]
     },
     "execution_count": 57,
     "metadata": {},
     "output_type": "execute_result"
    }
   ],
   "source": [
    "h_simple('a', 'z')"
   ]
  },
  {
   "cell_type": "code",
   "execution_count": 69,
   "metadata": {},
   "outputs": [
    {
     "data": {
      "text/plain": [
       "['a', 'c', 'h', 'i', 'k', 'z']"
      ]
     },
     "execution_count": 69,
     "metadata": {},
     "output_type": "execute_result"
    }
   ],
   "source": [
    "iterativeDeepeningSearch('a', 'z', actionsF_simple, takeActionF_simple, 10)"
   ]
  },
  {
   "cell_type": "code",
   "execution_count": 70,
   "metadata": {},
   "outputs": [
    {
     "data": {
      "text/plain": [
       "(['a', 'c', 'h', 'i', 'k', 'z'], 5)"
      ]
     },
     "execution_count": 70,
     "metadata": {},
     "output_type": "execute_result"
    }
   ],
   "source": [
    "aStarSearch('a',actionsF_simple, takeActionF_simple,\n",
    "            lambda s: goalTestF_simple(s, 'z'),\n",
    "            lambda s: h_simple(s, 'z'))"
   ]
  },
  {
   "cell_type": "markdown",
   "metadata": {},
   "source": [
    "Search for a goal that doesnt exist"
   ]
  },
  {
   "cell_type": "code",
   "execution_count": 71,
   "metadata": {},
   "outputs": [
    {
     "data": {
      "text/plain": [
       "('failure', inf)"
      ]
     },
     "execution_count": 71,
     "metadata": {},
     "output_type": "execute_result"
    }
   ],
   "source": [
    "aStarSearch('a', actionsF_simple, takeActionF_simple,\n",
    "                lambda s: goalTestF_simple(s, 'q'),\n",
    "                lambda s: h_simple(s, 'q'))"
   ]
  },
  {
   "cell_type": "markdown",
   "metadata": {},
   "source": [
    "Example from A2 that was already solved.  All 4 versions of my search functions should be able to solve this example."
   ]
  },
  {
   "cell_type": "code",
   "execution_count": 80,
   "metadata": {},
   "outputs": [
    {
     "data": {
      "text/plain": [
       "[[1, 5, 0, 4, 7, 2, 6, 8, 3],\n",
       " [1, 5, 2, 4, 7, 0, 6, 8, 3],\n",
       " [1, 5, 2, 4, 7, 3, 6, 8, 0],\n",
       " [1, 5, 2, 4, 7, 3, 6, 0, 8],\n",
       " [1, 5, 2, 4, 0, 3, 6, 7, 8],\n",
       " [1, 0, 2, 4, 5, 3, 6, 7, 8],\n",
       " [1, 2, 0, 4, 5, 3, 6, 7, 8],\n",
       " [1, 2, 3, 4, 5, 0, 6, 7, 8],\n",
       " [1, 2, 3, 4, 0, 5, 6, 7, 8]]"
      ]
     },
     "execution_count": 80,
     "metadata": {},
     "output_type": "execute_result"
    }
   ],
   "source": [
    "startState = [1, 5, 0, 4, 7, 2, 6, 8, 3]\n",
    "goalState = [1, 2, 3, 4, 0, 5, 6, 7, 8]\n",
    "\n",
    "iterativeDeepeningSearch(startState, goalState, actionsF_8p, takeActionF_8p, 10)"
   ]
  },
  {
   "cell_type": "code",
   "execution_count": 87,
   "metadata": {},
   "outputs": [
    {
     "data": {
      "text/plain": [
       "([[1, 5, 0, 4, 7, 2, 6, 8, 3],\n",
       "  [1, 5, 2, 4, 7, 0, 6, 8, 3],\n",
       "  [1, 5, 2, 4, 7, 3, 6, 8, 0],\n",
       "  [1, 5, 2, 4, 7, 3, 6, 0, 8],\n",
       "  [1, 5, 2, 4, 0, 3, 6, 7, 8],\n",
       "  [1, 0, 2, 4, 5, 3, 6, 7, 8],\n",
       "  [1, 2, 0, 4, 5, 3, 6, 7, 8],\n",
       "  [1, 2, 3, 4, 5, 0, 6, 7, 8],\n",
       "  [1, 2, 3, 4, 0, 5, 6, 7, 8]],\n",
       " 8)"
      ]
     },
     "execution_count": 87,
     "metadata": {},
     "output_type": "execute_result"
    }
   ],
   "source": [
    "aStarSearch(startState, actionsF_8p, takeActionF_8p,\n",
    "                lambda s: goalTestF_8p(s, goalState),\n",
    "                lambda s: h1_8p(s, goalState))"
   ]
  },
  {
   "cell_type": "code",
   "execution_count": 88,
   "metadata": {},
   "outputs": [
    {
     "data": {
      "text/plain": [
       "([[1, 5, 0, 4, 7, 2, 6, 8, 3],\n",
       "  [1, 5, 2, 4, 7, 0, 6, 8, 3],\n",
       "  [1, 5, 2, 4, 7, 3, 6, 8, 0],\n",
       "  [1, 5, 2, 4, 7, 3, 6, 0, 8],\n",
       "  [1, 5, 2, 4, 0, 3, 6, 7, 8],\n",
       "  [1, 0, 2, 4, 5, 3, 6, 7, 8],\n",
       "  [1, 2, 0, 4, 5, 3, 6, 7, 8],\n",
       "  [1, 2, 3, 4, 5, 0, 6, 7, 8],\n",
       "  [1, 2, 3, 4, 0, 5, 6, 7, 8]],\n",
       " 8)"
      ]
     },
     "execution_count": 88,
     "metadata": {},
     "output_type": "execute_result"
    }
   ],
   "source": [
    "aStarSearch(startState, actionsF_8p, takeActionF_8p,\n",
    "                lambda s: goalTestF_8p(s, goalState),\n",
    "                lambda s: h2_8p(s, goalState))"
   ]
  },
  {
   "cell_type": "code",
   "execution_count": 91,
   "metadata": {},
   "outputs": [
    {
     "data": {
      "text/plain": [
       "([[1, 5, 0, 4, 7, 2, 6, 8, 3],\n",
       "  [1, 5, 2, 4, 7, 0, 6, 8, 3],\n",
       "  [1, 5, 2, 4, 7, 3, 6, 8, 0],\n",
       "  [1, 5, 2, 4, 7, 3, 6, 0, 8],\n",
       "  [1, 5, 2, 4, 0, 3, 6, 7, 8],\n",
       "  [1, 0, 2, 4, 5, 3, 6, 7, 8],\n",
       "  [1, 2, 0, 4, 5, 3, 6, 7, 8],\n",
       "  [1, 2, 3, 4, 5, 0, 6, 7, 8],\n",
       "  [1, 2, 3, 4, 0, 5, 6, 7, 8]],\n",
       " 8)"
      ]
     },
     "execution_count": 91,
     "metadata": {},
     "output_type": "execute_result"
    }
   ],
   "source": [
    "aStarSearch(startState, actionsF_8p, takeActionF_8p,\n",
    "                lambda s: goalTestF_8p(s, goalState),\n",
    "                lambda s: h3_8p(s, goalState))"
   ]
  },
  {
   "cell_type": "markdown",
   "metadata": {},
   "source": [
    "The following example is proof that my heuristic greatly improves the search optimality of $A*$.  I tried to design a start and goal state that would require the most states to get from start to goal.  In this case, the start state is simply an inverse of the goal state.  I came to this example because it maximized the h value of my heuristic function.  I actually brought up this example in the heuristic section of this notebook where I show the output of my heuristic compaired to the other two.  When I tried to apply this example to IDS, $A*$ with h1, and even $A*$ with h2, they were unable to generate a solution in a reasonable time.  \n",
    "<div class=\"alert alert-block alert-success\">\n",
    "Goal: \n",
    "$$\n",
    "\\begin{array}{ccc}\n",
    "1 & 2 & 3\\\\\n",
    "4 & 0 & 5\\\\\n",
    "6 & 7 & 8\n",
    "\\end{array}\n",
    "$$\n",
    "Start:\n",
    "$$\n",
    "\\begin{array}{ccc}\n",
    "8 & 7 & 6\\\\\n",
    "5 & 0 & 4\\\\\n",
    "3 & 2 & 1\n",
    "\\end{array}\n",
    "$$\n",
    "<br>"
   ]
  },
  {
   "cell_type": "code",
   "execution_count": 76,
   "metadata": {},
   "outputs": [
    {
     "name": "stdout",
     "output_type": "stream",
     "text": [
      "Best f value in path:  30\n",
      "Path length:  31\n",
      "Path:  [[8, 7, 6, 5, 0, 4, 3, 2, 1], [8, 7, 6, 5, 2, 4, 3, 0, 1], [8, 7, 6, 5, 2, 4, 3, 1, 0], [8, 7, 6, 5, 2, 0, 3, 1, 4], [8, 7, 0, 5, 2, 6, 3, 1, 4], [8, 0, 7, 5, 2, 6, 3, 1, 4], [0, 8, 7, 5, 2, 6, 3, 1, 4], [5, 8, 7, 0, 2, 6, 3, 1, 4], [5, 8, 7, 3, 2, 6, 0, 1, 4], [5, 8, 7, 3, 2, 6, 1, 0, 4], [5, 8, 7, 3, 2, 6, 1, 4, 0], [5, 8, 7, 3, 2, 0, 1, 4, 6], [5, 8, 0, 3, 2, 7, 1, 4, 6], [5, 0, 8, 3, 2, 7, 1, 4, 6], [0, 5, 8, 3, 2, 7, 1, 4, 6], [3, 5, 8, 0, 2, 7, 1, 4, 6], [3, 5, 8, 1, 2, 7, 0, 4, 6], [3, 5, 8, 1, 2, 7, 4, 0, 6], [3, 5, 8, 1, 2, 7, 4, 6, 0], [3, 5, 8, 1, 2, 0, 4, 6, 7], [3, 5, 0, 1, 2, 8, 4, 6, 7], [3, 0, 5, 1, 2, 8, 4, 6, 7], [0, 3, 5, 1, 2, 8, 4, 6, 7], [1, 3, 5, 0, 2, 8, 4, 6, 7], [1, 3, 5, 4, 2, 8, 0, 6, 7], [1, 3, 5, 4, 2, 8, 6, 0, 7], [1, 3, 5, 4, 2, 8, 6, 7, 0], [1, 3, 5, 4, 2, 0, 6, 7, 8], [1, 3, 0, 4, 2, 5, 6, 7, 8], [1, 0, 3, 4, 2, 5, 6, 7, 8], [1, 2, 3, 4, 0, 5, 6, 7, 8]]\n"
     ]
    }
   ],
   "source": [
    "goalState = [1,2,3,4,0,5,6,7,8]\n",
    "hardStart = [8,7,6,5,0,4,3,2,1]\n",
    "hardPath = aStarSearch(hardStart, actionsF_8p, takeActionF_8p,\n",
    "                lambda s: goalTestF_8p(s, goalState),\n",
    "                lambda s: h3_8p(s, goalState))\n",
    "print('Best f value in path: ', hardPath[1])\n",
    "print('Path length: ', len(hardPath[0]))\n",
    "print('Path: ', hardPath[0])"
   ]
  },
  {
   "cell_type": "markdown",
   "metadata": {},
   "source": [
    "# Comparison using texttable"
   ]
  },
  {
   "cell_type": "code",
   "execution_count": 72,
   "metadata": {},
   "outputs": [
    {
     "name": "stdout",
     "output_type": "stream",
     "text": [
      "State:    | [1, 2, 3, 4, 0, 5, 6, 7, 8] | [1, 2, 3, 4, 5, 8, 6, 0, 7] | [1, 0, 3, 4, 5, 8, 2, 6, 7] |\n",
      "+---------+---------+---------+---------+---------+---------+---------+---------+---------+---------+\n",
      "| Algorit |  Depth  |  Nodes  |   EBF   |  Depth  |  Nodes  |   EBF   |  Depth  |  Nodes  |   EBF   |\n",
      "|   hm    |         |         |         |         |         |         |         |         |         |\n",
      "+=========+=========+=========+=========+=========+=========+=========+=========+=========+=========+\n",
      "| IDS     | 0       | 0       | 0       | 3       | 43      | 3.086   | 11      | 225850  | 2.954   |\n",
      "+---------+---------+---------+---------+---------+---------+---------+---------+---------+---------+\n",
      "| A*h1    | 0       | 0       | 0       | 3       | 116     | 4.488   | 11      | 643246  | 3.263   |\n",
      "+---------+---------+---------+---------+---------+---------+---------+---------+---------+---------+\n",
      "| A*h2    | 0       | 0       | 0       | 3       | 51      | 3.297   | 11      | 100046  | 2.733   |\n",
      "+---------+---------+---------+---------+---------+---------+---------+---------+---------+---------+\n",
      "| A*h3    | 0       | 0       | 0       | 3       | 9       | 1.578   | 11      | 1172    | 1.762   |\n",
      "+---------+---------+---------+---------+---------+---------+---------+---------+---------+---------+\n"
     ]
    }
   ],
   "source": [
    "import texttable as tt \n",
    "\n",
    "def runExperiment(goalState1, goalState2, goalState3, hList): \n",
    "    #Make table and add headders\n",
    "    tab = tt.Texttable()\n",
    "    headings = ['Algorithm', 'Depth', 'Nodes', 'EBF', 'Depth', 'Nodes', 'EBF', 'Depth', 'Nodes', 'EBF']\n",
    "    tab.header(headings)\n",
    "    tab.set_cols_width([7]*10)\n",
    "    algs = ['IDS']\n",
    "    for num in range(len(hList)):\n",
    "        algs.append('A*h' + str(num+1))\n",
    "    \n",
    "    startState = [1,2,3,4,0,5,6,7,8]\n",
    "\n",
    "    depths1, nodes1, ebfs1 = experiment(startState, goalState1, hList)\n",
    "    depths2, nodes2, ebfs2 = experiment(startState, goalState2, hList)\n",
    "    depths3, nodes3, ebfs3 = experiment(startState, goalState3, hList)\n",
    "\n",
    "    print('State:    |', goalState1, '|', goalState2, '|', goalState3, '|')\n",
    "    for row in zip(algs, depths1, nodes1, ebfs1, depths2, nodes2, ebfs2, depths3, nodes3, ebfs3):\n",
    "        tab.add_row(row)\n",
    "    exampleTable = tab.draw()\n",
    "    print(exampleTable)\n",
    "\n",
    "\n",
    "# Helper function for runExperiment. Called once per example and returns lists of data\n",
    "def experiment(startState, goalState, hList):\n",
    "    global nodesExpanded\n",
    "    depths = []\n",
    "    nodes = []\n",
    "    ebfs = []\n",
    "\n",
    "    result = iterativeDeepeningSearch(startState, goalState, actionsF_8p, takeActionF_8p, 12)\n",
    "    depths.append(len(result)-1)\n",
    "    nodes.append(nodesExpanded)\n",
    "    est = ebf(nodes[-1], depths[-1]) if nodes[-1] > 0 else 0\n",
    "    ebfs.append(est)\n",
    "\n",
    "    for hfxn in hList:\n",
    "        result = aStarSearch(startState, actionsF_8p, takeActionF_8p,\n",
    "                             lambda s: goalTestF_8p(s, goalState),\n",
    "                             lambda s: hfxn(s, goalState))\n",
    "        depths.append(len(result[0])-1)\n",
    "        nodes.append(nodesExpanded)\n",
    "        est = ebf(nodes[-1], depths[-1]) if nodes[-1] > 0 else 0\n",
    "        ebfs.append(est)\n",
    "\n",
    "    return depths, nodes, ebfs\n",
    "\n",
    "# Usage...\n",
    "goalState1 = [1, 2, 3, 4, 0, 5, 6, 7, 8]\n",
    "goalState2 = [1, 2, 3, 4, 5, 8, 6, 0, 7]\n",
    "goalState3 = [1, 0, 3, 4, 5, 8, 2, 6, 7]\n",
    "runExperiment(goalState1, goalState2, goalState3, [h1_8p, h2_8p, h3_8p])"
   ]
  },
  {
   "cell_type": "markdown",
   "metadata": {},
   "source": [
    "The output of this tests shows that the accuracy of the heuristic used in $A*$ has heavy influence on the optimality of the search.  Specifically, $A*$ is less optimal than IDS when the heuristic is set to always return 0.  It also shows that my heuristic is much better compared to the other two in terms of optimality.  \n",
    "<br>\n",
    "Another interesting statement brought up by these results are that consistent heuristics are not always more optimal.  When I was reading about heuristics I assumed that a consistent heuristic would always be more optimal, but this is definitely not the case."
   ]
  },
  {
   "cell_type": "markdown",
   "metadata": {},
   "source": [
    "Download [A3grader.tar](http://www.cs.colostate.edu/~anderson/cs440/notebooks/A3grader.tar) and extract A3grader.py from it."
   ]
  },
  {
   "cell_type": "code",
   "execution_count": 88,
   "metadata": {},
   "outputs": [
    {
     "name": "stdout",
     "output_type": "stream",
     "text": [
      "\n",
      "Testing actionsF_8p([1, 2, 3, 4, 5, 6, 7, 0, 8])\n",
      "\n",
      "--- 5/5 points. Your actionsF_8p correctly returned [('left', 1), ('right', 1), ('up', 1)]\n",
      "\n",
      "Testing takeActionF_8p([1, 2, 3, 4, 5, 6, 7, 0, 8], (up, 1))\n",
      "\n",
      "--- 5/5 points. Your takeActionsF_8p correctly returned ([1, 2, 3, 4, 0, 6, 7, 5, 8], 1)\n",
      "\n",
      "Testing goalTestF_8p([1, 2, 3, 4, 5, 6, 7, 0, 8], [1, 2, 3, 4, 5, 6, 7, 0, 8])\n",
      "\n",
      "--- 5/5 points. Your goalTestF_8p correctly True\n",
      "\n",
      "Testing aStarSearch([1, 2, 3, 4, 5, 6, 7, 0, 8],\n",
      "                     actionsF_8p, takeActionF_8p,\n",
      "                     lambda s: goalTestF_8p(s, [0, 2, 3, 1, 4,  6, 7, 5, 8]),\n",
      "                     lambda s: h1_8p(s, [0, 2, 3, 1, 4,  6, 7, 5, 8]))\n",
      "\n",
      "--- 20/20 points. Your search correctly returned ([[1, 2, 3, 4, 5, 6, 7, 0, 8], [1, 2, 3, 4, 0, 6, 7, 5, 8], [1, 2, 3, 0, 4, 6, 7, 5, 8], [0, 2, 3, 1, 4, 6, 7, 5, 8]], 3)\n",
      "\n",
      "Testing iterativeDeepeningSearch([5, 2, 8, 0, 1, 4, 3, 7, 6], \n",
      "                                 [0, 2, 3, 1, 4,  6, 7, 5, 8],\n",
      "                                 actionsF_8p, takeActionF_8p, 10)\n",
      "\n",
      "--- 15/15 points. Your search correctly returned cutoff\n",
      "\n",
      "A3 Grade is 50/50\n"
     ]
    }
   ],
   "source": [
    "%run -i A3grader.py"
   ]
  },
  {
   "cell_type": "code",
   "execution_count": null,
   "metadata": {
    "collapsed": true
   },
   "outputs": [],
   "source": []
  }
 ],
 "metadata": {
  "anaconda-cloud": {},
  "kernelspec": {
   "display_name": "Python 3",
   "language": "python",
   "name": "python3"
  },
  "language_info": {
   "codemirror_mode": {
    "name": "ipython",
    "version": 3
   },
   "file_extension": ".py",
   "mimetype": "text/x-python",
   "name": "python",
   "nbconvert_exporter": "python",
   "pygments_lexer": "ipython3",
   "version": "3.6.1"
  }
 },
 "nbformat": 4,
 "nbformat_minor": 1
}
