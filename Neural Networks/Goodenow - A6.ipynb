{
 "cells": [
  {
   "cell_type": "markdown",
   "metadata": {},
   "source": [
    "$\\newcommand{\\xv}{\\mathbf{x}}\n",
    "\\newcommand{\\Xv}{\\mathbf{X}}\n",
    "\\newcommand{\\yv}{\\mathbf{y}}\n",
    "\\newcommand{\\zv}{\\mathbf{z}}\n",
    "\\newcommand{\\av}{\\mathbf{a}}\n",
    "\\newcommand{\\Wv}{\\mathbf{W}}\n",
    "\\newcommand{\\wv}{\\mathbf{w}}\n",
    "\\newcommand{\\tv}{\\mathbf{t}}\n",
    "\\newcommand{\\Tv}{\\mathbf{T}}\n",
    "\\newcommand{\\muv}{\\boldsymbol{\\mu}}\n",
    "\\newcommand{\\sigmav}{\\boldsymbol{\\sigma}}\n",
    "\\newcommand{\\phiv}{\\boldsymbol{\\phi}}\n",
    "\\newcommand{\\Phiv}{\\boldsymbol{\\Phi}}\n",
    "\\newcommand{\\Sigmav}{\\boldsymbol{\\Sigma}}\n",
    "\\newcommand{\\Lambdav}{\\boldsymbol{\\Lambda}}\n",
    "\\newcommand{\\half}{\\frac{1}{2}}\n",
    "\\newcommand{\\argmax}[1]{\\underset{#1}{\\operatorname{argmax}}}\n",
    "\\newcommand{\\argmin}[1]{\\underset{#1}{\\operatorname{argmin}}}$"
   ]
  },
  {
   "cell_type": "markdown",
   "metadata": {},
   "source": [
    "# Assignment 6: Neural Networks"
   ]
  },
  {
   "cell_type": "markdown",
   "metadata": {},
   "source": [
    "Zach Goodenow\n",
    "<br>\n",
    "CS 440\n",
    "<br>\n",
    "11/15/17"
   ]
  },
  {
   "cell_type": "markdown",
   "metadata": {},
   "source": [
    "## Overview"
   ]
  },
  {
   "cell_type": "markdown",
   "metadata": {},
   "source": [
    "You will write and apply code that trains neural networks of various numbers of hidden layers and units in each hidden layer and returns results as specified below.  You will do this once for a regression problem and once for a classification problem. "
   ]
  },
  {
   "cell_type": "markdown",
   "metadata": {},
   "source": [
    "## Required Code"
   ]
  },
  {
   "cell_type": "markdown",
   "metadata": {},
   "source": [
    "Download [nn2.tar](http://www.cs.colostate.edu/~anderson/cs440/notebooks/nn2.tar) that was used in lecture and extract its contents, which are\n",
    "\n",
    "* `neuralnetworks.py`\n",
    "* `scaledconjugategradient.py`\n",
    "* `mlutils.py`"
   ]
  },
  {
   "cell_type": "markdown",
   "metadata": {},
   "source": [
    "Write the following functions that train and evaluate neural network models.\n",
    "\n",
    "* `results = trainNNs(X, T, trainFraction, hiddenLayerStructures, numberRepetitions, numberIterations, classify)`\n",
    "\n",
    "The arguments to `trainNNs` are\n",
    "\n",
    "* `X` is a matrix of input data of shape `nSamples x nFeatures`\n",
    "* `T` is a matrix of target data of shape `nSamples x nOutputs`\n",
    "* `trainFraction` is fraction of samples to use as training data. 1-`trainFraction` is number of samples for testing data\n",
    "* `hiddenLayerStructures` is list of network architectures. For example, to test two networks, one with one hidden layer of 20 units, and one with 3 hidden layers with 5, 10, and 20 units in each layer, this argument would be `[[20], [5, 10, 20]]`.\n",
    "* `numberRepetitions` is number of times to train a neural network.  Calculate training and testing average performance (two separate averages) of this many training runs.\n",
    "* `numberIterations` is the number of iterations to run the scaled conjugate gradient algorithm when a neural network is trained.\n",
    "* `classify` is set to `True` if you are doing a classification problem, in which case `T` must be a single column of target class integers.\n",
    "\n",
    "This function returns `results` which is list with one element for each network structure tested.  Each element is a list containing \n",
    "\n",
    "* the hidden layer structure (as a list),\n",
    "* a list of training data performance for each repetition, \n",
    "* a list of testing data performance for each repetition, and\n",
    "* the number of seconds it took to run this many repetitions for this network structure.\n",
    "\n",
    "This function should follow these steps:\n",
    "\n",
    "  * For each network structure given in `hiddenLayerStructures`\n",
    "    * For numberRepetitions\n",
    "      * Use `ml.partition` to randomly partition X and T into training and testing sets.\n",
    "      * Create a neural network of the given structure\n",
    "      * Train it for numberIterations\n",
    "      * Use the trained network to produce outputs for the training and for the testing sets\n",
    "      * If classifying, calculate the fraction of samples incorrectly classified for training and testing sets.\n",
    "       Otherwise, calculate the RMSE of training and testing sets.\n",
    "      * Add the training and testing performance to a collection (such as a list) for this network structure\n",
    "    * Add to a collection of all results the hidden layer structure, lists of training performance and testing performance, and seconds taken to do these repetitions.\n",
    "  * return the collection of all results"
   ]
  },
  {
   "cell_type": "markdown",
   "metadata": {},
   "source": [
    "Also write the following two functions. `summarize(results)` returns a list of lists like `results` but with the list of training performances replaced by their mean and the list of testing performances replaced by their mean.   \n",
    "`bestNetwork(summary)` takes the output of `summarize(results)` and returns the best element of `results`, determined by the element that has the smallest test performance.\n",
    "\n",
    "* `summary = summarize(results)` where `results` is returned by `trainNNs` and `summary` is like `results` with the training and testing performance lists replaced by their means\n",
    "* `best = bestNetwork(summary)` where `summary` is returned by `summarize` and `best` is the best element of `summary`"
   ]
  },
  {
   "cell_type": "code",
   "execution_count": 2,
   "metadata": {
    "collapsed": true
   },
   "outputs": [],
   "source": [
    "# Replace this cell with several cells defining the above functions.\n",
    "# from A6mysolution import *\n",
    "\n",
    "import numpy as np\n",
    "import mlutils as ml\n",
    "import neuralnetworks as nn\n",
    "import time\n",
    "import scaledconjugategradient as scg\n",
    "\n",
    "\n",
    "\n",
    "# returns a list of lists like results\n",
    "# but with the list of training performances replaced by their mean\n",
    "# and the list of testing performances replaced by their mean\n",
    "def summarize(results):\n",
    "    sumz = []\n",
    "    for layer in results: #range(len(results)/3):\n",
    "        sumz.append([layer[0], np.mean(layer[1]), np.mean(layer[2]), layer[3]])\n",
    "    return sumz\n",
    "\n",
    "\n",
    "# takes the output of summarize(results) and returns the best element of results,\n",
    "# determined by the element that has the smallest test performance.\n",
    "def bestNetwork(summary):\n",
    "    bestNet = [-1]\n",
    "    smallestTestP = float('inf')\n",
    "    for layer in summary:\n",
    "        if layer[2] < smallestTestP:\n",
    "            smallestTestP = layer[2]\n",
    "            bestNet = layer\n",
    "    return bestNet\n",
    "\n",
    "\n",
    "# Helper when not a classify problem\n",
    "def performance(X, T, trainFraction, hidden, numberRepetitions, numberIterations):\n",
    "    # Make the lists for train and test data performance\n",
    "    trainP = []\n",
    "    testP = []\n",
    "\n",
    "    # For numberRepetitions\n",
    "    for rep in range(numberRepetitions):\n",
    "        # Use ml.partition to randomly partition X and T into training and testing sets.\n",
    "        Xtrain, Ttrain, Xtest, Ttest = ml.partition(X, T, (trainFraction, 1 - trainFraction), classification=False)\n",
    "\n",
    "        # Create a neural network of the given structure\n",
    "        nnet = nn.NeuralNetwork(X.shape[1], hidden, T.shape[1])\n",
    "\n",
    "        # Train it for numberIterations\n",
    "        # nnet.train(X, T, numberIterations)\n",
    "        nnet.train(Xtrain, Ttrain, numberIterations)\n",
    "\n",
    "        # Use the trained network to produce outputs for the training and for the testing sets\n",
    "        Ytrain = nnet.use(Xtrain)\n",
    "        Ytest = nnet.use(Xtest)\n",
    "\n",
    "        # Calculate the RMSE of training and testing sets.\n",
    "        trainRMSE = np.sqrt(np.mean((Ytrain - Ttrain) ** 2))\n",
    "        testRMSE = np.sqrt(np.mean((Ytest - Ttest) ** 2))\n",
    "\n",
    "        # Add the training and testing performance to a collection (such as a list) for this network structure\n",
    "        trainP.append(trainRMSE)\n",
    "        testP.append(testRMSE)\n",
    "\n",
    "    # Return trainP and testP\n",
    "    return trainP, testP\n",
    "\n",
    "\n",
    "# Helper when classify problem\n",
    "def performanceC(X, T, trainFraction, hidden, numberRepetitions, numberIterations):\n",
    "    # Make the lists for train and test data performance\n",
    "    trainP = []\n",
    "    testP = []\n",
    "\n",
    "    # For numberRepetitions\n",
    "    for rep in range(numberRepetitions):\n",
    "        # Use ml.partition to randomly partition X and T into training and testing sets.\n",
    "        Xtrain, Ttrain, Xtest, Ttest = ml.partition(X, T, (trainFraction, 1 - trainFraction), classification=True)\n",
    "\n",
    "        # Create a neural network of the given structure\n",
    "        nnet = nn.NeuralNetworkClassifier(X.shape[1], hidden, len(np.unique(T)))\n",
    "\n",
    "        # Train it for numberIterations\n",
    "        # nnet.train(X, T, numberIterations)\n",
    "        nnet.train(Xtrain, Ttrain, numberIterations)\n",
    "\n",
    "        # Use the trained network to produce outputs for the training and for the testing sets\n",
    "        Ytrain = nnet.use(Xtrain)\n",
    "        Ytest = nnet.use(Xtest)\n",
    "\n",
    "        # Calculate the fraction of samples incorrectly classified for training and testing sets\n",
    "        trainFrac = np.sum(Ytrain != Ttrain) / Ttrain.shape[0]\n",
    "        testFrac = np.sum(Ytest != Ttest) / Ttest.shape[0]\n",
    "\n",
    "        # Add the training and testing performance to a collection (such as a list) for this network structure\n",
    "        trainP.append(trainFrac)\n",
    "        testP.append(testFrac)\n",
    "\n",
    "    # Return trainP and testP\n",
    "    return trainP, testP\n",
    "\n",
    "\n",
    "# This function returns results which is a list with one element for each network structure tested\n",
    "def trainNNs(X, T, trainFraction, hiddenLayerStructures, numberRepetitions, numberIterations, classify):\n",
    "    results = []\n",
    "    # For each network structure given in hiddenLayerStructures\n",
    "    for hidden in hiddenLayerStructures:\n",
    "        # Make the element for this structure\n",
    "        element = [hidden]\n",
    "\n",
    "        # Clock the time\n",
    "        startTime = time.time()\n",
    "\n",
    "        # Get preformance\n",
    "        args = [X, T, trainFraction, hidden, numberRepetitions, numberIterations]\n",
    "        trainP, testP = performanceC(*args) if classify else performance(*args)\n",
    "\n",
    "        # Add to a collection of all results the hidden layer structure,\n",
    "        # lists of training performance and testing performance,\n",
    "        element.append(trainP)\n",
    "        element.append(testP)\n",
    "        # and seconds taken to do these repetitions.\n",
    "        element.append(time.time() - startTime)\n",
    "\n",
    "        # add the element for this hidden layer structure to results\n",
    "        results.append(element)\n",
    "    # return the collection of all results\n",
    "    return results\n"
   ]
  },
  {
   "cell_type": "markdown",
   "metadata": {},
   "source": [
    "## Examples\n"
   ]
  },
  {
   "cell_type": "code",
   "execution_count": 2,
   "metadata": {
    "collapsed": true
   },
   "outputs": [],
   "source": [
    "X = np.arange(10).reshape((-1,1))\n",
    "T = X + 1 + np.random.uniform(-1, 1, ((10,1)))"
   ]
  },
  {
   "cell_type": "code",
   "execution_count": 3,
   "metadata": {
    "collapsed": true
   },
   "outputs": [],
   "source": [
    "import matplotlib.pyplot as plt\n",
    "%matplotlib inline"
   ]
  },
  {
   "cell_type": "code",
   "execution_count": 4,
   "metadata": {},
   "outputs": [
    {
     "data": {
      "image/png": "[encoded data removed]",
      "text/plain": [
       "<matplotlib.figure.Figure at 0x10d68c128>"
      ]
     },
     "metadata": {},
     "output_type": "display_data"
    }
   ],
   "source": [
    "plt.plot(X, T, 'o-');"
   ]
  },
  {
   "cell_type": "code",
   "execution_count": 5,
   "metadata": {},
   "outputs": [
    {
     "data": {
      "text/plain": [
       "array([ 0.70710678,  0.2107949 ,  0.20702665,  0.20132449,  0.18518392,\n",
       "        0.17232964,  0.16822303,  0.16615813,  0.16563333,  0.16525081,\n",
       "        0.16141957,  0.16071474,  0.15955935,  0.15857846,  0.15591168,\n",
       "        0.15568618,  0.15469079,  0.15469079,  0.15469079,  0.15469079,\n",
       "        0.15469079,  0.15469079,  0.15469079,  0.15469079,  0.15469079,\n",
       "        0.15469079,  0.15469079,  0.15469079,  0.15469079,  0.15469079,\n",
       "        0.15469079,  0.15114298,  0.15043166,  0.13955391,  0.13270768,\n",
       "        0.13055815,  0.12348023,  0.12239773,  0.12209473,  0.12176139,\n",
       "        0.12124539,  0.11790664,  0.11511939,  0.11455931,  0.11378924,\n",
       "        0.11370848,  0.11338512,  0.11253055,  0.11206817,  0.11190374,\n",
       "        0.11184639,  0.11181289,  0.11175395,  0.11041573,  0.11038681,\n",
       "        0.11036222,  0.10994846,  0.10979124,  0.10959206,  0.10952766,\n",
       "        0.10933765,  0.10896495,  0.10879027,  0.10871735,  0.10869011,\n",
       "        0.10867464,  0.10866237,  0.10743954,  0.10700727,  0.10685894,\n",
       "        0.10678418,  0.10673632,  0.10585265,  0.10577304,  0.10568495,\n",
       "        0.10566536,  0.10564776,  0.10561648,  0.10559442,  0.10558549,\n",
       "        0.10557418,  0.10556716,  0.10501284,  0.10419413,  0.10418397,\n",
       "        0.1041749 ,  0.10416178,  0.10406932,  0.10392837,  0.10386089,\n",
       "        0.10385437,  0.1038525 ,  0.10385132,  0.10384889,  0.10384472,\n",
       "        0.10379914,  0.10377357,  0.10376263,  0.10376113,  0.10376056,\n",
       "        0.10374386])"
      ]
     },
     "execution_count": 5,
     "metadata": {},
     "output_type": "execute_result"
    }
   ],
   "source": [
    "nnet = nn.NeuralNetwork(X.shape[1], 2, T.shape[1])\n",
    "nnet.train(X, T, 100)\n",
    "nnet.getErrorTrace()"
   ]
  },
  {
   "cell_type": "code",
   "execution_count": 6,
   "metadata": {},
   "outputs": [
    {
     "data": {
      "text/plain": [
       "array([ 0.70710678,  0.67934314,  0.67934314,  0.66455474,  0.66455474,\n",
       "        0.55439484,  0.42086714,  0.42086714,  0.38826725,  0.23914782,\n",
       "        0.22133782,  0.20846806,  0.20765594,  0.20187677,  0.18717497,\n",
       "        0.1856866 ,  0.16752138,  0.16670259,  0.16663715,  0.16187822,\n",
       "        0.16046265,  0.15987411,  0.15939188,  0.15900142,  0.15893206,\n",
       "        0.15870221,  0.15766248,  0.15765133,  0.15602709,  0.15517567,\n",
       "        0.15516149,  0.15489062,  0.15489062,  0.15489062,  0.15489062,\n",
       "        0.15489062,  0.15489062,  0.15489062,  0.15482987,  0.15392795,\n",
       "        0.15348424,  0.15215688,  0.15209667,  0.1520738 ,  0.15207099,\n",
       "        0.15172521,  0.1515881 ,  0.15148947,  0.15146502,  0.1514168 ,\n",
       "        0.1513499 ,  0.151325  ,  0.15129201,  0.15113232,  0.15108189,\n",
       "        0.15106422,  0.15104467,  0.1510064 ,  0.15098951,  0.15096556,\n",
       "        0.15087405,  0.15083336,  0.15057686,  0.15047286,  0.14902344,\n",
       "        0.14518735,  0.1444028 ,  0.14371341,  0.14259808,  0.14259808,\n",
       "        0.14259808,  0.14259808,  0.14259808,  0.14259808,  0.14259808,\n",
       "        0.14259808,  0.14259808,  0.14259808,  0.14259808,  0.14259808,\n",
       "        0.14259808,  0.14259808,  0.14259808,  0.14259808,  0.14259808,\n",
       "        0.13867661,  0.13797214,  0.13512814,  0.13112716,  0.1302518 ,\n",
       "        0.12858801,  0.12717729,  0.12711892,  0.12689016,  0.12645296,\n",
       "        0.12631988,  0.12626097,  0.1262134 ,  0.1262134 ,  0.1262134 ,\n",
       "        0.1262134 ])"
      ]
     },
     "execution_count": 6,
     "metadata": {},
     "output_type": "execute_result"
    }
   ],
   "source": [
    "nnet = nn.NeuralNetwork(X.shape[1], [5, 5, 5], T.shape[1])\n",
    "nnet.train(X, T, 100)\n",
    "nnet.getErrorTrace()"
   ]
  },
  {
   "cell_type": "code",
   "execution_count": 7,
   "metadata": {},
   "outputs": [
    {
     "data": {
      "text/plain": [
       "[[2,\n",
       "  [0.44720193909454525,\n",
       "   0.51066055588104742,\n",
       "   0.46763474408362565,\n",
       "   0.50393255506286905,\n",
       "   0.50151351125324395],\n",
       "  [0.45589721264201583,\n",
       "   0.43939394466276721,\n",
       "   0.36000861747369078,\n",
       "   0.31458730904380228,\n",
       "   0.035933843353031208],\n",
       "  0.22325611114501953],\n",
       " [10,\n",
       "  [0.29816469008258245,\n",
       "   0.41185293686435703,\n",
       "   0.31930274338262549,\n",
       "   0.47049715876791293,\n",
       "   0.52140557187154213],\n",
       "  [0.68050710713741047,\n",
       "   0.30757054700188907,\n",
       "   0.73615160062363583,\n",
       "   0.27472000175538219,\n",
       "   0.13824001073944114],\n",
       "  0.18542218208312988],\n",
       " [[10, 10],\n",
       "  [0.4240906507015787,\n",
       "   0.43724950734937074,\n",
       "   0.41189188742507615,\n",
       "   0.27041391738873133,\n",
       "   0.50241230831322126],\n",
       "  [0.19926093523453925,\n",
       "   0.26712241053467856,\n",
       "   0.19951097974210749,\n",
       "   0.67229422162115482,\n",
       "   0.30468761077841261],\n",
       "  0.23030495643615723]]"
      ]
     },
     "execution_count": 7,
     "metadata": {},
     "output_type": "execute_result"
    }
   ],
   "source": [
    "results = trainNNs(X, T, 0.8, [2, 10, [10, 10]], 5, 100, classify=False)\n",
    "results"
   ]
  },
  {
   "cell_type": "code",
   "execution_count": 8,
   "metadata": {
    "collapsed": true
   },
   "outputs": [],
   "source": [
    "results = trainNNs(X, T, 0.8, [0, 1, 2, 10, [10, 10], [5, 5, 5, 5], [2]*5], 50, 400, classify=False)"
   ]
  },
  {
   "cell_type": "code",
   "execution_count": 9,
   "metadata": {},
   "outputs": [
    {
     "data": {
      "text/plain": [
       "[[0, 0.62393195959020031, 0.64580246473906899, 0.04751896858215332],\n",
       " [1, 0.62959634508358631, 0.62452648593264437, 5.387493133544922],\n",
       " [2, 0.43655171853632785, 0.38142794952012438, 7.28003191947937],\n",
       " [10, 0.16000481568252789, 0.14067339999099346, 7.718148946762085],\n",
       " [[10, 10], 0.10575320298818675, 0.093838513591294331, 9.809055089950562],\n",
       " [[5, 5, 5, 5], 0.34143869333852706, 0.29121303875507004, 14.299608945846558],\n",
       " [[2, 2, 2, 2, 2],\n",
       "  0.51150242561293158,\n",
       "  0.54393886439056871,\n",
       "  15.726140022277832]]"
      ]
     },
     "execution_count": 9,
     "metadata": {},
     "output_type": "execute_result"
    }
   ],
   "source": [
    "summarize(results)"
   ]
  },
  {
   "cell_type": "code",
   "execution_count": 10,
   "metadata": {},
   "outputs": [
    {
     "name": "stdout",
     "output_type": "stream",
     "text": [
      "[[10, 10], 0.10575320298818675, 0.093838513591294331, 9.809055089950562]\n",
      "Hidden Layers [10, 10] Average RMSE Training 0.11 Testing 0.09 Took 9.81 seconds\n"
     ]
    }
   ],
   "source": [
    "best = bestNetwork(summarize(results))\n",
    "print(best)\n",
    "print('Hidden Layers {} Average RMSE Training {:.2f} Testing {:.2f} Took {:.2f} seconds'.format(*best))"
   ]
  },
  {
   "cell_type": "markdown",
   "metadata": {},
   "source": [
    "Hummm...neural nets with no hidden layers did best on this simple data set.  Why?  Remember what \"best\" means."
   ]
  },
  {
   "cell_type": "markdown",
   "metadata": {},
   "source": [
    "## Data for Regression Experiment\n",
    "\n",
    "From the UCI Machine Learning Repository, download the [Appliances energy prediction](http://archive.ics.uci.edu/ml/datasets/Appliances+energy+prediction) data.  You can do this by visiting the Data Folder for this data set, or just do this:\n",
    "\n",
    "     !wget http://archive.ics.uci.edu/ml/machine-learning-databases/00374/energydata_complete.csv\n",
    "\n"
   ]
  },
  {
   "cell_type": "markdown",
   "metadata": {},
   "source": [
    "Read this data into python.  One suggestion is to use the `loadtxt` function in the `numpy` package.  You may ignore the first column of each row which contains a data and time.  Also ignore the last two columns of random variables.  We will not use that in our modeling of this data.  You will also have to deal with the double quotes that surround every value in every field.  Read the first line of this file to get the names of the features.\n",
    "\n",
    "Once you have read this in correctly, you should see values like this:"
   ]
  },
  {
   "cell_type": "markdown",
   "metadata": {},
   "source": [
    "#### Load in data"
   ]
  },
  {
   "cell_type": "markdown",
   "metadata": {},
   "source": [
    "I had this working fine for my code in pycharm but it isnt working the same way in jupyter notebook now.  This is the code that worked for me in pycharm"
   ]
  },
  {
   "cell_type": "code",
   "execution_count": null,
   "metadata": {
    "collapsed": true
   },
   "outputs": [],
   "source": [
    "# data = np.loadtxt(\"energydata_complete.csv\", delimiter=',',\n",
    "#                   dtype='str', usecols=1 + np.arange(26))\n",
    "# data = np.chararray.replace(data, '\"', '')\n",
    "# data = np.chararray.replace(data, ' ', '')\n",
    "# names, data = data[0], data[1:]\n",
    "# data = np.array(data).astype(float)\n",
    "\n",
    "# Xenergy, Tenergy = data[:, 2:], data[:, :2]\n",
    "# Xnames, Tnames = names[2:], names[:2]"
   ]
  },
  {
   "cell_type": "markdown",
   "metadata": {},
   "source": [
    "But I changed it to the following to get it working."
   ]
  },
  {
   "cell_type": "code",
   "execution_count": 40,
   "metadata": {},
   "outputs": [
    {
     "data": {
      "text/plain": [
       "['Appliances',\n",
       " 'lights',\n",
       " 'T1',\n",
       " 'RH_1',\n",
       " 'T2',\n",
       " 'RH_2',\n",
       " 'T3',\n",
       " 'RH_3',\n",
       " 'T4',\n",
       " 'RH_4',\n",
       " 'T5',\n",
       " 'RH_5',\n",
       " 'T6',\n",
       " 'RH_6',\n",
       " 'T7',\n",
       " 'RH_7',\n",
       " 'T8',\n",
       " 'RH_8',\n",
       " 'T9',\n",
       " 'RH_9',\n",
       " 'T_out',\n",
       " 'Press_mm_hg',\n",
       " 'RH_out',\n",
       " 'Windspeed',\n",
       " 'Visibility',\n",
       " 'Tdewpoint']"
      ]
     },
     "execution_count": 40,
     "metadata": {},
     "output_type": "execute_result"
    }
   ],
   "source": [
    "# Get names\n",
    "f = open(\"energydata_complete.csv\", \"r\")\n",
    "header = f.readline()\n",
    "names = header.replace('\"', '').split(',')\n",
    "names = names[1:-2]\n",
    "names"
   ]
  },
  {
   "cell_type": "code",
   "execution_count": 41,
   "metadata": {},
   "outputs": [],
   "source": [
    "# get data\n",
    "data = np.genfromtxt(\"energydata_complete.csv\", dtype=str, comments=None, delimiter=\",\", skip_header=1, usecols=1+np.arange(26))\n",
    "data = np.chararray.strip(data, \"\\\"\")\n",
    "data = np.chararray.strip(data, \" \")\n",
    "data = np.array(data).astype(float)"
   ]
  },
  {
   "cell_type": "code",
   "execution_count": 42,
   "metadata": {},
   "outputs": [
    {
     "data": {
      "text/plain": [
       "array([  60.        ,   30.        ,   19.89      ,   47.59666667,\n",
       "         19.2       ,   44.79      ,   19.79      ,   44.73      ,\n",
       "         19.        ,   45.56666667,   17.16666667,   55.2       ,\n",
       "          7.02666667,   84.25666667,   17.2       ,   41.62666667,\n",
       "         18.2       ,   48.9       ,   17.03333333,   45.53      ,\n",
       "          6.6       ,  733.5       ,   92.        ,    7.        ,\n",
       "         63.        ,    5.3       ])"
      ]
     },
     "execution_count": 42,
     "metadata": {},
     "output_type": "execute_result"
    }
   ],
   "source": [
    "data[0]"
   ]
  },
  {
   "cell_type": "code",
   "execution_count": 43,
   "metadata": {},
   "outputs": [],
   "source": [
    "Xenergy, Tenergy = data[:, 2:], data[:, :2]\n",
    "Xnames, Tnames = names[2:], names[:2]"
   ]
  },
  {
   "cell_type": "code",
   "execution_count": 45,
   "metadata": {},
   "outputs": [
    {
     "data": {
      "text/plain": [
       "(['T1',\n",
       "  'RH_1',\n",
       "  'T2',\n",
       "  'RH_2',\n",
       "  'T3',\n",
       "  'RH_3',\n",
       "  'T4',\n",
       "  'RH_4',\n",
       "  'T5',\n",
       "  'RH_5',\n",
       "  'T6',\n",
       "  'RH_6',\n",
       "  'T7',\n",
       "  'RH_7',\n",
       "  'T8',\n",
       "  'RH_8',\n",
       "  'T9',\n",
       "  'RH_9',\n",
       "  'T_out',\n",
       "  'Press_mm_hg',\n",
       "  'RH_out',\n",
       "  'Windspeed',\n",
       "  'Visibility',\n",
       "  'Tdewpoint'],\n",
       " ['Appliances', 'lights'])"
      ]
     },
     "execution_count": 45,
     "metadata": {},
     "output_type": "execute_result"
    }
   ],
   "source": [
    "Xnames, Tnames"
   ]
  },
  {
   "cell_type": "code",
   "execution_count": 48,
   "metadata": {},
   "outputs": [
    {
     "data": {
      "text/plain": [
       "(19735, 26)"
      ]
     },
     "execution_count": 48,
     "metadata": {},
     "output_type": "execute_result"
    }
   ],
   "source": [
    "data.shape"
   ]
  },
  {
   "cell_type": "code",
   "execution_count": 49,
   "metadata": {
    "scrolled": true
   },
   "outputs": [
    {
     "data": {
      "text/plain": [
       "array([[  60.        ,   30.        ,   19.89      ,   47.59666667,\n",
       "          19.2       ,   44.79      ,   19.79      ,   44.73      ,\n",
       "          19.        ,   45.56666667,   17.16666667,   55.2       ,\n",
       "           7.02666667,   84.25666667,   17.2       ,   41.62666667,\n",
       "          18.2       ,   48.9       ,   17.03333333,   45.53      ,\n",
       "           6.6       ,  733.5       ,   92.        ,    7.        ,\n",
       "          63.        ,    5.3       ],\n",
       "       [  60.        ,   30.        ,   19.89      ,   46.69333333,\n",
       "          19.2       ,   44.7225    ,   19.79      ,   44.79      ,\n",
       "          19.        ,   45.9925    ,   17.16666667,   55.2       ,\n",
       "           6.83333333,   84.06333333,   17.2       ,   41.56      ,\n",
       "          18.2       ,   48.86333333,   17.06666667,   45.56      ,\n",
       "           6.48333333,  733.6       ,   92.        ,    6.66666667,\n",
       "          59.16666667,    5.2       ]])"
      ]
     },
     "execution_count": 49,
     "metadata": {},
     "output_type": "execute_result"
    }
   ],
   "source": [
    "data[:2,:]"
   ]
  },
  {
   "cell_type": "markdown",
   "metadata": {},
   "source": [
    "Use the first two columns, labelled `Appliances` and `lights` as the target variables, and the remaining 24 columns as the input features.  So"
   ]
  },
  {
   "cell_type": "code",
   "execution_count": 50,
   "metadata": {},
   "outputs": [
    {
     "data": {
      "text/plain": [
       "((19735, 24), (19735, 2))"
      ]
     },
     "execution_count": 50,
     "metadata": {},
     "output_type": "execute_result"
    }
   ],
   "source": [
    "Xenergy.shape, Tenergy.shape"
   ]
  },
  {
   "cell_type": "markdown",
   "metadata": {},
   "source": [
    "Train several neural networks on all of this data for 100 iterations.  Plot the error trace (nnet.getErrorTrace()) to help you decide now many iterations might be needed.  100 may not be enough.  If for your larger networks the error is still decreasing after 100 iterations you should train all nets for more than 100 iterations.\n",
    "\n",
    "Now use your `trainNNs`, `summarize`, and `bestNetwork` functions on this data to investigate various network sizes."
   ]
  },
  {
   "cell_type": "code",
   "execution_count": 58,
   "metadata": {},
   "outputs": [],
   "source": [
    "results = trainNNs(Xenergy, Tenergy, 0.8, [0, 5, [5, 5], [10, 10]], 10, 100, classify=False)"
   ]
  },
  {
   "cell_type": "code",
   "execution_count": 59,
   "metadata": {},
   "outputs": [
    {
     "data": {
      "text/plain": [
       "[[0, 67.246327467224845, 66.845098754546285, 2.1941068172454834],\n",
       " [5, 65.412421709326722, 65.76296629083761, 18.187517881393433],\n",
       " [[5, 5], 64.756433763273691, 64.825061510644289, 25.871137857437134],\n",
       " [[10, 10], 62.973929637377125, 63.873748425809893, 48.28145098686218]]"
      ]
     },
     "execution_count": 59,
     "metadata": {},
     "output_type": "execute_result"
    }
   ],
   "source": [
    "summarize(results)"
   ]
  },
  {
   "cell_type": "markdown",
   "metadata": {},
   "source": [
    "[[0, 67.046960179422285, 67.644136371408763, 0.998682975769043],\n",
    " [5, 65.301632625880842, 66.328853488839485, 13.130361795425415],\n",
    " [[5, 5], 64.277382425810785, 66.416365860755761, 19.365249395370483],\n",
    " [[10, 10], 62.741905999268582, 64.979550044221469, 33.62221097946167]]"
   ]
  },
  {
   "cell_type": "code",
   "execution_count": 60,
   "metadata": {},
   "outputs": [
    {
     "data": {
      "text/plain": [
       "[[10, 10], 62.973929637377125, 63.873748425809893, 48.28145098686218]"
      ]
     },
     "execution_count": 60,
     "metadata": {},
     "output_type": "execute_result"
    }
   ],
   "source": [
    "bestNetwork(summarize(results))"
   ]
  },
  {
   "cell_type": "markdown",
   "metadata": {},
   "source": [
    "[[10, 10], 62.741905999268582, 64.979550044221469, 33.62221097946167]"
   ]
  },
  {
   "cell_type": "markdown",
   "metadata": {},
   "source": [
    "Test at least 10 different hidden layer structures.  Larger numbers of layers and units may do the best on training data, but not on testing data. Why?"
   ]
  },
  {
   "cell_type": "markdown",
   "metadata": {},
   "source": [
    "I looked at\n",
    "\n",
    "https://stats.stackexchange.com/questions/181/how-to-choose-the-number-of-hidden-layers-and-nodes-in-a-feedforward-neural-netw\n",
    "\n",
    "and \n",
    "\n",
    "https://www.edge.org/response-detail/10351\n",
    "\n",
    "to get more information about hidden layer selection.  Here are a few things I took away from them:\n",
    "\n",
    "**the optimal size of the hidden layer is usually between the size of the input and size of the output layers**\n",
    "\n",
    "In sum, for most problems, one could probably get decent performance (even without a second optimization step) by setting the hidden layer configuration using just two rules: (i) number of hidden layers equals one; and (ii) the number of neurons in that layer is the mean of the neurons in the input and output layers."
   ]
  },
  {
   "cell_type": "code",
   "execution_count": 51,
   "metadata": {},
   "outputs": [
    {
     "name": "stdout",
     "output_type": "stream",
     "text": [
      "[ 1  3  5  7  9 11 13 15 17 19 21 23]\n"
     ]
    }
   ],
   "source": [
    "hidLay = np.arange(1, 24, 2)"
   ]
  },
  {
   "cell_type": "code",
   "execution_count": 54,
   "metadata": {},
   "outputs": [],
   "source": [
    "results = trainNNs(Xenergy, Tenergy, 0.8, [1,2,3,[1,1],[3,3]], 10, 100, classify=False)"
   ]
  },
  {
   "cell_type": "code",
   "execution_count": 55,
   "metadata": {},
   "outputs": [
    {
     "data": {
      "text/plain": [
       "[[1, 70.542028327535618, 69.813916938004255, 10.42564606666565],\n",
       " [2, 66.56619747359737, 65.600292802769943, 15.438579082489014],\n",
       " [3, 65.927445045533617, 65.65752728566369, 16.82727885246277],\n",
       " [[1, 1], 70.499452140861464, 69.979705945829892, 14.435991048812866],\n",
       " [[3, 3], 65.548526554845154, 67.07739844887422, 25.328215837478638]]"
      ]
     },
     "execution_count": 55,
     "metadata": {},
     "output_type": "execute_result"
    }
   ],
   "source": [
    "summarize(results)"
   ]
  },
  {
   "cell_type": "markdown",
   "metadata": {},
   "source": [
    "[[1, 70.542028327535618, 69.813916938004255, 10.42564606666565],\n",
    " [2, 66.56619747359737, 65.600292802769943, 15.438579082489014],\n",
    " [3, 65.927445045533617, 65.65752728566369, 16.82727885246277],\n",
    " [[1, 1], 70.499452140861464, 69.979705945829892, 14.435991048812866],\n",
    " [[3, 3], 65.548526554845154, 67.07739844887422, 25.328215837478638]]"
   ]
  },
  {
   "cell_type": "code",
   "execution_count": 56,
   "metadata": {},
   "outputs": [
    {
     "data": {
      "text/plain": [
       "[2, 66.56619747359737, 65.600292802769943, 15.438579082489014]"
      ]
     },
     "execution_count": 56,
     "metadata": {},
     "output_type": "execute_result"
    }
   ],
   "source": [
    "bestNetwork(summarize(results))"
   ]
  },
  {
   "cell_type": "markdown",
   "metadata": {},
   "source": [
    "[2, 66.56619747359737, 65.600292802769943, 15.438579082489014]"
   ]
  },
  {
   "cell_type": "markdown",
   "metadata": {},
   "source": [
    "Of the 5 hidden layers [1,2,3,[1,1],[3,3]], it looks like 2 is preforming the best but still not as good as [10, 10].  Lets try 5 more"
   ]
  },
  {
   "cell_type": "code",
   "execution_count": 61,
   "metadata": {
    "collapsed": true
   },
   "outputs": [],
   "source": [
    "results = trainNNs(Xenergy, Tenergy, 0.8, [10, 20, [10,10,10]], 10, 100, classify=False)"
   ]
  },
  {
   "cell_type": "code",
   "execution_count": 62,
   "metadata": {},
   "outputs": [
    {
     "data": {
      "text/plain": [
       "[[10, 64.118591038227308, 65.5351334387978, 31.006136894226074],\n",
       " [20, 63.346383330572664, 64.21213169171952, 45.92880320549011],\n",
       " [[10, 10, 10], 62.915830745684886, 64.811774747259051, 62.98681426048279]]"
      ]
     },
     "execution_count": 62,
     "metadata": {},
     "output_type": "execute_result"
    }
   ],
   "source": [
    "summarize(results)"
   ]
  },
  {
   "cell_type": "code",
   "execution_count": 63,
   "metadata": {},
   "outputs": [
    {
     "data": {
      "text/plain": [
       "[20, 63.346383330572664, 64.21213169171952, 45.92880320549011]"
      ]
     },
     "execution_count": 63,
     "metadata": {},
     "output_type": "execute_result"
    }
   ],
   "source": [
    "bestNetwork(summarize(results))"
   ]
  },
  {
   "cell_type": "markdown",
   "metadata": {},
   "source": [
    "Since there are 24 inputs, try 1 layer with 24 units along with a few others based off the data"
   ]
  },
  {
   "cell_type": "code",
   "execution_count": 66,
   "metadata": {},
   "outputs": [
    {
     "data": {
      "text/plain": [
       "[[24, 62.479298591069856, 65.174802918180291, 55.514917850494385],\n",
       " [[9, 9, 6], 63.577118048562753, 65.242441398254016, 49.32772874832153],\n",
       " [[9, 9, 1, 1, 1, 1, 1, 1],\n",
       "  70.434051812211479,\n",
       "  70.130115308929504,\n",
       "  51.72939205169678]]"
      ]
     },
     "execution_count": 66,
     "metadata": {},
     "output_type": "execute_result"
    }
   ],
   "source": [
    "results = trainNNs(Xenergy, Tenergy, 0.8, [24, [9,9,6], [9,9,1,1,1,1,1,1]], 10, 100, classify=False)\n",
    "summarize(results)"
   ]
  },
  {
   "cell_type": "code",
   "execution_count": 67,
   "metadata": {},
   "outputs": [
    {
     "data": {
      "text/plain": [
       "[24, 62.479298591069856, 65.174802918180291, 55.514917850494385]"
      ]
     },
     "execution_count": 67,
     "metadata": {},
     "output_type": "execute_result"
    }
   ],
   "source": [
    "bestNetwork(summarize(results))"
   ]
  },
  {
   "cell_type": "markdown",
   "metadata": {},
   "source": [
    "Try 200 itterations"
   ]
  },
  {
   "cell_type": "code",
   "execution_count": 68,
   "metadata": {},
   "outputs": [
    {
     "name": "stdout",
     "output_type": "stream",
     "text": [
      "\n"
     ]
    },
    {
     "data": {
      "text/plain": [
       "[24, 61.032363660984018, 62.45302977869094, 115.47919297218323]"
      ]
     },
     "execution_count": 68,
     "metadata": {},
     "output_type": "execute_result"
    }
   ],
   "source": [
    "results = trainNNs(Xenergy, Tenergy, 0.8, [24], 10, 200, classify=False)\n",
    "summarize(results)\n",
    "print()\n",
    "bestNetwork(summarize(results))"
   ]
  },
  {
   "cell_type": "markdown",
   "metadata": {},
   "source": [
    "Notice that 24 trained at 100 iterations preformed worse than 24 trained at 200 iterations and is now the best preforming.  Lets use this net."
   ]
  },
  {
   "cell_type": "markdown",
   "metadata": {},
   "source": [
    "Now train another network with your best hidden layer structure on 0.8 of the data and use the trained network on the testing data (the remaining 0.2 of the date).  As before use `ml.partition` to produce the training and testing sets."
   ]
  },
  {
   "cell_type": "code",
   "execution_count": null,
   "metadata": {
    "collapsed": true
   },
   "outputs": [],
   "source": [
    "# Use ml.partition to randomly partition X and T into training and testing sets.\n",
    "Xtrain, Ttrain, Xtest, Ttest = ml.partition(Xenergy, Tenergy, (0.8, 0.2), classification=False)"
   ]
  },
  {
   "cell_type": "code",
   "execution_count": 118,
   "metadata": {},
   "outputs": [],
   "source": [
    "# Create a neural network of the given structure\n",
    "nnet = nn.NeuralNetwork(Xenergy.shape[1], [24, 24], Tenergy.shape[1])\n",
    "# train another network with your best hidden layer structure on 0.8 of the data\n",
    "nnet.train(Xtrain, Ttrain, 300)\n",
    "# use the trained network on the testing data\n",
    "Ytest = nnet.use(Xtest)\n",
    "\n",
    "# Calculate the RMSE of training and testing sets.\n",
    "testRMSE = np.sqrt(np.mean((Ytest - Ttest) ** 2))"
   ]
  },
  {
   "cell_type": "markdown",
   "metadata": {},
   "source": [
    "Train some networks by calling the NeuralNetwork constructor and train method and plot the error trace to help you decide now many iterations might be needed."
   ]
  },
  {
   "cell_type": "code",
   "execution_count": 119,
   "metadata": {},
   "outputs": [
    {
     "data": {
      "text/plain": [
       "56.226449756625087"
      ]
     },
     "execution_count": 119,
     "metadata": {},
     "output_type": "execute_result"
    }
   ],
   "source": [
    "testRMSE"
   ]
  },
  {
   "cell_type": "code",
   "execution_count": 120,
   "metadata": {},
   "outputs": [
    {
     "data": {
      "image/png": "[encoded data removed]",
      "text/plain": [
       "<matplotlib.figure.Figure at 0x10d5438d0>"
      ]
     },
     "metadata": {},
     "output_type": "display_data"
    }
   ],
   "source": [
    "plt.plot(nnet.getErrorTrace(), 'o');"
   ]
  },
  {
   "cell_type": "markdown",
   "metadata": {},
   "source": [
    "This plot shows the nnet should be trained for more iterations."
   ]
  },
  {
   "cell_type": "code",
   "execution_count": 121,
   "metadata": {
    "collapsed": true
   },
   "outputs": [],
   "source": [
    "# Create a neural network of the given structure\n",
    "nnet = nn.NeuralNetwork(Xenergy.shape[1], [24, 24], Tenergy.shape[1])\n",
    "# train another network with your best hidden layer structure on 0.8 of the data\n",
    "nnet.train(Xtrain, Ttrain, 600)\n",
    "# use the trained network on the testing data\n",
    "Ytest = nnet.use(Xtest)\n",
    "\n",
    "# Calculate the RMSE of training and testing sets.\n",
    "testRMSE = np.sqrt(np.mean((Ytest - Ttest) ** 2))"
   ]
  },
  {
   "cell_type": "code",
   "execution_count": 122,
   "metadata": {},
   "outputs": [
    {
     "data": {
      "image/png": "[encoded data removed]",
      "text/plain": [
       "<matplotlib.figure.Figure at 0x10ecbb550>"
      ]
     },
     "metadata": {},
     "output_type": "display_data"
    }
   ],
   "source": [
    "plt.plot(nnet.getErrorTrace(), 'o');"
   ]
  },
  {
   "cell_type": "code",
   "execution_count": 123,
   "metadata": {
    "collapsed": true
   },
   "outputs": [],
   "source": [
    "# Create a neural network of the given structure\n",
    "nnet = nn.NeuralNetwork(Xenergy.shape[1], [24, 24, 24], Tenergy.shape[1])\n",
    "# train another network with your best hidden layer structure on 0.8 of the data\n",
    "nnet.train(Xtrain, Ttrain, 600)\n",
    "# use the trained network on the testing data\n",
    "Ytest = nnet.use(Xtest)\n",
    "\n",
    "# Calculate the RMSE of training and testing sets.\n",
    "testRMSE = np.sqrt(np.mean((Ytest - Ttest) ** 2))"
   ]
  },
  {
   "cell_type": "code",
   "execution_count": 124,
   "metadata": {},
   "outputs": [
    {
     "data": {
      "image/png": "[encoded data removed]",
      "text/plain": [
       "<matplotlib.figure.Figure at 0x10d135438>"
      ]
     },
     "metadata": {},
     "output_type": "display_data"
    }
   ],
   "source": [
    "plt.plot(nnet.getErrorTrace(), 'o');"
   ]
  },
  {
   "cell_type": "markdown",
   "metadata": {},
   "source": [
    "**SORRY FOR THE UNORGANIZED NOTEBOOK**\n",
    "A little crunched on time, but the error trace is looking better with [24,24,24] trained for 600 times."
   ]
  },
  {
   "cell_type": "code",
   "execution_count": 125,
   "metadata": {
    "collapsed": true
   },
   "outputs": [],
   "source": [
    "# Create a neural network of the given structure\n",
    "nnet = nn.NeuralNetwork(Xenergy.shape[1], [24, 24, 24], Tenergy.shape[1])\n",
    "# train another network with your best hidden layer structure on 0.8 of the data\n",
    "nnet.train(Xtrain, Ttrain, 1000)\n",
    "# use the trained network on the testing data\n",
    "Ytest = nnet.use(Xtest)\n",
    "\n",
    "# Calculate the RMSE of training and testing sets.\n",
    "testRMSE = np.sqrt(np.mean((Ytest - Ttest) ** 2))"
   ]
  },
  {
   "cell_type": "code",
   "execution_count": 126,
   "metadata": {},
   "outputs": [
    {
     "data": {
      "image/png": "[encoded data removed]",
      "text/plain": [
       "<matplotlib.figure.Figure at 0x10d5e8320>"
      ]
     },
     "metadata": {},
     "output_type": "display_data"
    }
   ],
   "source": [
    "plt.plot(nnet.getErrorTrace(), 'o');"
   ]
  },
  {
   "cell_type": "code",
   "execution_count": 127,
   "metadata": {},
   "outputs": [
    {
     "data": {
      "image/png": "[encoded data removed]",
      "text/plain": [
       "<matplotlib.figure.Figure at 0x10cbce630>"
      ]
     },
     "metadata": {},
     "output_type": "display_data"
    }
   ],
   "source": [
    "T_App = Ttest[:,0]\n",
    "Y_App = Ytest[:,0]\n",
    "plt.plot(Y_App, T_App, 'o'); # Appliances plot"
   ]
  },
  {
   "cell_type": "markdown",
   "metadata": {},
   "source": [
    "This plot is looking a little better (more linear) but still not good.  "
   ]
  },
  {
   "cell_type": "code",
   "execution_count": 128,
   "metadata": {},
   "outputs": [
    {
     "data": {
      "image/png": "[encoded data removed]",
      "text/plain": [
       "<matplotlib.figure.Figure at 0x10b16e8d0>"
      ]
     },
     "metadata": {},
     "output_type": "display_data"
    }
   ],
   "source": [
    "T_lights = Ttest[:,1]\n",
    "Y_lights = Ytest[:,1]\n",
    "plt.plot(Y_lights, T_lights, 'o'); # lights plot"
   ]
  },
  {
   "cell_type": "markdown",
   "metadata": {},
   "source": [
    "This plot is looking a little better (more linear) but still not good.  "
   ]
  },
  {
   "cell_type": "markdown",
   "metadata": {},
   "source": [
    "24 trainRMSE: 59.55\n",
    "24 testRMSE: 61.12\n",
    "vs.\n",
    "[10, 10] trainRMSE: 59.75\n",
    "[10, 10] testRMSE: 64.04\n",
    "\n",
    "Still use 24."
   ]
  },
  {
   "cell_type": "markdown",
   "metadata": {},
   "source": [
    "For the testing data, plot the predicted and actual `Appliances` energy use, and the predicted and actual `lights` energy use, in two separate plots.  Discuss what you see."
   ]
  },
  {
   "cell_type": "code",
   "execution_count": 90,
   "metadata": {
    "collapsed": true
   },
   "outputs": [],
   "source": [
    "import matplotlib.pyplot as plt\n",
    "%matplotlib inline"
   ]
  },
  {
   "cell_type": "code",
   "execution_count": 87,
   "metadata": {},
   "outputs": [
    {
     "data": {
      "text/plain": [
       "((3947, 2), (3947, 2))"
      ]
     },
     "execution_count": 87,
     "metadata": {},
     "output_type": "execute_result"
    }
   ],
   "source": [
    "Ttest.shape, Ytest.shape"
   ]
  },
  {
   "cell_type": "code",
   "execution_count": 88,
   "metadata": {
    "collapsed": true
   },
   "outputs": [],
   "source": [
    "T_App = Ttest[:,0]\n",
    "Y_App = Ytest[:,0]"
   ]
  },
  {
   "cell_type": "code",
   "execution_count": 95,
   "metadata": {},
   "outputs": [
    {
     "data": {
      "image/png": "[encoded data removed]",
      "text/plain": [
       "<matplotlib.figure.Figure at 0x10cd49940>"
      ]
     },
     "metadata": {},
     "output_type": "display_data"
    }
   ],
   "source": [
    "plt.plot(Y_App, T_App, 'o'); # Appliances plot"
   ]
  },
  {
   "cell_type": "markdown",
   "metadata": {},
   "source": [
    "This plot does not look good because it does not have a linear trend.  If it were perfect, it would look like the line y = x because the predicted would be the same as the actual."
   ]
  },
  {
   "cell_type": "code",
   "execution_count": 96,
   "metadata": {
    "collapsed": true
   },
   "outputs": [],
   "source": [
    "T_lights = Ttest[:,1]\n",
    "Y_lights = Ytest[:,1]"
   ]
  },
  {
   "cell_type": "code",
   "execution_count": 97,
   "metadata": {},
   "outputs": [
    {
     "data": {
      "image/png": "[encoded data removed]",
      "text/plain": [
       "<matplotlib.figure.Figure at 0x10d143d68>"
      ]
     },
     "metadata": {},
     "output_type": "display_data"
    }
   ],
   "source": [
    "plt.plot(Y_lights, T_lights, 'o'); # lights plot"
   ]
  },
  {
   "cell_type": "markdown",
   "metadata": {},
   "source": [
    "This plot looks a little better but still not great.  It the layers might point towards the lights being a classification problem."
   ]
  },
  {
   "cell_type": "markdown",
   "metadata": {},
   "source": [
    "What if the nnet was trained longer?"
   ]
  },
  {
   "cell_type": "code",
   "execution_count": 104,
   "metadata": {
    "collapsed": true
   },
   "outputs": [],
   "source": [
    "# Use ml.partition to randomly partition X and T into training and testing sets.\n",
    "Xtrain, Ttrain, Xtest, Ttest = ml.partition(Xenergy, Tenergy, (0.8, 0.2), classification=False)\n",
    "\n",
    "# Create a neural network of the given structure\n",
    "nnet = nn.NeuralNetwork(Xenergy.shape[1], 24, Tenergy.shape[1])\n",
    "\n",
    "# Train it\n",
    "nnet.train(Xtrain, Ttrain, 1000)\n",
    "\n",
    "# Use the trained network to produce outputs for the training and for the testing sets\n",
    "Ytrain = nnet.use(Xtrain)\n",
    "Ytest = nnet.use(Xtest)\n",
    "\n",
    "# Calculate the RMSE of training and testing sets.\n",
    "trainRMSE = np.sqrt(np.mean((Ytrain - Ttrain) ** 2))\n",
    "testRMSE = np.sqrt(np.mean((Ytest - Ttest) ** 2))"
   ]
  },
  {
   "cell_type": "code",
   "execution_count": 105,
   "metadata": {},
   "outputs": [
    {
     "data": {
      "text/plain": [
       "(58.142177396299331, 57.98890538661788)"
      ]
     },
     "execution_count": 105,
     "metadata": {},
     "output_type": "execute_result"
    }
   ],
   "source": [
    "trainRMSE, testRMSE"
   ]
  },
  {
   "cell_type": "code",
   "execution_count": 106,
   "metadata": {
    "collapsed": true
   },
   "outputs": [],
   "source": [
    "T_App = Ttest[:,0]\n",
    "Y_App = Ytest[:,0]"
   ]
  },
  {
   "cell_type": "code",
   "execution_count": 107,
   "metadata": {},
   "outputs": [
    {
     "data": {
      "image/png": "[encoded data removed]",
      "text/plain": [
       "<matplotlib.figure.Figure at 0x10edd65c0>"
      ]
     },
     "metadata": {},
     "output_type": "display_data"
    }
   ],
   "source": [
    "plt.plot(Y_App, T_App, 'o');"
   ]
  },
  {
   "cell_type": "code",
   "execution_count": 108,
   "metadata": {
    "collapsed": true
   },
   "outputs": [],
   "source": [
    "T_lights = Ttest[:,1]\n",
    "Y_lights = Ytest[:,1]"
   ]
  },
  {
   "cell_type": "code",
   "execution_count": 109,
   "metadata": {},
   "outputs": [
    {
     "data": {
      "image/png": "[encoded data removed]",
      "text/plain": [
       "<matplotlib.figure.Figure at 0x10eda2198>"
      ]
     },
     "metadata": {},
     "output_type": "display_data"
    }
   ],
   "source": [
    "plt.plot(T_lights, Y_lights, 'o');"
   ]
  },
  {
   "cell_type": "markdown",
   "metadata": {},
   "source": [
    "## Data for Classification Experiment\n",
    "\n",
    "From the UCI Machine Learning Repository, download the [Anuran Calls (MFCCs)](http://archive.ics.uci.edu/ml/datasets/Anuran+Calls+%28MFCCs%29) data.  You can do this by visiting the Data Folder for this data set, or just do this:\n",
    "\n",
    "     !wget 'http://archive.ics.uci.edu/ml/machine-learning-databases/00406/Anuran Calls (MFCCs).zip'\n",
    "     !unzip Anuran*zip\n",
    "     \n",
    "Read the data in the file `Frogs_MFCCs.csv` into python.  This will be a little tricky. Each line of the file is a sample of audio features plus three columns that label the sample by family, genus, and species. We will try to predict the species.  The tricky part is that the species is given as text.  We need to convert this to a target class, as an integer. The `numpy` function `unique` will come in handy here."
   ]
  },
  {
   "cell_type": "code",
   "execution_count": 152,
   "metadata": {},
   "outputs": [
    {
     "data": {
      "text/plain": [
       "['MFCCs_ 2',\n",
       " 'MFCCs_ 3',\n",
       " 'MFCCs_ 4',\n",
       " 'MFCCs_ 5',\n",
       " 'MFCCs_ 6',\n",
       " 'MFCCs_ 7',\n",
       " 'MFCCs_ 8',\n",
       " 'MFCCs_ 9',\n",
       " 'MFCCs_10',\n",
       " 'MFCCs_11',\n",
       " 'MFCCs_12',\n",
       " 'MFCCs_13',\n",
       " 'MFCCs_14',\n",
       " 'MFCCs_15',\n",
       " 'MFCCs_16',\n",
       " 'MFCCs_17',\n",
       " 'MFCCs_18',\n",
       " 'MFCCs_19',\n",
       " 'MFCCs_20',\n",
       " 'MFCCs_21',\n",
       " 'MFCCs_22',\n",
       " 'Family',\n",
       " 'Genus',\n",
       " 'Species']"
      ]
     },
     "execution_count": 152,
     "metadata": {},
     "output_type": "execute_result"
    }
   ],
   "source": [
    "# Get names\n",
    "f = open(\"Frogs_MFCCs.csv\", \"r\")\n",
    "header = f.readline()\n",
    "names = header.replace('\"', '').split(',')\n",
    "names = names[1:-1]\n",
    "names"
   ]
  },
  {
   "cell_type": "code",
   "execution_count": 153,
   "metadata": {},
   "outputs": [
    {
     "data": {
      "text/plain": [
       "array(['MFCCs_ 2', 'MFCCs_ 3', 'MFCCs_ 4', 'MFCCs_ 5', 'MFCCs_ 6',\n",
       "       'MFCCs_ 7', 'MFCCs_ 8', 'MFCCs_ 9', 'MFCCs_10', 'MFCCs_11',\n",
       "       'MFCCs_12', 'MFCCs_13', 'MFCCs_14', 'MFCCs_15', 'MFCCs_16',\n",
       "       'MFCCs_17', 'MFCCs_18', 'MFCCs_19', 'MFCCs_20', 'MFCCs_21',\n",
       "       'MFCCs_22', 'Species'], \n",
       "      dtype='<U8')"
      ]
     },
     "execution_count": 153,
     "metadata": {},
     "output_type": "execute_result"
    }
   ],
   "source": [
    "names = np.delete(names, [21,22])\n",
    "names = np.array(names).astype(str)\n",
    "names"
   ]
  },
  {
   "cell_type": "code",
   "execution_count": 221,
   "metadata": {},
   "outputs": [
    {
     "data": {
      "text/plain": [
       "(7195, 24)"
      ]
     },
     "execution_count": 221,
     "metadata": {},
     "output_type": "execute_result"
    }
   ],
   "source": [
    "# get data\n",
    "data = np.genfromtxt(\"Frogs_MFCCs.csv\", dtype=str, comments=None, delimiter=\",\", skip_header=1, usecols=1+np.arange(24))\n",
    "data.shape"
   ]
  },
  {
   "cell_type": "code",
   "execution_count": 222,
   "metadata": {},
   "outputs": [
    {
     "data": {
      "text/plain": [
       "(7195, 22)"
      ]
     },
     "execution_count": 222,
     "metadata": {},
     "output_type": "execute_result"
    }
   ],
   "source": [
    "data = np.delete(data, [21,22], axis=1)\n",
    "data.shape"
   ]
  },
  {
   "cell_type": "code",
   "execution_count": 223,
   "metadata": {},
   "outputs": [
    {
     "data": {
      "text/plain": [
       "array(['0.152936298220384', '-0.105585902844019', '0.200721914808566',\n",
       "       '0.317201062343259', '0.260763853131077', '0.100944640810053',\n",
       "       '-0.150062604917616', '-0.17112763198601', '0.124676436148438',\n",
       "       '0.188654145822323', '-0.0756217229244772', '-0.156435925226375',\n",
       "       '0.0822451152835443', '0.135752042383891', '-0.0240166450287792',\n",
       "       '-0.108351107221198', '-0.0776225214037558', '-0.00956780151914234',\n",
       "       '0.0576839754007957', '0.118680135068692', '0.0140384456733697',\n",
       "       'AdenomeraAndre'], \n",
       "      dtype='<U22')"
      ]
     },
     "execution_count": 223,
     "metadata": {},
     "output_type": "execute_result"
    }
   ],
   "source": [
    "data[0]"
   ]
  },
  {
   "cell_type": "code",
   "execution_count": 224,
   "metadata": {
    "collapsed": true
   },
   "outputs": [],
   "source": [
    "Xanuran, Tanuran = data[:, :-1], data[:,-1]\n",
    "b, c = np.unique(Tanuran, return_inverse=True)\n",
    "Tanuran = c\n",
    "Tanuran = Tanuran[np.newaxis].T"
   ]
  },
  {
   "cell_type": "code",
   "execution_count": 225,
   "metadata": {},
   "outputs": [],
   "source": [
    "# Xanuran = Xanuran.astype(np.float32)\n",
    "Xanuran = np.array(Xanuran).astype(np.float64)"
   ]
  },
  {
   "cell_type": "code",
   "execution_count": 226,
   "metadata": {},
   "outputs": [
    {
     "data": {
      "text/plain": [
       "array([0, 1, 2, 3, 4, 5, 6, 7, 8, 9])"
      ]
     },
     "execution_count": 226,
     "metadata": {},
     "output_type": "execute_result"
    }
   ],
   "source": [
    "np.unique(Tanuran, )"
   ]
  },
  {
   "cell_type": "code",
   "execution_count": 227,
   "metadata": {},
   "outputs": [
    {
     "data": {
      "text/plain": [
       "((7195, 21), (7195, 1))"
      ]
     },
     "execution_count": 227,
     "metadata": {},
     "output_type": "execute_result"
    }
   ],
   "source": [
    "Xanuran.shape, Tanuran.shape # ((7195, 21), (7195, 1))"
   ]
  },
  {
   "cell_type": "code",
   "execution_count": 228,
   "metadata": {},
   "outputs": [
    {
     "data": {
      "text/plain": [
       "array([[ 0.15, -0.11,  0.2 ,  0.32,  0.26,  0.1 , -0.15, -0.17,  0.12,\n",
       "         0.19, -0.08, -0.16,  0.08,  0.14, -0.02, -0.11, -0.08, -0.01,\n",
       "         0.06,  0.12,  0.01],\n",
       "       [ 0.17, -0.1 ,  0.27,  0.34,  0.27,  0.06, -0.22, -0.21,  0.17,\n",
       "         0.27, -0.1 , -0.25,  0.02,  0.16,  0.01, -0.09, -0.06, -0.04,\n",
       "         0.02,  0.08,  0.03]])"
      ]
     },
     "execution_count": 228,
     "metadata": {},
     "output_type": "execute_result"
    }
   ],
   "source": [
    "Xanuran[:2,:]"
   ]
  },
  {
   "cell_type": "code",
   "execution_count": 22,
   "metadata": {},
   "outputs": [
    {
     "data": {
      "text/plain": [
       "array([[ 0.1529363 , -0.1055859 ,  0.20072191,  0.31720106,  0.26076385,\n",
       "         0.10094464, -0.1500626 , -0.17112763,  0.12467644,  0.18865415,\n",
       "        -0.07562172, -0.15643593,  0.08224512,  0.13575204, -0.02401665,\n",
       "        -0.10835111, -0.07762252, -0.0095678 ,  0.05768398,  0.11868014,\n",
       "         0.01403845],\n",
       "       [ 0.17153426, -0.09897474,  0.26842522,  0.33867186,  0.2683531 ,\n",
       "         0.06083509, -0.22247464, -0.20769267,  0.17088287,  0.27095828,\n",
       "        -0.09500394, -0.25434147,  0.02278623,  0.1633201 ,  0.01202228,\n",
       "        -0.09097401, -0.05650952, -0.03530336,  0.02013996,  0.08226299,\n",
       "         0.02905574]])"
      ]
     },
     "execution_count": 22,
     "metadata": {},
     "output_type": "execute_result"
    }
   ],
   "source": [
    "Xanuran[:2,:]"
   ]
  },
  {
   "cell_type": "code",
   "execution_count": 230,
   "metadata": {},
   "outputs": [
    {
     "data": {
      "text/plain": [
       "array([[0],\n",
       "       [0]])"
      ]
     },
     "execution_count": 230,
     "metadata": {},
     "output_type": "execute_result"
    }
   ],
   "source": [
    "Tanuran[:2]"
   ]
  },
  {
   "cell_type": "code",
   "execution_count": 23,
   "metadata": {},
   "outputs": [
    {
     "data": {
      "text/plain": [
       "array([[0],\n",
       "       [0]])"
      ]
     },
     "execution_count": 23,
     "metadata": {},
     "output_type": "execute_result"
    }
   ],
   "source": [
    "Tanuran[:2]"
   ]
  },
  {
   "cell_type": "code",
   "execution_count": 231,
   "metadata": {},
   "outputs": [
    {
     "name": "stdout",
     "output_type": "stream",
     "text": [
      "672 samples in class 0\n",
      "3478 samples in class 1\n",
      "542 samples in class 2\n",
      "310 samples in class 3\n",
      "472 samples in class 4\n",
      "1121 samples in class 5\n",
      "270 samples in class 6\n",
      "114 samples in class 7\n",
      "68 samples in class 8\n",
      "148 samples in class 9\n"
     ]
    }
   ],
   "source": [
    "for i in range(10):\n",
    "    print('{} samples in class {}'.format(np.sum(Tanuran==i), i))"
   ]
  },
  {
   "cell_type": "code",
   "execution_count": 24,
   "metadata": {},
   "outputs": [
    {
     "name": "stdout",
     "output_type": "stream",
     "text": [
      "672 samples in class 0\n",
      "3478 samples in class 1\n",
      "542 samples in class 2\n",
      "310 samples in class 3\n",
      "472 samples in class 4\n",
      "1121 samples in class 5\n",
      "270 samples in class 6\n",
      "114 samples in class 7\n",
      "68 samples in class 8\n",
      "148 samples in class 9\n"
     ]
    }
   ],
   "source": [
    "for i in range(10):\n",
    "    print('{} samples in class {}'.format(np.sum(Tanuran==i), i))"
   ]
  },
  {
   "cell_type": "code",
   "execution_count": 191,
   "metadata": {
    "collapsed": true
   },
   "outputs": [],
   "source": [
    "results = trainNNs(Xanuran, Tanuran, 0.8, [0, 5, [5, 5]], 5, 100, classify=True)"
   ]
  },
  {
   "cell_type": "code",
   "execution_count": 192,
   "metadata": {},
   "outputs": [
    {
     "data": {
      "text/plain": [
       "[[0, 0.031167477414871435, 0.035302293259207786, 2.573090076446533],\n",
       " [5, 0.033877692842251561, 0.043224461431549691, 5.259038925170898],\n",
       " [[5, 5], 0.076198749131341212, 0.086865879082696315, 6.18447732925415]]"
      ]
     },
     "execution_count": 192,
     "metadata": {},
     "output_type": "execute_result"
    }
   ],
   "source": [
    "summarize(results)"
   ]
  },
  {
   "cell_type": "code",
   "execution_count": 25,
   "metadata": {
    "collapsed": true
   },
   "outputs": [],
   "source": [
    "results = trainNNs(Xanuran, Tanuran, 0.8, [0, 5, [5, 5]], 5, 100, classify=True)"
   ]
  },
  {
   "cell_type": "code",
   "execution_count": 26,
   "metadata": {},
   "outputs": [
    {
     "data": {
      "text/plain": [
       "[[0, 0.028179291174426684, 0.034885337039610845, 2.706338405609131],\n",
       " [5, 0.035267546907574707, 0.041000694927032663, 5.346082448959351],\n",
       " [[5, 5], 0.046699096594857534, 0.057956914523974987, 6.503756046295166]]"
      ]
     },
     "execution_count": 26,
     "metadata": {},
     "output_type": "execute_result"
    }
   ],
   "source": [
    "summarize(results)"
   ]
  },
  {
   "cell_type": "code",
   "execution_count": 27,
   "metadata": {},
   "outputs": [
    {
     "data": {
      "text/plain": [
       "[0, 0.028179291174426684, 0.034885337039610845, 2.706338405609131]"
      ]
     },
     "execution_count": 27,
     "metadata": {},
     "output_type": "execute_result"
    }
   ],
   "source": [
    "bestNetwork(summarize(results))"
   ]
  },
  {
   "cell_type": "markdown",
   "metadata": {},
   "source": [
    "Now do an investigation like you did for the regression data. \n",
    "\n",
    "Test at least 10 different hidden layer structures. Then train another network with your best hidden layer structure on 0.8 of the data and use the trained network on the testing data (the remaining 0.2 of the date). \n",
    "\n",
    "Plot the predicted and actual `Species` for the testing data as an integer.  Discuss what you see."
   ]
  },
  {
   "cell_type": "markdown",
   "metadata": {},
   "source": [
    "**I RAN OUT OF TIME :( :( :(**\n",
    "<br>\n",
    "But I KNOW I can get the rest of the points..."
   ]
  },
  {
   "cell_type": "markdown",
   "metadata": {},
   "source": [
    "## Grading\n",
    "\n",
    "Download [A6grader.tar](http://www.cs.colostate.edu/~anderson/cs440/notebooks/A6grader.tar) and extract `A6grader.py` from it."
   ]
  },
  {
   "cell_type": "code",
   "execution_count": 110,
   "metadata": {
    "scrolled": true
   },
   "outputs": [
    {
     "name": "stdout",
     "output_type": "stream",
     "text": [
      "\n",
      "Testing summarize([[[1,1], [1.2, 1.3, 1.4], [2.2, 2.3, 2.4], 0.5], [[2,2,2], [4.4, 4.3, 4.2], [6.5, 6.4, 6.3], 0.6]])\n",
      "\n",
      "--- 10/10 points. Correctly returned [[[1, 1], 1.3, 2.3000000000000003, 0.5], [[2, 2, 2], 4.2999999999999998, 6.3999999999999995, 0.6]]\n",
      "\n",
      "Testing bestNetwork([[[1, 1], 1.3, 2.3, 0.5], [[2, 2, 2], 4.3, 1.3, 0.6]])\n",
      "\n",
      "--- 10/10 points. Correctly returned [[2, 2, 2], 4.3, 1.3, 0.6]\n",
      "\n",
      "X = np.random.uniform(-1, 1, (100, 3))\n",
      "T = np.hstack(((X**2 - 0.2*X**3).sum(axis=1,keepdims=True),\n",
      "               (np.sin(X)).sum(axis=1,keepdims=True)))\n",
      "result = trainNNs(X, T, 0.7, [0, 5, 10, [20, 20]], 10, 100, False)\n",
      "\n",
      "--- 20/20 points. Correct.\n",
      "\n",
      "Testing bestNetwork(summarize(result))\n",
      "\n",
      "--- 20/20 points. You correctly found that network [20, 20] is best.\n",
      "\n",
      "A6 Execution Grade is 60/60\n",
      "\n",
      "======================= The regression data set =======================\n",
      "\n",
      "--- _/5 points. Read the data in energydata_complete.csv into variables Xenergy and Tenergy.\n",
      "\n",
      "--- _/5 points. Train some networks by calling the NeuralNetwork constructor and train method and plot the error trace to help you decide now many iterations might be needed.\n",
      "\n",
      "--- _/5 points. Try at least 10 different hidden layer structures using trainNNs.\n",
      "\n",
      "--- _/5 points. Train another network with your best hidden layer structure on 0.8 of the data and test it on remaining 0.2 of the data. Plot the predicted and actual Appliances energy use, and the predicted and actual lights energy use, in two separate plots. Discuss what you see.\n",
      "\n",
      "======================= Classification data set =======================\n",
      "\n",
      "--- _/5 points. Read the data in Frogs_MFCCs.csv into variables Xanuran and Tanuran.\n",
      "\n",
      "--- _/5 points. Train some networks by calling the NeuralNetwork constructor and train method and plot the error trace to help you decide now many iterations might be needed.\n",
      "\n",
      "--- _/5 points. Try at least 10 different hidden layer structures using trainNNs.\n",
      "\n",
      "--- _/5 points. Train another network with your best hidden layer structure on 0.8 of the data and test it on remaining 0.2 of the data. Plot the predicted and actual Appliances energy use, and the predicted and actual lights energy use, in two separate plots. Discuss what you see.\n",
      "\n",
      "A6 Notebook Grade is __/40\n",
      "\n",
      "A6 FINAL GRADE is __/100\n"
     ]
    },
    {
     "data": {
      "text/plain": [
       "<matplotlib.figure.Figure at 0x10afd1198>"
      ]
     },
     "metadata": {},
     "output_type": "display_data"
    }
   ],
   "source": [
    "%run -i \"A6grader.py\""
   ]
  },
  {
   "cell_type": "markdown",
   "metadata": {},
   "source": [
    "## Extra Credit\n",
    "\n",
    "  2. Repeat the above regression and classification experiments with a second regression data set and a second classification data set.\n",
    "  \n",
    "  2. Since you are collecting the performance of all repetitions for each network structure, you can calculate a confidence interval about the mean, to help judge significant differences. Do this for either the regression or the classification data and plot the mean test performance with confidence intervals for each network structure tested.  Discuss the statistical significance of the differences among the means.  One website I found to help with this is the site [Correct way to obtain confidence interval with scipy](https://stackoverflow.com/questions/28242593/correct-way-to-obtain-confidence-interval-with-scipy).\n",
    "  \n"
   ]
  }
 ],
 "metadata": {
  "anaconda-cloud": {},
  "kernelspec": {
   "display_name": "Python 3",
   "language": "python",
   "name": "python3"
  },
  "language_info": {
   "codemirror_mode": {
    "name": "ipython",
    "version": 3
   },
   "file_extension": ".py",
   "mimetype": "text/x-python",
   "name": "python",
   "nbconvert_exporter": "python",
   "pygments_lexer": "ipython3",
   "version": "3.6.1"
  },
  "toc": {
   "nav_menu": {},
   "number_sections": true,
   "sideBar": true,
   "skip_h1_title": false,
   "toc_cell": false,
   "toc_position": {},
   "toc_section_display": "block",
   "toc_window_display": false
  }
 },
 "nbformat": 4,
 "nbformat_minor": 1
}
