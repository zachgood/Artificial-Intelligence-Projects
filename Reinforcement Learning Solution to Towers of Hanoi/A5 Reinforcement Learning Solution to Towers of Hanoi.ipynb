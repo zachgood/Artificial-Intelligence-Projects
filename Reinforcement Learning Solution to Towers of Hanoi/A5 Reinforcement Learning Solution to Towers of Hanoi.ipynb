{
 "cells": [
  {
   "cell_type": "markdown",
   "metadata": {},
   "source": [
    "# Reinforcement Learning Solution to the Towers of Hanoi Puzzle"
   ]
  },
  {
   "cell_type": "markdown",
   "metadata": {},
   "source": [
    "### Zach Goodenow\n",
    "10/25/17\n",
    "<br>\n",
    "CS 440"
   ]
  },
  {
   "cell_type": "markdown",
   "metadata": {},
   "source": [
    "For this assignment, you will use reinforcement learning to solve the [Towers of Hanoi](https://en.wikipedia.org/wiki/Tower_of_Hanoi) puzzle.  \n",
    "\n",
    "To accomplish this, you must modify the code discussed in lecture for learning to play Tic-Tac-Toe.  Modify the code  so that it learns to solve the three-disk, three-peg\n",
    "Towers of Hanoi Puzzle.  In some ways, this will be simpler than the\n",
    "Tic-Tac-Toe code.  \n",
    "\n",
    "Steps required to do this include the following:\n",
    "\n",
    "  - Represent the state, and use it as a tuple as a key to the Q dictionary.\n",
    "  - Make sure only valid moves are tried from each state.\n",
    "  - Assign reinforcement of $-1$ to each move unless it is a move to the goal state, for which the reinforcement is $0$.  This represents the goal of finding the shortest path to the goal.\n",
    "\n",
    "Make a plot of the number of steps required to reach the goal for each\n",
    "trial.  Each trial starts from the same initial state.  Decay epsilon\n",
    "as in the Tic-Tac-Toe code."
   ]
  },
  {
   "cell_type": "markdown",
   "metadata": {},
   "source": [
    "## Requirements"
   ]
  },
  {
   "cell_type": "markdown",
   "metadata": {},
   "source": [
    "First, how should we represent the state of this puzzle?  We need to keep track of which disks are on which pegs. Name the disks 1, 2, and 3, with 1 being the smallest disk and 3 being the largest. The set of disks on a peg can be represented as a list of integers.  Then the state can be a list of three lists.\n",
    "\n",
    "For example, the starting state with all disks being on the left peg would be `[[1, 2, 3], [], []]`.  After moving disk 1 to peg 2, we have `[[2, 3], [1], []]`.\n",
    "\n",
    "To represent that move we just made, we can use a list of two peg numbers, like `[1, 2]`, representing a move of the top disk on peg 1 to peg 2."
   ]
  },
  {
   "cell_type": "markdown",
   "metadata": {},
   "source": [
    "Now on to some functions. Define at least the following functions. Examples showing required output appear below.\n",
    "\n",
    "   - `printState(state)`: prints the state in the form shown below\n",
    "   - `validMoves(state)`: returns list of moves that are valid from `state`\n",
    "   - `makeMove(state, move)`: returns new (copy of) state after move has been applied.\n",
    "   - `trainQ(nRepetitions, learningRate, epsilonDecayFactor, validMovesF, makeMoveF)`: train the Q function for number of repetitions, decaying epsilon at start of each repetition. Returns Q and list or array of number of steps to reach goal for each repetition.\n",
    "   - `testQ(Q, maxSteps, validMovesF, makeMoveF)`: without updating Q, use Q to find greedy action each step until goal is found. Return path of states.\n",
    "\n",
    "A function that you might choose to implement is\n",
    "\n",
    "   - `stateMoveTuple(state, move)`: returns tuple of state and move.  \n",
    "    \n",
    "This is useful for converting state and move to a key to be used for the Q dictionary."
   ]
  },
  {
   "cell_type": "markdown",
   "metadata": {},
   "source": [
    "# Hanoi Functions"
   ]
  },
  {
   "cell_type": "code",
   "execution_count": 137,
   "metadata": {
    "collapsed": true
   },
   "outputs": [],
   "source": [
    "import copy\n",
    "\n",
    "# Prints the puzzle in a readable format\n",
    "def printState(state):\n",
    "    # Get longest length\n",
    "    ll = 0\n",
    "    for prong in state:\n",
    "        ll = max(ll, len(prong))\n",
    "    # Add longestLength - length amount of ' ' before each list\n",
    "    grab = []\n",
    "    for prong in state:\n",
    "        numAdd = ll - len(prong)\n",
    "        grab.append([' ']*numAdd + prong)\n",
    "    for i in range(ll):\n",
    "        row = []\n",
    "        for prong in grab:\n",
    "            row.append(str(prong[i]))\n",
    "        print(' '.join(row))\n",
    "    print('------')\n",
    "\n",
    "\n",
    "# returns list of moves that are valid from state\n",
    "def validMoves(state):\n",
    "    moves = []\n",
    "    top = []\n",
    "    for s in state:\n",
    "        top.append(s[0] if s != [] else float('inf')) # Mark empty pegs as inf\n",
    "    top = [(en[0]+1, en[1]) for en in enumerate(top)]\n",
    "    for f in top:\n",
    "        if f[1] == float('inf'): continue # Cant move from an empty peg\n",
    "        for t in top:\n",
    "            if f == t: continue # Cant move to same peg youre from\n",
    "            if t[1] > f[1]: moves.append([f[0], t[0]])\n",
    "    return moves\n",
    "\n",
    "\n",
    "# returns new (copy of) state after move has been applied.\n",
    "def makeMove(state, move):\n",
    "    if move not in validMoves(state):\n",
    "        raise ValueError(str(move) + ' not a valid move for state: ' + str(state))\n",
    "    stateC = copy.deepcopy(state) # Copy state for manipulation\n",
    "    piece = stateC[move[0]-1].pop(0) # Remove piece from prong\n",
    "    stateC[move[1]-1].insert(0,piece) # Put piece on new prong\n",
    "    return stateC\n",
    "\n",
    "\n",
    "# returns tuple of state and move.\n",
    "def stateMoveTuple(state, move):\n",
    "    stateTup = tuple(tuple(x) for x in state)\n",
    "    return (stateTup, tuple(move))\n",
    "\n",
    "\n",
    "# Returns true if Hanoi is complete on the final peg\n",
    "def winner(state):\n",
    "    for peg in state[:-1]:\n",
    "        if peg != []:\n",
    "            return False\n",
    "    orderCheck = 1\n",
    "    for ring in state[-1]:\n",
    "        if ring != orderCheck:\n",
    "            return False\n",
    "        orderCheck += 1\n",
    "    return True\n"
   ]
  },
  {
   "cell_type": "markdown",
   "metadata": {},
   "source": [
    "## Hanoi Examples"
   ]
  },
  {
   "cell_type": "code",
   "execution_count": 138,
   "metadata": {},
   "outputs": [
    {
     "name": "stdout",
     "output_type": "stream",
     "text": [
      "1    \n",
      "2    \n",
      "3    \n",
      "------\n"
     ]
    }
   ],
   "source": [
    "state = [[1, 2, 3], [], []]\n",
    "printState(state)"
   ]
  },
  {
   "cell_type": "code",
   "execution_count": 139,
   "metadata": {},
   "outputs": [
    {
     "data": {
      "text/plain": [
       "(((1, 2, 3), (), ()), (1, 2))"
      ]
     },
     "execution_count": 139,
     "metadata": {},
     "output_type": "execute_result"
    }
   ],
   "source": [
    "move =[1, 2]\n",
    "\n",
    "stateMoveTuple(state, move)"
   ]
  },
  {
   "cell_type": "code",
   "execution_count": 140,
   "metadata": {},
   "outputs": [
    {
     "data": {
      "text/plain": [
       "[[2, 3], [1], []]"
      ]
     },
     "execution_count": 140,
     "metadata": {},
     "output_type": "execute_result"
    }
   ],
   "source": [
    "newstate = makeMove(state, move)\n",
    "newstate"
   ]
  },
  {
   "cell_type": "code",
   "execution_count": 141,
   "metadata": {},
   "outputs": [
    {
     "name": "stdout",
     "output_type": "stream",
     "text": [
      "2    \n",
      "3 1  \n",
      "------\n"
     ]
    }
   ],
   "source": [
    "printState(newstate)"
   ]
  },
  {
   "cell_type": "markdown",
   "metadata": {},
   "source": [
    "# Train and Test"
   ]
  },
  {
   "cell_type": "markdown",
   "metadata": {},
   "source": [
    "Some thoughts while making `trainQ` and `testQ`:\n",
    "<br><br>\n",
    "**Learning Rate** determines how quickly the values in Q change each update.  A higher learning rate changes the values more quickly.  Thus, the learning rate truly represents how quickly Q \"learns\".  But why not just set the learning rate to the highest it can be?  Because the values influence the choice made for each move.  So, when the learning rate is high, the \"learning\" that Q does early has the greatest influence. But if Q \"learns\" a non-optimal temporal difference error, it will likely never find the most optimal temporal difference errors.  This is because of the effect that the epsilon decay factor has on choosing a move.  \n",
    "<br>\n",
    "**Epsilon Decay Factor** determines the rate at which \"exploring\" decreases.  Here, exploring means the probability of choosing a random move vs using the temporal difference error to choose a move.  So, a value closer to 0 will cause the functions to rely on Q more quickly when training Q.  But why not just set the decay factor to a value closer to 0?  Well, we need to explore some random moves to get more information about how those moves influence success.  If epsilon gets too small before we have optimized Q, Q will likely never optimize.  \n",
    "<br>\n",
    "The [wikipedia website about Q-learning](https://en.wikipedia.org/wiki/Q-learning) was also a helpful resource for further understanding."
   ]
  },
  {
   "cell_type": "markdown",
   "metadata": {},
   "source": [
    "<div class=\"alert alert-block alert-info\">\n",
    "The *epsilonGreedy* function is used to choose the move in *trainQ*. *epsilon* represents the probability of making a random choice vs using Q to get the best move.  Some of the code from Lecture 15 was used to make these functions  \n",
    "\n",
    "**IMPORTANT NOTE:** I added an additional argument to *trainQ* and *testQ* called *numRings* that defaults to 3.  This represents how many rings are on the first prong for the starting state.  This was for ease of applying these functions to larger Hanoi puzzles.  Also, the extra credit asks for functions to apply a 4 disk game.\n",
    "<br><br>\n",
    "I actually had this in mind when writing all these functions so they should be usable for games with 3, 4, 5, 6, 7, and 8 disks.  This is further explained in the extra credit section.\n",
    "<br><br>\n",
    "**FURTHER NOTE:** I added an one more argument to *trainQ* and *testQ* called *numProngs* that defaults to 3.  This represents how many prongs or towers there are for Hanoi states.  This was purely out of curiosity and it might be overkill but if anything, I can just remove it later."
   ]
  },
  {
   "cell_type": "code",
   "execution_count": 142,
   "metadata": {
    "collapsed": true
   },
   "outputs": [],
   "source": [
    "import random\n",
    "import numpy as np"
   ]
  },
  {
   "cell_type": "code",
   "execution_count": 143,
   "metadata": {
    "collapsed": true
   },
   "outputs": [],
   "source": [
    "# To slowly transition from taking random actions to taking the action currently believed to be best,\n",
    "# called the greedy action, we slowly decay a parameter, ϵ,\n",
    "# from 1 down towards 0 as the probability of selecting a random action.\n",
    "# This is called the ϵ -greedy policy.\n",
    "def epsilonGreedy(epsilon, Q, state, validMovesF):\n",
    "    debug = False\n",
    "    validMoves = (validMovesF(state))\n",
    "    if np.random.uniform() < epsilon: # Random move\n",
    "        randomMove = random.choice(validMoves)\n",
    "        if debug:\n",
    "            print('epsilonGreedy chose random move')\n",
    "            print('\\tValid moves are',validMoves)\n",
    "            print('\\tRandom move:', randomMove)\n",
    "        return randomMove\n",
    "    else: # Greedy Move\n",
    "        # get Q values for all validMoves\n",
    "        Qs = np.array([Q.get(stateMoveTuple(state,  m), 0) for m in validMoves])\n",
    "        # get move with largest Q value\n",
    "        # bestMove = validMoves[np.argmax(Qs)] # argmax returns index of max value\n",
    "        bestMove = validMoves[np.argmin(Qs)] # argmin returns index of min value\n",
    "        if debug:\n",
    "            print('epsilonGreedy chose greedy mvoe')\n",
    "            print('\\tValid moves are', validMoves)\n",
    "            print('\\tQ values for validMoves are', Qs)\n",
    "            print('\\tBest move is', bestMove)\n",
    "        return bestMove"
   ]
  },
  {
   "cell_type": "code",
   "execution_count": 144,
   "metadata": {
    "collapsed": true
   },
   "outputs": [],
   "source": [
    "# train the Q function for number of repetitions, decaying epsilon at start of each repetition.\n",
    "# Returns Q and list or array of number of steps to reach goal for each repetition.\n",
    "def trainQ(nRepetitions, learningRate, epsilonDecayFactor, validMovesF, makeMoveF, numRings = 3, numProngs = 3):\n",
    "    # Set up Q table\n",
    "    Q = {}  # empty dict to keep track of temporal difference error for each state, move pair\n",
    "    stepsToGoal = np.zeros(nRepetitions) # To keep track of number steps to success for each game played\n",
    "    outcomes = np.zeros(nRepetitions) # To keep track of the outcome of each game played.  I DONT THINK THIS IS USEFUL FOR HANOI\n",
    "    epsilons = np.zeros(nRepetitions) # To keep track of the epsilon value for each game played\n",
    "\n",
    "    # Start epislon at 1 and decay every step\n",
    "    epsilon = 1.0\n",
    "    \n",
    "    # For debugging\n",
    "    showMoves = False\n",
    "\n",
    "    # This loop is to play the game nRepetitions times\n",
    "    for nRep in range(nRepetitions):\n",
    "        epsilon *= epsilonDecayFactor # Update epsilon\n",
    "        epsilons[nRep] = epsilon # Keep track of epilon for each game played\n",
    "        step = 0 # Keep track of how many steps each game takes\n",
    "        # state = [[1, 2, 3], [], []] # Set up starting state\n",
    "        # state = [[1, 2, 3, 4], [], []] # Set up starting state with 4 disks\n",
    "        # state = [[1, 2, 3, 4, 5], [], []] # Set up starting state with 5 disks\n",
    "        # state = [list(range(1, numRings + 1)), [], []]\n",
    "        state = np.empty((numProngs, 0)).tolist() # get numProngs lists in a list\n",
    "        state[0] = list(range(1, numRings + 1)) # Add numRings ints to first prong/list\n",
    "        done = False\n",
    "\n",
    "        # This loop is to play the game once and update Q accordingly\n",
    "        while not done:\n",
    "            # Pick move depending on weight of epsilon and values of Q\n",
    "            move = epsilonGreedy(epsilon, Q, state, validMovesF)\n",
    "\n",
    "            stamp = stateMoveTuple(state, move) # \"Stamp\" the state and move to be key in Q\n",
    "            newState = makeMoveF(state, move) # Apply the move and save resulting state\n",
    "            step += 1\n",
    "\n",
    "            # If the state move tuple isnt in Q yet, give it -1 and update later\n",
    "            if stamp not in Q:\n",
    "                Q[stamp] = 1 # OR SHOULD THIS BE 0?!?!?!\n",
    "            if showMoves:\n",
    "                printState(newState)\n",
    "\n",
    "            # If move resulted in win, update Q to reflect\n",
    "            if winner(newState):\n",
    "                if showMoves:\n",
    "                    print('       Game Won with {} steps!'.format(step))\n",
    "                Q[stamp] = 1\n",
    "                done = True\n",
    "                stepsToGoal[nRep] = step\n",
    "                outcomes[nRep] = 1\n",
    "\n",
    "            # if not a win, calculate the temporal difference error\n",
    "            # use it to adjust the Q value of the previous state, move.\n",
    "            # We do this only if we are not at the first move of a game. WHY? b/c no previous (state, move) on first move\n",
    "            if step > 1:\n",
    "                Q[oldStamp] += learningRate * (1 + Q[stamp] - Q[oldStamp])\n",
    "\n",
    "            # Q(oldstate, oldmove) = Q(oldstate, oldmove) + learningrate * (-1 + Q(state, move) - Q(oldstate, oldmove)\n",
    "\n",
    "            # Set up for next move:\n",
    "            # Save current state, move as old state, move so Q(state, move) can be updated after next steps\n",
    "            oldState, oldMove = state, move\n",
    "            # Stamp old state, move.\n",
    "            oldStamp = stateMoveTuple(oldState, oldMove)\n",
    "            # Take next step for state\n",
    "            state = newState\n",
    "        \n",
    "    return Q, stepsToGoal"
   ]
  },
  {
   "cell_type": "code",
   "execution_count": 145,
   "metadata": {
    "collapsed": true
   },
   "outputs": [],
   "source": [
    "# without updating Q, use Q to find greedy action each step until goal is found. Return path of states.\n",
    "def testQ(Q, maxSteps, validMovesF, makeMoveF, numRings = 3, numProngs = 3):\n",
    "    epsilon = 0 # Because we dont want any random moves\n",
    "    step = 0  # Keep track of how many steps each game takes\n",
    "    # state = [[1, 2, 3], [], []]  # Set up starting state\n",
    "    # state = [[1, 2, 3, 4], [], []]  # Set up starting state with 4 disks\n",
    "    # state = [[1, 2, 3, 4, 5], [], []]  # Set up starting state with 5 disks\n",
    "    # state = [list(range(1, numRings + 1)), [], []]\n",
    "    state = np.empty((numProngs, 0)).tolist()  # get numProngs lists in a list\n",
    "    state[0] = list(range(1, numRings + 1))  # Add numRings ints to first prong/list\n",
    "    path = [] # To keep track of the steps and states taken\n",
    "\n",
    "    # Play the game until done\n",
    "    while step <= maxSteps:\n",
    "        # Put the state in the path\n",
    "        path.append(state)\n",
    "        # Check completion\n",
    "        if winner(state):\n",
    "            break\n",
    "        step += 1\n",
    "        # use Q to find greedy action\n",
    "        move = epsilonGreedy(epsilon, Q, state, validMovesF)\n",
    "        # make the move\n",
    "        state = makeMoveF(state, move)\n",
    "\n",
    "    return path"
   ]
  },
  {
   "cell_type": "markdown",
   "metadata": {},
   "source": [
    "## Examples for Test and Train"
   ]
  },
  {
   "cell_type": "markdown",
   "metadata": {},
   "source": [
    "[This website](http://hanoi.aimary.com/index_en.php) was helpful for seeing if my functions were getting the lowest number of steps for each number of rings.\n",
    "\n",
    "I messed around in PyCharm for a while to see what changing the values for `learningRate` and `epsilonDecayFactor` would do."
   ]
  },
  {
   "cell_type": "code",
   "execution_count": 146,
   "metadata": {
    "collapsed": true
   },
   "outputs": [],
   "source": [
    "# from A5mysolution import * "
   ]
  },
  {
   "cell_type": "code",
   "execution_count": 147,
   "metadata": {
    "collapsed": true
   },
   "outputs": [],
   "source": [
    "Q, stepsToGoal = trainQ(50, 0.5, 0.7, validMoves, makeMove)"
   ]
  },
  {
   "cell_type": "code",
   "execution_count": 148,
   "metadata": {},
   "outputs": [
    {
     "data": {
      "text/plain": [
       "array([ 24.,  69.,  16.,  61.,  23.,  77.,  40.,  14.,  13.,  23.,  17.,\n",
       "        45.,   9.,  48.,  10.,  13.,   7.,  15.,  32.,   7.,  10.,   8.,\n",
       "        17.,  10.,   7.,  10.,   7.,   7.,   7.,   7.,   7.,   7.,   7.,\n",
       "         7.,   7.,   7.,   7.,   7.,   7.,   7.,   7.,   7.,   7.,   7.,\n",
       "         7.,   7.,   7.,   7.,   7.,   7.])"
      ]
     },
     "execution_count": 148,
     "metadata": {},
     "output_type": "execute_result"
    }
   ],
   "source": [
    "stepsToGoal"
   ]
  },
  {
   "cell_type": "code",
   "execution_count": 149,
   "metadata": {
    "collapsed": true
   },
   "outputs": [],
   "source": [
    "path = testQ(Q, 20, validMoves, makeMove)"
   ]
  },
  {
   "cell_type": "code",
   "execution_count": 150,
   "metadata": {},
   "outputs": [
    {
     "data": {
      "text/plain": [
       "[[[1, 2, 3], [], []],\n",
       " [[2, 3], [], [1]],\n",
       " [[3], [2], [1]],\n",
       " [[3], [1, 2], []],\n",
       " [[], [1, 2], [3]],\n",
       " [[1], [2], [3]],\n",
       " [[1], [], [2, 3]],\n",
       " [[], [], [1, 2, 3]]]"
      ]
     },
     "execution_count": 150,
     "metadata": {},
     "output_type": "execute_result"
    }
   ],
   "source": [
    "path"
   ]
  },
  {
   "cell_type": "code",
   "execution_count": 151,
   "metadata": {},
   "outputs": [
    {
     "name": "stdout",
     "output_type": "stream",
     "text": [
      "1    \n",
      "2    \n",
      "3    \n",
      "------\n",
      "\n",
      "2    \n",
      "3   1\n",
      "------\n",
      "\n",
      "3 2 1\n",
      "------\n",
      "\n",
      "  1  \n",
      "3 2  \n",
      "------\n",
      "\n",
      "  1  \n",
      "  2 3\n",
      "------\n",
      "\n",
      "1 2 3\n",
      "------\n",
      "\n",
      "    2\n",
      "1   3\n",
      "------\n",
      "\n",
      "    1\n",
      "    2\n",
      "    3\n",
      "------\n",
      "\n"
     ]
    }
   ],
   "source": [
    "for s in path:\n",
    "    printState(s)\n",
    "    print()"
   ]
  },
  {
   "cell_type": "markdown",
   "metadata": {},
   "source": [
    "This is a snip of how I tested my functions with 3 disks and 3 prongs"
   ]
  },
  {
   "cell_type": "code",
   "execution_count": 152,
   "metadata": {},
   "outputs": [
    {
     "name": "stdout",
     "output_type": "stream",
     "text": [
      "[  90.  104.   94.   34.   64.    9.   27.   48.   12.    7.   10.   13.\n",
      "   27.   12.    9.    7.   11.    7.   32.    7.    7.    8.    7.    7.\n",
      "    7.    7.    7.    7.    7.    7.    7.    7.    7.    7.    7.    7.\n",
      "    7.    7.    7.    7.    7.    7.    7.    7.    7.    7.    7.    7.\n",
      "    7.    7.]\n",
      "lowest steps `7.0` found `33` times\n",
      "1 2 3\n",
      "------\n",
      "    2\n",
      "1   3\n",
      "------\n",
      "    1\n",
      "    2\n",
      "    3\n",
      "------\n",
      "It took 7 steps to win this puzzle\n"
     ]
    }
   ],
   "source": [
    "Q, stepsToGoal = trainQ(50, 0.5, 0.7, validMoves, makeMove)\n",
    "print(stepsToGoal)\n",
    "minSteps = min(stepsToGoal)\n",
    "times = sum(stepsToGoal == minSteps)\n",
    "print('lowest steps `{}` found `{}` times'.format(minSteps, times))\n",
    "\n",
    "# Test test\n",
    "path = testQ(Q, 100, validMoves, makeMove)\n",
    "# for s in path:\n",
    "#     printState(s)\n",
    "#     print()\n",
    "printState(path[-3])\n",
    "printState(path[-2])\n",
    "printState(path[-1])\n",
    "print('It took {} steps to win this puzzle'.format(len(path)-1))"
   ]
  },
  {
   "cell_type": "markdown",
   "metadata": {},
   "source": [
    "<div class=\"alert alert-block alert-info\">\n",
    "This is some code I used to try different combinations of *learningRat* and *epsilonDecayFactor*. I still have some trouble figuring out which values will optimize Q and how to tell if Q is actually optimal or was just lucky when picking random moves during training.\n",
    "<br><br>\n",
    "Code is commented out because it takes a while and is not necessary for this assignment.  But I wanted to have it in this notebook for future reference."
   ]
  },
  {
   "cell_type": "code",
   "execution_count": 153,
   "metadata": {
    "collapsed": true
   },
   "outputs": [],
   "source": [
    "# find most optimal combo of learning rate and decay facminSteps_overall = float('inf')\n",
    "times_overall = 0\n",
    "l_overall = -1\n",
    "e_overall = -1\n",
    "learningRates = np.arange(0.05, 1, 0.05) # Test learning rates between 0.05 and 1 incremented by 0.05\n",
    "epDecayFactors =  #np.arange(0.2, 1, 0.05) Test decay factors between 0.2 and 1 incremented by 0.05\n",
    "# for l in learningRates:\n",
    "#     for e in epDecayFactors:\n",
    "#         if abs(l-e) > 0.7 or l+e <= 0.35:\n",
    "#             print('Skipped combo', l, e)\n",
    "#         else:\n",
    "#             print('Learning rate {} and EDF {}'.format(l, e))\n",
    "#             Q, stepsToGoal = trainQ(50, l, e, validMoves, makeMove)\n",
    "#             minSteps = min(stepsToGoal)\n",
    "#             times = sum(stepsToGoal == minSteps)\n",
    "#             print('\\tlowest steps `{}` found `{}` times'.format(minSteps, times))\n",
    "#             # check for best combo\n",
    "#             if minSteps_overall >= minSteps:\n",
    "#                 if minSteps_overall == minSteps:\n",
    "#                     if times_overall > times:\n",
    "#                         continue\n",
    "#                 minSteps_overall = minSteps\n",
    "#                 times_overall = times\n",
    "#                 l_overall = l\n",
    "#                 e_overall = e\n",
    "# print('Learning rate {} and EDF {} found \\n\\tlowest steps `{}` found `{}` times'.format(l_overall, e_overall, minSteps_overall, times_overall))\n",
    "# OUTCOMES FROM A FEW RUNS:\n",
    "    # Learning rate 0.95000001 and EDF 0.79998 found lowest steps `7.0` found `40` times\n",
    "    # Learning rate 0.950001 and EDF 0.499999994 found lowest steps `7.0` found `45` times"
   ]
  },
  {
   "cell_type": "markdown",
   "metadata": {},
   "source": [
    "## Plotting"
   ]
  },
  {
   "cell_type": "markdown",
   "metadata": {},
   "source": [
    "I didnt end up applying the plotting from lecture 15 because it didnt directly translate.  For my sake, printing the step count was good enough for debugging, though I would have liked to visualize the data better. \n",
    "<br><br>\n",
    "After some messing around, I was able to make a few plots that were helpful to visualize"
   ]
  },
  {
   "cell_type": "code",
   "execution_count": 154,
   "metadata": {
    "collapsed": true
   },
   "outputs": [],
   "source": [
    "import matplotlib.pyplot as plt\n",
    "%matplotlib inline\n",
    "from IPython.display import display, clear_output"
   ]
  },
  {
   "cell_type": "code",
   "execution_count": 232,
   "metadata": {
    "collapsed": true
   },
   "outputs": [],
   "source": [
    "def plotResult(Q,stepsToGoal,epsilonDecayFactor,nGames):\n",
    "    if nGames==0:\n",
    "        return\n",
    "    \n",
    "    # Make epsilon tracker\n",
    "    epsilon = 1.0\n",
    "    epsilons = np.zeros(nGames)\n",
    "    for nRep in range(nGames):\n",
    "        epsilon *= epsilonDecayFactor # Update epsilon\n",
    "        epsilons[nRep] = epsilon\n",
    "        \n",
    "    # Set up plot\n",
    "    nBins = 100 if len(stepsToGoal) > 300 else len(stepsToGoal)\n",
    "    nPer = int(nGames/nBins)\n",
    "    outcomeRows = stepsToGoal.reshape((-1,nPer))\n",
    "    outcomeRows = outcomeRows[:int(nGames/float(nPer))+1,:]\n",
    "    avgs = np.mean(outcomeRows,axis=1)\n",
    "    # First plot\n",
    "    plt.subplot(3,1,1)\n",
    "    xs = np.linspace(nPer,nGames,len(avgs))\n",
    "    plt.plot(xs, avgs)\n",
    "    plt.xlabel('Games')\n",
    "    plt.ylabel('Mean of Steps')\n",
    "    plt.title('Steps to goal with bins of {:d} Games'.format(nPer))\n",
    "    # Second plot\n",
    "    plt.subplot(3,1,2)\n",
    "    plt.plot(epsilons[:nGames])\n",
    "    plt.ylabel('$\\epsilon$')\n",
    "    # Third plot\n",
    "    plt.subplot(3,1,3)\n",
    "    tempDiffVals = list(Q.values())\n",
    "    plt.hist(tempDiffVals, bins=np.arange(min(tempDiffVals), max(tempDiffVals) + 1, 1), rwidth=0.9)\n",
    "    plt.title('Temporal difference values in Q histogram'.format(nPer))"
   ]
  },
  {
   "cell_type": "code",
   "execution_count": 233,
   "metadata": {},
   "outputs": [
    {
     "name": "stdout",
     "output_type": "stream",
     "text": [
      "lowest steps `7.0` found `31` times\n"
     ]
    },
    {
     "data": {
      "image/png": "[encoded data removed]",
      "text/plain": [
       "<matplotlib.figure.Figure at 0x111bc3588>"
      ]
     },
     "metadata": {},
     "output_type": "display_data"
    }
   ],
   "source": [
    "# Visualize\n",
    "nRepetitions = 50\n",
    "learningRate = 0.5\n",
    "epsilon = 1.0\n",
    "epsilonDecayFactor = 0.7\n",
    "\n",
    "Q, stepsToGoal = trainQ(nRepetitions, learningRate, epsilonDecayFactor, validMoves, makeMove)\n",
    "\n",
    "# Get basic step info\n",
    "minSteps = min(stepsToGoal)\n",
    "times = sum(stepsToGoal == minSteps)\n",
    "print('lowest steps `{}` found `{}` times'.format(minSteps, times))\n",
    "# Plot steps and epsilons\n",
    "plt.figure(figsize=(12,12))\n",
    "plotResult(Q, stepsToGoal, epsilonDecayFactor, nRepetitions)"
   ]
  },
  {
   "cell_type": "markdown",
   "metadata": {},
   "source": [
    "## Grading"
   ]
  },
  {
   "cell_type": "markdown",
   "metadata": {
    "collapsed": true
   },
   "source": [
    "Download and extract `A5grader.py` from [A5grader.tar](http://www.cs.colostate.edu/~anderson/cs440/notebooks/A5grader.tar)."
   ]
  },
  {
   "cell_type": "code",
   "execution_count": 234,
   "metadata": {},
   "outputs": [
    {
     "name": "stdout",
     "output_type": "stream",
     "text": [
      "\n",
      "Testing validMoves([[1], [2], [3]])\n",
      "\n",
      "--- 10/10 points. Correctly returned [[1, 2], [1, 3], [2, 3]]\n",
      "\n",
      "Testing validMoves([[], [], [1, 2, 3]])\n",
      "\n",
      "--- 10/10 points. Correctly returned [[3, 1], [3, 2]]\n",
      "\n",
      "Testing makeMove([[], [], [1, 2, 3]], [3, 2])\n",
      "\n",
      "--- 10/10 points. Correctly returned [[], [1], [2, 3]]\n",
      "\n",
      "Testing makeMove([[2], [3], [1]], [1, 2])\n",
      "\n",
      "--- 10/10 points. Correctly returned [[], [2, 3], [1]]\n",
      "\n",
      "Testing   Q, steps = trainQ(1000, 0.5, 0.7, validMoves, makeMove).\n",
      "\n",
      "--- 10/10 points. Q dictionary has correct number of entries.\n",
      "\n",
      "--- 10/10 points. The mean of the number of steps is 7.47 which is correct.\n",
      "\n",
      "Testing   path = testQ(Q, 20, validMoves, makeMove).\n",
      "\n",
      "--- 20/20 points. Correctly returns path of length 8, less than 10.\n",
      "\n",
      "A5 Execution Grade is 80/80\n",
      "\n",
      " Remaining 20 points will be based on your text describing the trainQ and test! functions.\n",
      "\n",
      "A5 FINAL GRADE is __/100\n"
     ]
    },
    {
     "data": {
      "text/plain": [
       "<matplotlib.figure.Figure at 0x111abba58>"
      ]
     },
     "metadata": {},
     "output_type": "display_data"
    }
   ],
   "source": [
    "%run -i A5grader.py"
   ]
  },
  {
   "cell_type": "markdown",
   "metadata": {},
   "source": [
    "## Extra Credit"
   ]
  },
  {
   "cell_type": "markdown",
   "metadata": {},
   "source": [
    "Modify your code to solve the Towers of Hanoi puzzle with 4 disks instead of 3.  Name your functions\n",
    "\n",
    "    - printState_4disk\n",
    "    - validMoves_4disk\n",
    "    - makeMove_4disk\n",
    "\n",
    "Find values for number of repetitions, learning rate, and epsilon decay factor for which trainQ learns a Q function that testQ can use to find the shortest solution path.  Include the output from the successful calls to trainQ and testQ."
   ]
  },
  {
   "cell_type": "markdown",
   "metadata": {},
   "source": [
    "My functions for `printState`, `validMoves`, and `makeMove` are generalized to work on any size hanoi puzzle.  But I will define these functions below and just have them return the values for their corresponding functions."
   ]
  },
  {
   "cell_type": "code",
   "execution_count": 235,
   "metadata": {
    "collapsed": true
   },
   "outputs": [],
   "source": [
    "def printState_4disk(state):\n",
    "    printState(state)\n",
    "    \n",
    "def validMoves_4disk(state):\n",
    "    return validMoves(state)\n",
    "\n",
    "def makeMove_4disk(state, move):\n",
    "    return makeMove(state, move)"
   ]
  },
  {
   "cell_type": "markdown",
   "metadata": {},
   "source": [
    "Some testing of these functions"
   ]
  },
  {
   "cell_type": "code",
   "execution_count": 236,
   "metadata": {},
   "outputs": [
    {
     "name": "stdout",
     "output_type": "stream",
     "text": [
      "1    \n",
      "2    \n",
      "3    \n",
      "4    \n",
      "------\n"
     ]
    }
   ],
   "source": [
    "state_4disk = [[1, 2, 3, 4], [], []]\n",
    "printState_4disk(state_4disk)"
   ]
  },
  {
   "cell_type": "code",
   "execution_count": 237,
   "metadata": {},
   "outputs": [
    {
     "data": {
      "text/plain": [
       "(((1, 2, 3, 4), (), ()), (1, 2))"
      ]
     },
     "execution_count": 237,
     "metadata": {},
     "output_type": "execute_result"
    }
   ],
   "source": [
    "move = [1, 2]\n",
    "\n",
    "stateMoveTuple(state_4disk, move)"
   ]
  },
  {
   "cell_type": "code",
   "execution_count": 238,
   "metadata": {},
   "outputs": [
    {
     "name": "stdout",
     "output_type": "stream",
     "text": [
      "2    \n",
      "3    \n",
      "4 1  \n",
      "------\n"
     ]
    }
   ],
   "source": [
    "newstate = makeMove_4disk(state_4disk, move)\n",
    "printState_4disk(newstate)"
   ]
  },
  {
   "cell_type": "code",
   "execution_count": 239,
   "metadata": {},
   "outputs": [
    {
     "name": "stdout",
     "output_type": "stream",
     "text": [
      "3    \n",
      "4 1 2\n",
      "------\n"
     ]
    }
   ],
   "source": [
    "newstate = makeMove_4disk(newstate, [1,3])\n",
    "printState_4disk(newstate)"
   ]
  },
  {
   "cell_type": "code",
   "execution_count": 240,
   "metadata": {},
   "outputs": [
    {
     "data": {
      "text/plain": [
       "[[2, 1], [2, 3], [3, 1]]"
      ]
     },
     "execution_count": 240,
     "metadata": {},
     "output_type": "execute_result"
    }
   ],
   "source": [
    "validMoves_4disk(newstate)"
   ]
  },
  {
   "cell_type": "markdown",
   "metadata": {},
   "source": [
    "### Add pegs"
   ]
  },
  {
   "cell_type": "markdown",
   "metadata": {},
   "source": [
    "My functions have been generalized extend to multiple pegs as well"
   ]
  },
  {
   "cell_type": "code",
   "execution_count": 241,
   "metadata": {},
   "outputs": [
    {
     "name": "stdout",
     "output_type": "stream",
     "text": [
      "1      \n",
      "2      \n",
      "3      \n",
      "4      \n",
      "------\n"
     ]
    },
    {
     "data": {
      "text/plain": [
       "(((1, 2, 3, 4), (), (), ()), (1, 4))"
      ]
     },
     "execution_count": 241,
     "metadata": {},
     "output_type": "execute_result"
    }
   ],
   "source": [
    "# 4 disks 4 pegs\n",
    "prong4 = [[1, 2, 3, 4], [], [], []]\n",
    "move = [1,4]\n",
    "printState(prong4)\n",
    "stateMoveTuple(prong4, move)"
   ]
  },
  {
   "cell_type": "code",
   "execution_count": 242,
   "metadata": {},
   "outputs": [
    {
     "name": "stdout",
     "output_type": "stream",
     "text": [
      "2      \n",
      "3      \n",
      "4     1\n",
      "------\n",
      "[[2, 3, 4], [], [], [1]]\n"
     ]
    }
   ],
   "source": [
    "newstate = makeMove(prong4, move)\n",
    "printState(newstate)\n",
    "print(newstate)"
   ]
  },
  {
   "cell_type": "code",
   "execution_count": 243,
   "metadata": {},
   "outputs": [
    {
     "name": "stdout",
     "output_type": "stream",
     "text": [
      "[[1, 2], [1, 3], [4, 1], [4, 2], [4, 3]]\n"
     ]
    }
   ],
   "source": [
    "print(validMoves(newstate))"
   ]
  },
  {
   "cell_type": "code",
   "execution_count": 244,
   "metadata": {},
   "outputs": [
    {
     "name": "stdout",
     "output_type": "stream",
     "text": [
      "True\n"
     ]
    }
   ],
   "source": [
    "prong4Win = [[], [], [], [1, 2, 3, 4]]\n",
    "print(winner(prong4Win))"
   ]
  },
  {
   "cell_type": "markdown",
   "metadata": {},
   "source": [
    "### Apply to more disks"
   ]
  },
  {
   "cell_type": "markdown",
   "metadata": {},
   "source": [
    "[This website](http://hanoi.aimary.com/index_en.php) provided values for minimum number of steps it takes to solve different Hanoi puzzles:\n",
    "\n",
    "    - 3 Disks: 7\n",
    "    - 4 Disks: 15\n",
    "    - 5 Disks: 31\n",
    "    - 6 Disks: 63\n",
    "    - 7 Disks: 127\n",
    "    - 8 Disks: 255"
   ]
  },
  {
   "cell_type": "markdown",
   "metadata": {},
   "source": [
    "#### 4 DISK"
   ]
  },
  {
   "cell_type": "code",
   "execution_count": 259,
   "metadata": {
    "scrolled": true
   },
   "outputs": [
    {
     "name": "stdout",
     "output_type": "stream",
     "text": [
      "[ 965.   89.  146.  229.   81.   30.  224.   81.  177.   72.  198.   32.\n",
      "   64.   87.   53.   33.  130.   49.  140.   32.   40.  118.   51.   22.\n",
      "   79.   49.  133.   27.   41.   19.   69.   34.   38.   17.   20.   29.\n",
      "   89.   70.   24.   29.   15.   17.   27.  126.   17.   21.   17.   17.\n",
      "   16.   37.   15.   17.   23.   15.   30.   15.   88.   15.   16.   15.\n",
      "   15.   15.   15.   15.   15.   15.   15.   15.   15.   15.   15.   15.\n",
      "   15.   15.   15.   15.   15.   15.   15.   15.   15.   15.   15.   15.\n",
      "   15.   15.   15.   15.   15.   15.   15.   15.   15.   15.   15.   15.\n",
      "   15.   15.   15.   15.]\n",
      "lowest steps `15.0` found `46` times\n",
      "1    \n",
      "2    \n",
      "3    \n",
      "4    \n",
      "------\n",
      "\n",
      "2    \n",
      "3    \n",
      "4 1  \n",
      "------\n",
      "\n",
      "3    \n",
      "4 1 2\n",
      "------\n",
      "\n",
      "3   1\n",
      "4   2\n",
      "------\n",
      "\n",
      "    1\n",
      "4 3 2\n",
      "------\n",
      "\n",
      "1    \n",
      "4 3 2\n",
      "------\n",
      "\n",
      "1 2  \n",
      "4 3  \n",
      "------\n",
      "\n",
      "  1  \n",
      "  2  \n",
      "4 3  \n",
      "------\n",
      "\n",
      "  1  \n",
      "  2  \n",
      "  3 4\n",
      "------\n",
      "\n",
      "  2 1\n",
      "  3 4\n",
      "------\n",
      "\n",
      "    1\n",
      "2 3 4\n",
      "------\n",
      "\n",
      "1    \n",
      "2 3 4\n",
      "------\n",
      "\n",
      "1   3\n",
      "2   4\n",
      "------\n",
      "\n",
      "    3\n",
      "2 1 4\n",
      "------\n",
      "\n",
      "    2\n",
      "    3\n",
      "  1 4\n",
      "------\n",
      "\n",
      "    1\n",
      "    2\n",
      "    3\n",
      "    4\n",
      "------\n",
      "\n",
      "It took 15 steps to win this puzzle\n"
     ]
    }
   ],
   "source": [
    "# 4 DISK SOLUTION SHOULD BE 15\n",
    "nRepetitions = 100\n",
    "learningRate = 0.5\n",
    "epsilonDecayFactor = 0.7\n",
    "\n",
    "Q, stepsToGoal = trainQ(nRepetitions, learningRate, epsilonDecayFactor, validMoves, makeMove, numRings = 4)\n",
    "print(stepsToGoal)\n",
    "minSteps = min(stepsToGoal)\n",
    "times = sum(stepsToGoal == minSteps)\n",
    "print('lowest steps `{}` found `{}` times'.format(minSteps, times))\n",
    "\n",
    "# Test test\n",
    "path = testQ(Q, 100, validMoves, makeMove, numRings = 4)\n",
    "for s in path:\n",
    "    printState(s)\n",
    "    print()\n",
    "print('It took {} steps to win this puzzle'.format(len(path)-1))"
   ]
  },
  {
   "cell_type": "code",
   "execution_count": 260,
   "metadata": {},
   "outputs": [
    {
     "name": "stdout",
     "output_type": "stream",
     "text": [
      "lowest steps `15.0` found `46` times\n",
      "It took 15 steps to win this puzzle\n"
     ]
    },
    {
     "data": {
      "image/png": "[encoded data removed]",
      "text/plain": [
       "<matplotlib.figure.Figure at 0x111ba9b70>"
      ]
     },
     "metadata": {},
     "output_type": "display_data"
    }
   ],
   "source": [
    "# Visualize\n",
    "\n",
    "# Get basic step info\n",
    "minSteps = min(stepsToGoal)\n",
    "times = sum(stepsToGoal == minSteps)\n",
    "print('lowest steps `{}` found `{}` times'.format(minSteps, times))\n",
    "print('It took {} steps to win this puzzle'.format(len(path)-1))\n",
    "\n",
    "# Plot steps and epsilons\n",
    "plt.figure(figsize=(12,12))\n",
    "plotResult(Q, stepsToGoal, epsilonDecayFactor, nRepetitions)"
   ]
  },
  {
   "cell_type": "markdown",
   "metadata": {},
   "source": [
    "#### 5 DISK"
   ]
  },
  {
   "cell_type": "code",
   "execution_count": 263,
   "metadata": {},
   "outputs": [
    {
     "name": "stdout",
     "output_type": "stream",
     "text": [
      "[ 2851.  2844.  1886.   730.   641.   281.   181.   773.   935.   393.\n",
      "   314.   232.   183.   237.   269.   359.   733.   314.   216.   143.\n",
      "   241.   517.   119.   284.   199.   204.   148.   587.   318.   505.\n",
      "   102.   273.   106.   291.   165.   311.   112.   450.   109.   435.\n",
      "    87.   171.   104.   142.   128.   365.    68.   263.   257.   172.\n",
      "   116.   449.   113.   279.    63.   121.   108.   138.    62.   325.\n",
      "   133.    66.   278.   118.   306.   191.    74.    98.   304.    73.\n",
      "   155.   107.   185.    75.   304.    66.   228.    51.   122.    62.\n",
      "    72.    78.   281.    50.   123.    70.    74.   198.   231.    78.\n",
      "    74.   346.    65.   101.   188.    35.   152.    62.    61.   212.\n",
      "   111.    34.    68.    55.    60.   126.   231.    52.    43.   152.\n",
      "    49.    57.   124.   244.    43.    93.    38.    35.    48.    50.\n",
      "   167.    59.    43.    35.    76.   269.    47.   112.    35.    38.\n",
      "    60.    41.   218.    45.    39.    59.    64.    33.    34.   102.\n",
      "    82.    42.    47.    31.   127.    40.    35.   177.    33.    38.\n",
      "    56.    31.    86.    36.    33.   100.    48.    33.    33.    31.\n",
      "    35.   132.    32.    31.    32.    31.    56.    31.    33.    35.\n",
      "    31.    31.    31.    31.    31.    31.    31.   222.    31.    31.\n",
      "    31.    31.    31.    31.    31.    31.    31.    31.    31.    31.\n",
      "    31.    31.    31.    31.    31.    31.    31.    31.    31.    31.\n",
      "    31.    31.    31.    31.    31.    31.    31.    31.    31.    31.\n",
      "    31.    31.    31.    31.    31.    31.    31.    31.    31.    31.\n",
      "    31.    31.    31.    31.    31.    31.    31.    31.    31.    31.\n",
      "    31.    31.    31.    31.    31.    31.    31.    31.    31.    31.\n",
      "    31.    31.    31.    31.    31.    31.    31.    31.    31.    31.\n",
      "    31.    31.    31.    31.    31.    31.    31.    31.    31.    31.\n",
      "    31.    31.    31.    31.    31.    31.    31.    31.    31.    31.\n",
      "    31.    31.    31.    31.    31.    31.    31.    31.    31.    31.\n",
      "    31.    31.    31.    31.    31.    31.    31.    31.    31.    31.\n",
      "    31.    31.    31.    31.    31.    31.    31.    31.    31.]\n",
      "lowest steps `31.0` found `134` times\n",
      "1    \n",
      "2    \n",
      "3    \n",
      "4    \n",
      "5    \n",
      "------\n",
      "\n",
      "2    \n",
      "3    \n",
      "4    \n",
      "5   1\n",
      "------\n",
      "\n",
      "3    \n",
      "4    \n",
      "5 2 1\n",
      "------\n",
      "\n",
      "3    \n",
      "4 1  \n",
      "5 2  \n",
      "------\n",
      "\n",
      "4 1  \n",
      "5 2 3\n",
      "------\n",
      "\n",
      "1    \n",
      "4    \n",
      "5 2 3\n",
      "------\n",
      "\n",
      "1    \n",
      "4   2\n",
      "5   3\n",
      "------\n",
      "\n",
      "    1\n",
      "4   2\n",
      "5   3\n",
      "------\n",
      "\n",
      "    1\n",
      "    2\n",
      "5 4 3\n",
      "------\n",
      "\n",
      "  1 2\n",
      "5 4 3\n",
      "------\n",
      "\n",
      "2 1  \n",
      "5 4 3\n",
      "------\n",
      "\n",
      "1    \n",
      "2    \n",
      "5 4 3\n",
      "------\n",
      "\n",
      "1    \n",
      "2 3  \n",
      "5 4  \n",
      "------\n",
      "\n",
      "2 3  \n",
      "5 4 1\n",
      "------\n",
      "\n",
      "  2  \n",
      "  3  \n",
      "5 4 1\n",
      "------\n",
      "\n",
      "  1  \n",
      "  2  \n",
      "  3  \n",
      "5 4  \n",
      "------\n",
      "\n",
      "  1  \n",
      "  2  \n",
      "  3  \n",
      "  4 5\n",
      "------\n",
      "\n",
      "  2  \n",
      "  3  \n",
      "1 4 5\n",
      "------\n",
      "\n",
      "  3 2\n",
      "1 4 5\n",
      "------\n",
      "\n",
      "    1\n",
      "  3 2\n",
      "  4 5\n",
      "------\n",
      "\n",
      "    1\n",
      "    2\n",
      "3 4 5\n",
      "------\n",
      "\n",
      "  1 2\n",
      "3 4 5\n",
      "------\n",
      "\n",
      "2 1  \n",
      "3 4 5\n",
      "------\n",
      "\n",
      "1    \n",
      "2    \n",
      "3 4 5\n",
      "------\n",
      "\n",
      "1    \n",
      "2   4\n",
      "3   5\n",
      "------\n",
      "\n",
      "    1\n",
      "2   4\n",
      "3   5\n",
      "------\n",
      "\n",
      "    1\n",
      "    4\n",
      "3 2 5\n",
      "------\n",
      "\n",
      "  1 4\n",
      "3 2 5\n",
      "------\n",
      "\n",
      "    3\n",
      "  1 4\n",
      "  2 5\n",
      "------\n",
      "\n",
      "    3\n",
      "    4\n",
      "1 2 5\n",
      "------\n",
      "\n",
      "    2\n",
      "    3\n",
      "    4\n",
      "1   5\n",
      "------\n",
      "\n",
      "    1\n",
      "    2\n",
      "    3\n",
      "    4\n",
      "    5\n",
      "------\n",
      "\n",
      "It took 31 steps to win this puzzle\n"
     ]
    }
   ],
   "source": [
    "# 5 DISK SOLUTION SHOULD BE 31\n",
    "nRepetitions = 299\n",
    "learningRate = 0.4\n",
    "epsilonDecayFactor = 0.8\n",
    "\n",
    "Q, stepsToGoal = trainQ(nRepetitions, learningRate, epsilonDecayFactor, validMoves, makeMove, numRings = 5) # CHANGED TO 150 REPS\n",
    "print(stepsToGoal)\n",
    "minSteps = min(stepsToGoal)\n",
    "times = sum(stepsToGoal == minSteps)\n",
    "print('lowest steps `{}` found `{}` times'.format(minSteps, times))\n",
    "\n",
    "# Test test\n",
    "path = testQ(Q, 100, validMoves, makeMove, numRings = 5)\n",
    "for s in path:\n",
    "    printState(s)\n",
    "    print()\n",
    "print('It took {} steps to win this puzzle'.format(len(path)-1))"
   ]
  },
  {
   "cell_type": "code",
   "execution_count": 264,
   "metadata": {},
   "outputs": [
    {
     "name": "stdout",
     "output_type": "stream",
     "text": [
      "lowest steps `31.0` found `134` times\n",
      "It took 31 steps to win this puzzle\n"
     ]
    },
    {
     "data": {
      "image/png": "[encoded data removed]",
      "text/plain": [
       "<matplotlib.figure.Figure at 0x1132f4780>"
      ]
     },
     "metadata": {},
     "output_type": "display_data"
    }
   ],
   "source": [
    "# Visualize\n",
    "# Get basic step info\n",
    "minSteps = min(stepsToGoal)\n",
    "times = sum(stepsToGoal == minSteps)\n",
    "print('lowest steps `{}` found `{}` times'.format(minSteps, times))\n",
    "print('It took {} steps to win this puzzle'.format(len(path)-1))\n",
    "\n",
    "# Plot steps and epsilons\n",
    "plt.figure(figsize=(12,12))\n",
    "plotResult(Q, stepsToGoal, epsilonDecayFactor, nRepetitions)"
   ]
  },
  {
   "cell_type": "markdown",
   "metadata": {},
   "source": [
    "#### 6 DISK"
   ]
  },
  {
   "cell_type": "code",
   "execution_count": 271,
   "metadata": {
    "scrolled": true
   },
   "outputs": [
    {
     "name": "stdout",
     "output_type": "stream",
     "text": [
      "First 10 attempts [ 11546.   3207.   6224.   2912.  10130.   1643.   2906.   2897.   2147.\n",
      "   2191.]\n",
      "Last 10 attempts [ 63.  63.  63.  63.  63.  63.  63.  63.]\n",
      "lowest steps `63.0` found `174` times\n",
      "[[2], [1], [3, 4, 5, 6]]\n",
      "[[], [1], [2, 3, 4, 5, 6]]\n",
      "[[], [], [1, 2, 3, 4, 5, 6]]\n",
      "It took 63 steps to win this puzzle\n"
     ]
    }
   ],
   "source": [
    "# 6 DISK SOLUTION SHOULD BE 63\n",
    "nRepetitions = 500\n",
    "learningRate = 0.5\n",
    "epsilonDecayFactor = 0.9\n",
    "\n",
    "Q, stepsToGoal = trainQ(nRepetitions, learningRate, epsilonDecayFactor, validMoves, makeMove, numRings = 6) # CHANGED TO 500 REPS\n",
    "# print(stepsToGoal)\n",
    "print('First 10 attempts', stepsToGoal[0:10])\n",
    "print('Last 10 attempts', stepsToGoal[-9:-1])\n",
    "minSteps = min(stepsToGoal)\n",
    "times = sum(stepsToGoal == minSteps)\n",
    "print('lowest steps `{}` found `{}` times'.format(minSteps, times))\n",
    "\n",
    "# Test test\n",
    "path = testQ(Q, 100, validMoves, makeMove, numRings = 6)\n",
    "print(path[-3])\n",
    "print(path[-2])\n",
    "print(path[-1])\n",
    "print('It took {} steps to win this puzzle'.format(len(path)-1))"
   ]
  },
  {
   "cell_type": "code",
   "execution_count": 272,
   "metadata": {},
   "outputs": [
    {
     "name": "stdout",
     "output_type": "stream",
     "text": [
      "lowest steps `63.0` found `174` times\n",
      "It took 63 steps to win this puzzle\n"
     ]
    },
    {
     "data": {
      "image/png": "[encoded data removed]",
      "text/plain": [
       "<matplotlib.figure.Figure at 0x112528208>"
      ]
     },
     "metadata": {},
     "output_type": "display_data"
    }
   ],
   "source": [
    "# Visualize\n",
    "# Get basic step info\n",
    "minSteps = min(stepsToGoal)\n",
    "times = sum(stepsToGoal == minSteps)\n",
    "print('lowest steps `{}` found `{}` times'.format(minSteps, times))\n",
    "print('It took {} steps to win this puzzle'.format(len(path)-1))\n",
    "\n",
    "# Plot steps and epsilons\n",
    "plt.figure(figsize=(12,12))\n",
    "plotResult(Q, stepsToGoal, epsilonDecayFactor, nRepetitions)"
   ]
  },
  {
   "cell_type": "markdown",
   "metadata": {},
   "source": [
    "#### 7 DISK"
   ]
  },
  {
   "cell_type": "code",
   "execution_count": 295,
   "metadata": {
    "scrolled": true
   },
   "outputs": [
    {
     "name": "stdout",
     "output_type": "stream",
     "text": [
      "First 10 attempts [ 145902.   73727.   55404.   69775.   34486.  106139.   22801.    7875.\n",
      "   18451.   20058.]\n",
      "Last 10 attempts [ 129.  129.  129.  129.  129.  129.  129.  129.  129.  129.]\n",
      "lowest steps `128.0` found `1` times\n",
      "[[1], [2], [3, 4, 5, 6, 7]]\n",
      "[[1], [], [2, 3, 4, 5, 6, 7]]\n",
      "[[], [], [1, 2, 3, 4, 5, 6, 7]]\n",
      "It took 129 steps to win this puzzle\n"
     ]
    }
   ],
   "source": [
    "# 7 DISK SOLUTION SHOULD BE 127\n",
    "nRepetitions = 1200 # CHANGED TO 800 REPS\n",
    "learningRate = 0.5\n",
    "epsilonDecayFactor = 0.99\n",
    "\n",
    "Q, stepsToGoal = trainQ(nRepetitions, learningRate, epsilonDecayFactor, \n",
    "                        validMoves, makeMove, numRings = 7) # CHANGED TO 500 REPS\n",
    "print('First 10 attempts', stepsToGoal[:10])\n",
    "print('Last 10 attempts', stepsToGoal[-10:])\n",
    "minSteps = min(stepsToGoal)\n",
    "times = sum(stepsToGoal == minSteps)\n",
    "print('lowest steps `{}` found `{}` times'.format(minSteps, times))\n",
    "\n",
    "# Test test\n",
    "path = testQ(Q, 200, validMoves, makeMove, numRings = 7) # CHANGED TO 200 MAX STEPS\n",
    "print(path[-3])\n",
    "print(path[-2])\n",
    "print(path[-1])\n",
    "print('It took {} steps to win this puzzle'.format(len(path)-1))"
   ]
  },
  {
   "cell_type": "code",
   "execution_count": 296,
   "metadata": {},
   "outputs": [
    {
     "name": "stdout",
     "output_type": "stream",
     "text": [
      "lowest steps `128.0` found `1` times\n",
      "It took 129 steps to win this puzzle\n"
     ]
    },
    {
     "data": {
      "image/png": "[encoded data removed]",
      "text/plain": [
       "<matplotlib.figure.Figure at 0x14adca2e8>"
      ]
     },
     "metadata": {},
     "output_type": "display_data"
    }
   ],
   "source": [
    "# Visualize\n",
    "# Get basic step info\n",
    "minSteps = min(stepsToGoal)\n",
    "times = sum(stepsToGoal == minSteps)\n",
    "print('lowest steps `{}` found `{}` times'.format(minSteps, times))\n",
    "print('It took {} steps to win this puzzle'.format(len(path)-1))\n",
    "\n",
    "# Plot steps and epsilons\n",
    "plt.figure(figsize=(12,12))\n",
    "plotResult(Q, stepsToGoal, epsilonDecayFactor, nRepetitions)"
   ]
  },
  {
   "cell_type": "markdown",
   "metadata": {},
   "source": [
    "Output from a succesful run of 7 disks is saved below"
   ]
  },
  {
   "cell_type": "code",
   "execution_count": null,
   "metadata": {
    "collapsed": true
   },
   "outputs": [],
   "source": [
    "# Q, stepsToGoal = trainQ(800, 0.5, 0.7, validMoves, makeMove, numRings = 7) # CHANGED TO 800 REPS\n",
    "\n",
    "# Outcomes: 800 X wins 0 O wins 0 draws\n",
    "# First 10 attempts [ 35007.  27656.  10853.   5413.   5480.  13995.   4199.  10072.   2683.\n",
    "#    7562.]\n",
    "# Last 10 attempts [ 127.  499.  127.  180.  127.  127.  232.  127.  129.  127.]\n",
    "# lowest steps `127.0` found `10` times\n",
    "# [[1], [2], [3, 4, 5, 6, 7]]\n",
    "# [[1], [], [2, 3, 4, 5, 6, 7]]\n",
    "# [[], [], [1, 2, 3, 4, 5, 6, 7]]\n",
    "# It took 127 steps to win this puzzle"
   ]
  },
  {
   "cell_type": "markdown",
   "metadata": {},
   "source": [
    "#### 8 DISK\n",
    "\n",
    "**This example takes way too long so it is commented out but the output from one run should still be here**"
   ]
  },
  {
   "cell_type": "code",
   "execution_count": 19,
   "metadata": {},
   "outputs": [
    {
     "name": "stdout",
     "output_type": "stream",
     "text": [
      "Outcomes: 4000 X wins 0 O wins 0 draws\n",
      "[  1.61501000e+05   5.38960000e+05   8.87920000e+04 ...,   2.66000000e+02\n",
      "   2.87000000e+02   2.72000000e+02]\n",
      "lowest steps `255.0` found `2` times\n",
      "[[2], [1], [3, 4, 5, 6, 7, 8]]\n",
      "[[], [1], [2, 3, 4, 5, 6, 7, 8]]\n",
      "[[], [], [1, 2, 3, 4, 5, 6, 7, 8]]\n",
      "It took 257 steps to win this puzzle\n"
     ]
    }
   ],
   "source": [
    "# 8 DISK SOLUTION SHOULD BE 255\n",
    "Q, stepsToGoal = trainQ(4000, 0.35, 0.999, validMoves, makeMove, numRings=8)\n",
    "print(stepsToGoal)\n",
    "minSteps = min(stepsToGoal)\n",
    "times = sum(stepsToGoal == minSteps)\n",
    "print('lowest steps `{}` found `{}` times'.format(minSteps, times))\n",
    "# for elm in Q:\n",
    "#     print(elm, '-->', Q.get(elm))\n",
    "\n",
    "# Test\n",
    "path = testQ(Q, 300, validMoves, makeMove, numRings=8)  # CHANGED TO 300 MAX STEPS\n",
    "print(path[-3])\n",
    "print(path[-2])\n",
    "print(path[-1])\n",
    "print('It took {} steps to win this puzzle'.format(len(path) - 1))"
   ]
  },
  {
   "cell_type": "markdown",
   "metadata": {},
   "source": [
    "**The ouptut from the 8 disk run if it doesnt save**"
   ]
  },
  {
   "cell_type": "code",
   "execution_count": null,
   "metadata": {
    "collapsed": true
   },
   "outputs": [],
   "source": [
    "# Outcomes: 4000 X wins 0 O wins 0 draws\n",
    "# [  1.61501000e+05   5.38960000e+05   8.87920000e+04 ...,   2.66000000e+02\n",
    "#    2.87000000e+02   2.72000000e+02]\n",
    "# lowest steps `255.0` found `2` times\n",
    "# [[2], [1], [3, 4, 5, 6, 7, 8]]\n",
    "# [[], [1], [2, 3, 4, 5, 6, 7, 8]]\n",
    "# [[], [], [1, 2, 3, 4, 5, 6, 7, 8]]\n",
    "# It took 257 steps to win this puzzle"
   ]
  },
  {
   "cell_type": "markdown",
   "metadata": {},
   "source": [
    "## Try 5 disks with 4 prongs"
   ]
  },
  {
   "cell_type": "code",
   "execution_count": 288,
   "metadata": {},
   "outputs": [
    {
     "name": "stdout",
     "output_type": "stream",
     "text": [
      "First 10 attempts [ 7570.   475.  4008.  1271.  2230.  1689.  2449.  2005.   742.   447.]\n",
      "Last 10 attempts [ 13.  13.  13.  13.  13.  13.  13.  13.]\n",
      "lowest steps `13.0` found `178` times\n",
      "[[1], [], [2], [3, 4, 5]]\n",
      "[[1], [], [], [2, 3, 4, 5]]\n",
      "[[], [], [], [1, 2, 3, 4, 5]]\n",
      "It took 13 steps to win this puzzle\n"
     ]
    }
   ],
   "source": [
    "# 6 DISK 4 PRONG SOLUTION SHOULD BE ???????\n",
    "nRepetitions = 600\n",
    "learningRate = 0.5\n",
    "epsilonDecayFactor = 0.9\n",
    "\n",
    "Q, stepsToGoal = trainQ(nRepetitions, learningRate, \n",
    "                        epsilonDecayFactor, validMoves, makeMove, numRings = 5, numProngs = 4)\n",
    "# print(stepsToGoal)\n",
    "print('First 10 attempts', stepsToGoal[0:10])\n",
    "print('Last 10 attempts', stepsToGoal[-9:-1])\n",
    "minSteps = min(stepsToGoal)\n",
    "times = sum(stepsToGoal == minSteps)\n",
    "print('lowest steps `{}` found `{}` times'.format(minSteps, times))\n",
    "\n",
    "# Test test\n",
    "path = testQ(Q, 300, validMoves, makeMove, numRings = 5, numProngs = 4)\n",
    "print(path[-3])\n",
    "print(path[-2])\n",
    "print(path[-1])\n",
    "print('It took {} steps to win this puzzle'.format(len(path)-1))"
   ]
  },
  {
   "cell_type": "code",
   "execution_count": 289,
   "metadata": {},
   "outputs": [
    {
     "name": "stdout",
     "output_type": "stream",
     "text": [
      "lowest steps `13.0` found `178` times\n",
      "It took 13 steps to win this puzzle\n"
     ]
    },
    {
     "data": {
      "image/png": "[encoded data removed]",
      "text/plain": [
       "<matplotlib.figure.Figure at 0x11334c080>"
      ]
     },
     "metadata": {},
     "output_type": "display_data"
    }
   ],
   "source": [
    "# Visualize\n",
    "# Get basic step info\n",
    "minSteps = min(stepsToGoal)\n",
    "times = sum(stepsToGoal == minSteps)\n",
    "print('lowest steps `{}` found `{}` times'.format(minSteps, times))\n",
    "print('It took {} steps to win this puzzle'.format(len(path)-1))\n",
    "\n",
    "# Plot steps and epsilons\n",
    "plt.figure(figsize=(12,12))\n",
    "plotResult(Q, stepsToGoal, epsilonDecayFactor, nRepetitions)"
   ]
  },
  {
   "cell_type": "markdown",
   "metadata": {},
   "source": [
    "## Try 6 disks with 4 prongs"
   ]
  },
  {
   "cell_type": "code",
   "execution_count": 292,
   "metadata": {},
   "outputs": [
    {
     "name": "stdout",
     "output_type": "stream",
     "text": [
      "First 10 attempts [  1082.  63015.   3267.   4802.   5982.  15571.   2876.  13454.   4903.\n",
      "   5514.]\n",
      "Last 10 attempts [ 17.  17.  17.  17.  17.  17.  17.  17.]\n",
      "lowest steps `17.0` found `191` times\n",
      "[[1], [], [2], [3, 4, 5, 6]]\n",
      "[[1], [], [], [2, 3, 4, 5, 6]]\n",
      "[[], [], [], [1, 2, 3, 4, 5, 6]]\n",
      "It took 17 steps to win this puzzle\n"
     ]
    }
   ],
   "source": [
    "# 6 DISK 4 PRONG SOLUTION SHOULD BE ???????\n",
    "nRepetitions = 800\n",
    "learningRate = 0.5\n",
    "epsilonDecayFactor = 0.99\n",
    "\n",
    "Q, stepsToGoal = trainQ(nRepetitions, learningRate, epsilonDecayFactor, \n",
    "                        validMoves, makeMove, numRings = 6, numProngs = 4)\n",
    "# print(stepsToGoal)\n",
    "print('First 10 attempts', stepsToGoal[0:10])\n",
    "print('Last 10 attempts', stepsToGoal[-9:-1])\n",
    "minSteps = min(stepsToGoal)\n",
    "times = sum(stepsToGoal == minSteps)\n",
    "print('lowest steps `{}` found `{}` times'.format(minSteps, times))\n",
    "\n",
    "# Test test\n",
    "path = testQ(Q, 300, validMoves, makeMove, numRings = 6, numProngs = 4)\n",
    "print(path[-3])\n",
    "print(path[-2])\n",
    "print(path[-1])\n",
    "print('It took {} steps to win this puzzle'.format(len(path)-1))"
   ]
  },
  {
   "cell_type": "code",
   "execution_count": 293,
   "metadata": {},
   "outputs": [
    {
     "name": "stdout",
     "output_type": "stream",
     "text": [
      "lowest steps `17.0` found `191` times\n",
      "It took 17 steps to win this puzzle\n"
     ]
    },
    {
     "data": {
      "image/png": "[encoded data removed]",
      "text/plain": [
       "<matplotlib.figure.Figure at 0x11224d588>"
      ]
     },
     "metadata": {},
     "output_type": "display_data"
    }
   ],
   "source": [
    "# Visualize\n",
    "# Get basic step info\n",
    "minSteps = min(stepsToGoal)\n",
    "times = sum(stepsToGoal == minSteps)\n",
    "print('lowest steps `{}` found `{}` times'.format(minSteps, times))\n",
    "print('It took {} steps to win this puzzle'.format(len(path)-1))\n",
    "\n",
    "# Plot steps and epsilons\n",
    "plt.figure(figsize=(12,12))\n",
    "plotResult(Q, stepsToGoal, epsilonDecayFactor, nRepetitions)"
   ]
  },
  {
   "cell_type": "markdown",
   "metadata": {},
   "source": [
    "## Try 9 disks with 4 prongs"
   ]
  },
  {
   "cell_type": "code",
   "execution_count": 294,
   "metadata": {},
   "outputs": [
    {
     "ename": "KeyboardInterrupt",
     "evalue": "",
     "output_type": "error",
     "traceback": [
      "\u001b[0;31m---------------------------------------------------------------------------\u001b[0m",
      "\u001b[0;31mKeyboardInterrupt\u001b[0m                         Traceback (most recent call last)",
      "\u001b[0;32m/Users/zachgoodenow/Documents/Fall 2017/CS 440/A5/A5grader.py\u001b[0m in \u001b[0;36m<module>\u001b[0;34m()\u001b[0m\n\u001b[1;32m      5\u001b[0m \u001b[0;34m\u001b[0m\u001b[0m\n\u001b[1;32m      6\u001b[0m Q, stepsToGoal = trainQ(nRepetitions, learningRate, epsilonDecayFactor, \n\u001b[0;32m----> 7\u001b[0;31m                         validMoves, makeMove, numRings = 9, numProngs = 4)\n\u001b[0m\u001b[1;32m      8\u001b[0m \u001b[0;31m# print(stepsToGoal)\u001b[0m\u001b[0;34m\u001b[0m\u001b[0;34m\u001b[0m\u001b[0m\n\u001b[1;32m      9\u001b[0m \u001b[0mprint\u001b[0m\u001b[0;34m(\u001b[0m\u001b[0;34m'First 10 attempts'\u001b[0m\u001b[0;34m,\u001b[0m \u001b[0mstepsToGoal\u001b[0m\u001b[0;34m[\u001b[0m\u001b[0;36m0\u001b[0m\u001b[0;34m:\u001b[0m\u001b[0;36m10\u001b[0m\u001b[0;34m]\u001b[0m\u001b[0;34m)\u001b[0m\u001b[0;34m\u001b[0m\u001b[0m\n",
      "\u001b[0;32m/Users/zachgoodenow/Documents/Fall 2017/CS 440/A5/A5grader.py\u001b[0m in \u001b[0;36mtrainQ\u001b[0;34m(nRepetitions, learningRate, epsilonDecayFactor, validMovesF, makeMoveF, numRings, numProngs)\u001b[0m\n\u001b[1;32m     33\u001b[0m \u001b[0;34m\u001b[0m\u001b[0m\n\u001b[1;32m     34\u001b[0m             \u001b[0mstamp\u001b[0m \u001b[0;34m=\u001b[0m \u001b[0mstateMoveTuple\u001b[0m\u001b[0;34m(\u001b[0m\u001b[0mstate\u001b[0m\u001b[0;34m,\u001b[0m \u001b[0mmove\u001b[0m\u001b[0;34m)\u001b[0m \u001b[0;31m# \"Stamp\" the state and move to be key in Q\u001b[0m\u001b[0;34m\u001b[0m\u001b[0m\n\u001b[0;32m---> 35\u001b[0;31m             \u001b[0mnewState\u001b[0m \u001b[0;34m=\u001b[0m \u001b[0mmakeMoveF\u001b[0m\u001b[0;34m(\u001b[0m\u001b[0mstate\u001b[0m\u001b[0;34m,\u001b[0m \u001b[0mmove\u001b[0m\u001b[0;34m)\u001b[0m \u001b[0;31m# Apply the move and save resulting state\u001b[0m\u001b[0;34m\u001b[0m\u001b[0m\n\u001b[0m\u001b[1;32m     36\u001b[0m             \u001b[0mstep\u001b[0m \u001b[0;34m+=\u001b[0m \u001b[0;36m1\u001b[0m\u001b[0;34m\u001b[0m\u001b[0m\n\u001b[1;32m     37\u001b[0m \u001b[0;34m\u001b[0m\u001b[0m\n",
      "\u001b[0;32m/Users/zachgoodenow/Documents/Fall 2017/CS 440/A5/A5grader.py\u001b[0m in \u001b[0;36mmakeMove\u001b[0;34m(state, move)\u001b[0m\n\u001b[1;32m     37\u001b[0m \u001b[0;31m# returns new (copy of) state after move has been applied.\u001b[0m\u001b[0;34m\u001b[0m\u001b[0;34m\u001b[0m\u001b[0m\n\u001b[1;32m     38\u001b[0m \u001b[0;32mdef\u001b[0m \u001b[0mmakeMove\u001b[0m\u001b[0;34m(\u001b[0m\u001b[0mstate\u001b[0m\u001b[0;34m,\u001b[0m \u001b[0mmove\u001b[0m\u001b[0;34m)\u001b[0m\u001b[0;34m:\u001b[0m\u001b[0;34m\u001b[0m\u001b[0m\n\u001b[0;32m---> 39\u001b[0;31m     \u001b[0;32mif\u001b[0m \u001b[0mmove\u001b[0m \u001b[0;32mnot\u001b[0m \u001b[0;32min\u001b[0m \u001b[0mvalidMoves\u001b[0m\u001b[0;34m(\u001b[0m\u001b[0mstate\u001b[0m\u001b[0;34m)\u001b[0m\u001b[0;34m:\u001b[0m\u001b[0;34m\u001b[0m\u001b[0m\n\u001b[0m\u001b[1;32m     40\u001b[0m         \u001b[0;32mraise\u001b[0m \u001b[0mValueError\u001b[0m\u001b[0;34m(\u001b[0m\u001b[0mstr\u001b[0m\u001b[0;34m(\u001b[0m\u001b[0mmove\u001b[0m\u001b[0;34m)\u001b[0m \u001b[0;34m+\u001b[0m \u001b[0;34m' not a valid move for state: '\u001b[0m \u001b[0;34m+\u001b[0m \u001b[0mstr\u001b[0m\u001b[0;34m(\u001b[0m\u001b[0mstate\u001b[0m\u001b[0;34m)\u001b[0m\u001b[0;34m)\u001b[0m\u001b[0;34m\u001b[0m\u001b[0m\n\u001b[1;32m     41\u001b[0m     \u001b[0mstateC\u001b[0m \u001b[0;34m=\u001b[0m \u001b[0mcopy\u001b[0m\u001b[0;34m.\u001b[0m\u001b[0mdeepcopy\u001b[0m\u001b[0;34m(\u001b[0m\u001b[0mstate\u001b[0m\u001b[0;34m)\u001b[0m \u001b[0;31m# Copy state for manipulation\u001b[0m\u001b[0;34m\u001b[0m\u001b[0m\n",
      "\u001b[0;32m/Users/zachgoodenow/Documents/Fall 2017/CS 440/A5/A5grader.py\u001b[0m in \u001b[0;36mvalidMoves\u001b[0;34m(state)\u001b[0m\n\u001b[1;32m     25\u001b[0m     \u001b[0mtop\u001b[0m \u001b[0;34m=\u001b[0m \u001b[0;34m[\u001b[0m\u001b[0;34m]\u001b[0m\u001b[0;34m\u001b[0m\u001b[0m\n\u001b[1;32m     26\u001b[0m     \u001b[0;32mfor\u001b[0m \u001b[0ms\u001b[0m \u001b[0;32min\u001b[0m \u001b[0mstate\u001b[0m\u001b[0;34m:\u001b[0m\u001b[0;34m\u001b[0m\u001b[0m\n\u001b[0;32m---> 27\u001b[0;31m         \u001b[0mtop\u001b[0m\u001b[0;34m.\u001b[0m\u001b[0mappend\u001b[0m\u001b[0;34m(\u001b[0m\u001b[0ms\u001b[0m\u001b[0;34m[\u001b[0m\u001b[0;36m0\u001b[0m\u001b[0;34m]\u001b[0m \u001b[0;32mif\u001b[0m \u001b[0ms\u001b[0m \u001b[0;34m!=\u001b[0m \u001b[0;34m[\u001b[0m\u001b[0;34m]\u001b[0m \u001b[0;32melse\u001b[0m \u001b[0mfloat\u001b[0m\u001b[0;34m(\u001b[0m\u001b[0;34m'inf'\u001b[0m\u001b[0;34m)\u001b[0m\u001b[0;34m)\u001b[0m \u001b[0;31m# Mark empty pegs as inf\u001b[0m\u001b[0;34m\u001b[0m\u001b[0m\n\u001b[0m\u001b[1;32m     28\u001b[0m     \u001b[0mtop\u001b[0m \u001b[0;34m=\u001b[0m \u001b[0;34m[\u001b[0m\u001b[0;34m(\u001b[0m\u001b[0men\u001b[0m\u001b[0;34m[\u001b[0m\u001b[0;36m0\u001b[0m\u001b[0;34m]\u001b[0m\u001b[0;34m+\u001b[0m\u001b[0;36m1\u001b[0m\u001b[0;34m,\u001b[0m \u001b[0men\u001b[0m\u001b[0;34m[\u001b[0m\u001b[0;36m1\u001b[0m\u001b[0;34m]\u001b[0m\u001b[0;34m)\u001b[0m \u001b[0;32mfor\u001b[0m \u001b[0men\u001b[0m \u001b[0;32min\u001b[0m \u001b[0menumerate\u001b[0m\u001b[0;34m(\u001b[0m\u001b[0mtop\u001b[0m\u001b[0;34m)\u001b[0m\u001b[0;34m]\u001b[0m\u001b[0;34m\u001b[0m\u001b[0m\n\u001b[1;32m     29\u001b[0m     \u001b[0;32mfor\u001b[0m \u001b[0mf\u001b[0m \u001b[0;32min\u001b[0m \u001b[0mtop\u001b[0m\u001b[0;34m:\u001b[0m\u001b[0;34m\u001b[0m\u001b[0m\n",
      "\u001b[0;31mKeyboardInterrupt\u001b[0m: "
     ]
    }
   ],
   "source": [
    "# 6 DISK 4 PRONG SOLUTION SHOULD BE ???????\n",
    "nRepetitions = 1000\n",
    "learningRate = 0.5\n",
    "epsilonDecayFactor = 0.99\n",
    "\n",
    "Q, stepsToGoal = trainQ(nRepetitions, learningRate, epsilonDecayFactor, \n",
    "                        validMoves, makeMove, numRings = 9, numProngs = 4)\n",
    "# print(stepsToGoal)\n",
    "print('First 10 attempts', stepsToGoal[0:10])\n",
    "print('Last 10 attempts', stepsToGoal[-9:-1])\n",
    "minSteps = min(stepsToGoal)\n",
    "times = sum(stepsToGoal == minSteps)\n",
    "print('lowest steps `{}` found `{}` times'.format(minSteps, times))\n",
    "\n",
    "# Test test\n",
    "path = testQ(Q, 300, validMoves, makeMove, numRings = 9, numProngs = 4)\n",
    "print(path[-3])\n",
    "print(path[-2])\n",
    "print(path[-1])\n",
    "print('It took {} steps to win this puzzle'.format(len(path)-1))"
   ]
  },
  {
   "cell_type": "code",
   "execution_count": null,
   "metadata": {
    "collapsed": true
   },
   "outputs": [],
   "source": [
    "# Visualize\n",
    "# Get basic step info\n",
    "minSteps = min(stepsToGoal)\n",
    "times = sum(stepsToGoal == minSteps)\n",
    "print('lowest steps `{}` found `{}` times'.format(minSteps, times))\n",
    "print('It took {} steps to win this puzzle'.format(len(path)-1))\n",
    "\n",
    "# Plot steps and epsilons\n",
    "plt.figure(figsize=(12,12))\n",
    "plotResult(Q, stepsToGoal, epsilonDecayFactor, nRepetitions)"
   ]
  },
  {
   "cell_type": "code",
   "execution_count": null,
   "metadata": {
    "collapsed": true
   },
   "outputs": [],
   "source": []
  },
  {
   "cell_type": "code",
   "execution_count": null,
   "metadata": {
    "collapsed": true
   },
   "outputs": [],
   "source": []
  },
  {
   "cell_type": "code",
   "execution_count": null,
   "metadata": {
    "collapsed": true
   },
   "outputs": [],
   "source": []
  },
  {
   "cell_type": "code",
   "execution_count": null,
   "metadata": {
    "collapsed": true
   },
   "outputs": [],
   "source": []
  },
  {
   "cell_type": "code",
   "execution_count": null,
   "metadata": {
    "collapsed": true
   },
   "outputs": [],
   "source": []
  }
 ],
 "metadata": {
  "kernelspec": {
   "display_name": "Python 3",
   "language": "python",
   "name": "python3"
  },
  "language_info": {
   "codemirror_mode": {
    "name": "ipython",
    "version": 3
   },
   "file_extension": ".py",
   "mimetype": "text/x-python",
   "name": "python",
   "nbconvert_exporter": "python",
   "pygments_lexer": "ipython3",
   "version": "3.6.1"
  }
 },
 "nbformat": 4,
 "nbformat_minor": 2
}
