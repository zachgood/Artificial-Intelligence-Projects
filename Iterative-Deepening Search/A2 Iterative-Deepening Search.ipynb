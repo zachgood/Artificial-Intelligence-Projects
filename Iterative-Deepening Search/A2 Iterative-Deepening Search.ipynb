{
 "cells": [
  {
   "cell_type": "markdown",
   "metadata": {},
   "source": [
    "# Assignment 2: Iterative-Deepening Search"
   ]
  },
  {
   "cell_type": "markdown",
   "metadata": {},
   "source": [
    "Zach Goodenow"
   ]
  },
  {
   "cell_type": "markdown",
   "metadata": {},
   "source": [
    "## Overview"
   ]
  },
  {
   "cell_type": "markdown",
   "metadata": {},
   "source": [
    "Implement the iterative-deepening search algorithm as discussed in our Week 2 lecture notes and as shown in figures 3.17 and 3.18 in our text book. Apply it to the 8-puzzle and a second puzzle of your choice. "
   ]
  },
  {
   "cell_type": "markdown",
   "metadata": {},
   "source": [
    "## Required Code"
   ]
  },
  {
   "cell_type": "markdown",
   "metadata": {},
   "source": [
    "In this jupyter notebook, implement the following functions:\n",
    "\n",
    "  * `iterativeDeepeningSearch(startState, goalState, actionsF, takeActionF, maxDepth)`\n",
    "  * `depthLimitedSearch(startState, goalState, actionsF, takeActionF, depthLimit)`\n",
    "  \n",
    "`depthLimitedSearch` is called by `iterativeDeepeningSearch` with `depthLimit`s of $0, 1, \\ldots, $ `maxDepth`. Both must return either the solution path as a list of states, or the strings `cutoff` or `failure`.  `failure` signifies that all states were searched and the goal was not found. \n",
    "\n",
    "Each receives the arguments\n",
    "\n",
    "  * the starting state, \n",
    "  * the goal state,\n",
    "  * a function `actionsF` that is given a state and returns a list of valid actions from that state,\n",
    "  * a function `takeActionF` that is given a state and an action and returns the new state that results from applying the action to the state,\n",
    "  * either a `depthLimit` for `depthLimitedSearch`, or `maxDepth` for `iterativeDeepeningSearch`."
   ]
  },
  {
   "cell_type": "markdown",
   "metadata": {},
   "source": [
    "Use your solution to solve the 8-puzzle.\n",
    "Implement the state of the puzzle as a list of integers. 0 represents the empty position. \n",
    "\n",
    "Required functions for the 8-puzzle are the following.\n",
    "\n",
    "  * `findBlank_8p(state)`: return the row and column index for the location of the blank (the 0 value).\n",
    "  * `actionsF_8p(state)`: returns a list of up to four valid actions that can be applied in `state`. Return them in the order `left`, `right`, `up`, `down`, though only if each one is a valid action.\n",
    "  * `takeActionF_8p(state, action)`: return the state that results from applying `action` in `state`.\n",
    "  * `printPath_8p(startState, goalState, path)`: print a solution path in a readable form.  You choose the format."
   ]
  },
  {
   "cell_type": "markdown",
   "metadata": {},
   "source": [
    "<font color='red'>Also</font>, implement a second search problem of your choice.  Apply your `iterativeDeepeningSearch` function to it."
   ]
  },
  {
   "cell_type": "markdown",
   "metadata": {},
   "source": [
    "Insert your function definitions in this notebook."
   ]
  },
  {
   "cell_type": "markdown",
   "metadata": {},
   "source": [
    "## My Code"
   ]
  },
  {
   "cell_type": "markdown",
   "metadata": {},
   "source": [
    "Below are all the helper functions for the 8 puzzle problem"
   ]
  },
  {
   "cell_type": "code",
   "execution_count": 116,
   "metadata": {
    "collapsed": true
   },
   "outputs": [],
   "source": [
    "import copy\n",
    "\n",
    "#Formats 8-puzzle for printing\n",
    "def printState_8p(state):\n",
    "    state[state.index(0)] = \" \"\n",
    "    print(state[0], state[1], state[2])\n",
    "    print(state[3], state[4], state[5])\n",
    "    print(state[6], state[7], state[8])\n",
    "    state[state.index(\" \")] = 0\n",
    "\n",
    "#Returns index of blank as tuple\n",
    "def findBlank_8p(state):\n",
    "    col, row = 0, 0\n",
    "\n",
    "    #find column\n",
    "    while col < 3:\n",
    "        if(0 in state[col::3]): break\n",
    "        col += 1\n",
    "\n",
    "    #col = 3 if 0 wasnt in state\n",
    "    if col == 3:\n",
    "        raise ValueError('Blank not found in 8-Puzzle!')\n",
    "\n",
    "    #find row\n",
    "    for i in state[col::3]:\n",
    "        if i == 0: break\n",
    "        row += 1\n",
    "\n",
    "    return (row, col)\n",
    "\n",
    "def actionsF_8p(state):\n",
    "    actions = []\n",
    "    index = findBlank_8p(state)\n",
    "\n",
    "    if index[1] > 0:\n",
    "        actions.append('left')\n",
    "    if index[1] < 2:\n",
    "        actions.append('right')\n",
    "    if index[0] > 0:\n",
    "        actions.append('up')\n",
    "    if index[0] < 2:\n",
    "        actions.append('down')\n",
    "\n",
    "    return actions\n",
    "\n",
    "def takeActionF_8p(state, action):\n",
    "    if action not in actionsF_8p(state):\n",
    "        raise ValueError(action, 'not valid with blank at index:', findBlank_8p(state))\n",
    "\n",
    "    here = state.index(0) #Index of blank\n",
    "    there = state.index(0) #Index of spot to move blank\n",
    "\n",
    "    if(action == 'left'):\n",
    "        there -= 1\n",
    "    if(action == 'right'):\n",
    "        there += 1\n",
    "    if(action == 'up'):\n",
    "        there -= 3\n",
    "    if(action == 'down'):\n",
    "        there += 3\n",
    "\n",
    "    stateC = copy.copy(state)\n",
    "    stateC[here], stateC[there] = stateC[there], stateC[here]\n",
    "    return stateC\n",
    "\n",
    "def printPath_8p(startState, goalState, path):\n",
    "    print('--Start State--')\n",
    "    printState_8p(startState)\n",
    "    print('--End State--')\n",
    "    printState_8p(goalState)\n",
    "    print(len(path), ' states for success: ')\n",
    "\n",
    "    stateNum = 1\n",
    "    for state in path:\n",
    "        print('-', stateNum, '-')\n",
    "        printState_8p(state)\n",
    "        print()\n",
    "        stateNum += 1"
   ]
  },
  {
   "cell_type": "markdown",
   "metadata": {},
   "source": [
    "Below are the two search functions required for this assignment"
   ]
  },
  {
   "cell_type": "code",
   "execution_count": 117,
   "metadata": {
    "collapsed": true
   },
   "outputs": [],
   "source": [
    "import random\n",
    "\n",
    "def iterativeDeepeningSearch(startState, goalState, actionsF, takeActionF, maxDepth):\n",
    "    for depth in range(maxDepth):\n",
    "        result = depthLimitedSearch(startState, goalState, actionsF, takeActionF, depth)\n",
    "        if result == 'failure':\n",
    "            return 'failure'\n",
    "        if result != 'cutoff':\n",
    "            result.insert(0, startState)\n",
    "            return result\n",
    "    return 'cutoff'\n",
    "\n",
    "def depthLimitedSearch(startState, goalState, actionsF, takeActionF, depthLimit):\n",
    "    return recursiveDLS(startState, goalState, actionsF, takeActionF, depthLimit)\n",
    "\n",
    "def recursiveDLS(startState, goalState, actionsF, takeActionF, depthLimit):\n",
    "    # print('startState: {}\\ndepthLimit: {}\\npath: {}\\n'.format(startState, depthLimit, path))\n",
    "    if startState == goalState:\n",
    "        return []\n",
    "    elif depthLimit == 0:\n",
    "        return 'cutoff'\n",
    "    else:\n",
    "        cuttoffOccured = False\n",
    "        for action in actionsF(startState):\n",
    "            child = takeActionF(startState, action)\n",
    "            result = recursiveDLS(child, goalState, actionsF, takeActionF, depthLimit-1)\n",
    "            if result == 'cutoff':\n",
    "                cuttoffOccured = True\n",
    "            elif result != 'failure':\n",
    "                # print(depthLimit, result, child)\n",
    "                result.insert(0, child)\n",
    "                return result\n",
    "        if cuttoffOccured:\n",
    "            return 'cutoff'\n",
    "        else:\n",
    "            return 'failure'"
   ]
  },
  {
   "cell_type": "markdown",
   "metadata": {},
   "source": [
    "Here are some example results."
   ]
  },
  {
   "cell_type": "code",
   "execution_count": 118,
   "metadata": {
    "collapsed": true
   },
   "outputs": [],
   "source": [
    "startState = [1, 0, 3, 4, 2, 5, 6, 7, 8]"
   ]
  },
  {
   "cell_type": "code",
   "execution_count": 119,
   "metadata": {},
   "outputs": [
    {
     "name": "stdout",
     "output_type": "stream",
     "text": [
      "1   3\n",
      "4 2 5\n",
      "6 7 8\n"
     ]
    }
   ],
   "source": [
    "printState_8p(startState)  # not a required function for this assignment, but it helps when implementing printPath_8p"
   ]
  },
  {
   "cell_type": "code",
   "execution_count": 120,
   "metadata": {},
   "outputs": [
    {
     "data": {
      "text/plain": [
       "(0, 1)"
      ]
     },
     "execution_count": 120,
     "metadata": {},
     "output_type": "execute_result"
    }
   ],
   "source": [
    "findBlank_8p(startState)"
   ]
  },
  {
   "cell_type": "code",
   "execution_count": 121,
   "metadata": {},
   "outputs": [
    {
     "data": {
      "text/plain": [
       "['left', 'right', 'down']"
      ]
     },
     "execution_count": 121,
     "metadata": {},
     "output_type": "execute_result"
    }
   ],
   "source": [
    "actionsF_8p(startState)"
   ]
  },
  {
   "cell_type": "code",
   "execution_count": 122,
   "metadata": {},
   "outputs": [
    {
     "data": {
      "text/plain": [
       "[1, 2, 3, 4, 0, 5, 6, 7, 8]"
      ]
     },
     "execution_count": 122,
     "metadata": {},
     "output_type": "execute_result"
    }
   ],
   "source": [
    "takeActionF_8p(startState, 'down')"
   ]
  },
  {
   "cell_type": "code",
   "execution_count": 123,
   "metadata": {},
   "outputs": [
    {
     "name": "stdout",
     "output_type": "stream",
     "text": [
      "1 2 3\n",
      "4   5\n",
      "6 7 8\n"
     ]
    }
   ],
   "source": [
    "printState_8p(takeActionF_8p(startState, 'down'))"
   ]
  },
  {
   "cell_type": "code",
   "execution_count": 124,
   "metadata": {},
   "outputs": [],
   "source": [
    "goalState = takeActionF_8p(startState, 'down')"
   ]
  },
  {
   "cell_type": "code",
   "execution_count": 125,
   "metadata": {
    "collapsed": true
   },
   "outputs": [],
   "source": [
    "newState = takeActionF_8p(startState, 'down')"
   ]
  },
  {
   "cell_type": "code",
   "execution_count": 126,
   "metadata": {},
   "outputs": [
    {
     "data": {
      "text/plain": [
       "True"
      ]
     },
     "execution_count": 126,
     "metadata": {},
     "output_type": "execute_result"
    }
   ],
   "source": [
    "newState == goalState"
   ]
  },
  {
   "cell_type": "code",
   "execution_count": 127,
   "metadata": {},
   "outputs": [
    {
     "data": {
      "text/plain": [
       "[1, 0, 3, 4, 2, 5, 6, 7, 8]"
      ]
     },
     "execution_count": 127,
     "metadata": {},
     "output_type": "execute_result"
    }
   ],
   "source": [
    "startState"
   ]
  },
  {
   "cell_type": "code",
   "execution_count": 128,
   "metadata": {
    "scrolled": true
   },
   "outputs": [
    {
     "data": {
      "text/plain": [
       "[[0, 1, 3, 4, 2, 5, 6, 7, 8],\n",
       " [1, 0, 3, 4, 2, 5, 6, 7, 8],\n",
       " [1, 2, 3, 4, 0, 5, 6, 7, 8]]"
      ]
     },
     "execution_count": 128,
     "metadata": {},
     "output_type": "execute_result"
    }
   ],
   "source": [
    "path = depthLimitedSearch(startState, goalState, actionsF_8p, takeActionF_8p, 3)\n",
    "path"
   ]
  },
  {
   "cell_type": "markdown",
   "metadata": {},
   "source": [
    "Notice that `depthLimitedSearch` result is missing the start state.  This is inserted by `iterativeDeepeningSearch`.\n",
    "\n",
    "But, when we try `iterativeDeepeningSearch` to do the same search, it finds a shorter path!"
   ]
  },
  {
   "cell_type": "code",
   "execution_count": 129,
   "metadata": {
    "scrolled": true
   },
   "outputs": [
    {
     "data": {
      "text/plain": [
       "[[1, 0, 3, 4, 2, 5, 6, 7, 8], [1, 2, 3, 4, 0, 5, 6, 7, 8]]"
      ]
     },
     "execution_count": 129,
     "metadata": {},
     "output_type": "execute_result"
    }
   ],
   "source": [
    "path = iterativeDeepeningSearch(startState, goalState, actionsF_8p, takeActionF_8p, 3)\n",
    "path"
   ]
  },
  {
   "cell_type": "markdown",
   "metadata": {},
   "source": [
    "Also notice that the successor states are lists, not tuples.  This is okay, because the search functions for this assignment do not"
   ]
  },
  {
   "cell_type": "code",
   "execution_count": 130,
   "metadata": {},
   "outputs": [
    {
     "data": {
      "text/plain": [
       "'cutoff'"
      ]
     },
     "execution_count": 130,
     "metadata": {},
     "output_type": "execute_result"
    }
   ],
   "source": [
    "startState = [4, 7, 2, 1, 6, 5, 0, 3, 8]\n",
    "path = iterativeDeepeningSearch(startState, goalState, actionsF_8p, takeActionF_8p, 3)\n",
    "path"
   ]
  },
  {
   "cell_type": "code",
   "execution_count": 131,
   "metadata": {},
   "outputs": [
    {
     "data": {
      "text/plain": [
       "'cutoff'"
      ]
     },
     "execution_count": 131,
     "metadata": {},
     "output_type": "execute_result"
    }
   ],
   "source": [
    "startState = [4, 7, 2, 1, 6, 5, 0, 3, 8]\n",
    "path = iterativeDeepeningSearch(startState, goalState, actionsF_8p, takeActionF_8p, 5)\n",
    "path"
   ]
  },
  {
   "cell_type": "markdown",
   "metadata": {},
   "source": [
    "Humm...maybe we can't reach the goal state from this state.  We need a way to randomly generate a valid start state."
   ]
  },
  {
   "cell_type": "code",
   "execution_count": 132,
   "metadata": {
    "collapsed": true
   },
   "outputs": [],
   "source": [
    "import random"
   ]
  },
  {
   "cell_type": "code",
   "execution_count": 133,
   "metadata": {},
   "outputs": [
    {
     "data": {
      "text/plain": [
       "'right'"
      ]
     },
     "execution_count": 133,
     "metadata": {},
     "output_type": "execute_result"
    }
   ],
   "source": [
    "random.choice(['left', 'right'])"
   ]
  },
  {
   "cell_type": "code",
   "execution_count": 134,
   "metadata": {
    "collapsed": true
   },
   "outputs": [],
   "source": [
    "def randomStartState(goalState, actionsF, takeActionF, nSteps):\n",
    "    state = goalState\n",
    "    for i in range(nSteps):\n",
    "        state = takeActionF(state, random.choice(actionsF(state)))\n",
    "    return state"
   ]
  },
  {
   "cell_type": "code",
   "execution_count": 135,
   "metadata": {},
   "outputs": [
    {
     "data": {
      "text/plain": [
       "[1, 2, 3, 4, 0, 5, 6, 7, 8]"
      ]
     },
     "execution_count": 135,
     "metadata": {},
     "output_type": "execute_result"
    }
   ],
   "source": [
    "startState = randomStartState(goalState, actionsF_8p, takeActionF_8p, 10)\n",
    "startState"
   ]
  },
  {
   "cell_type": "code",
   "execution_count": 136,
   "metadata": {},
   "outputs": [
    {
     "data": {
      "text/plain": [
       "[[1, 2, 3, 4, 0, 5, 6, 7, 8]]"
      ]
     },
     "execution_count": 136,
     "metadata": {},
     "output_type": "execute_result"
    }
   ],
   "source": [
    "path = iterativeDeepeningSearch(startState, goalState, actionsF_8p, takeActionF_8p, 20)\n",
    "path"
   ]
  },
  {
   "cell_type": "markdown",
   "metadata": {},
   "source": [
    "Let's print out the state sequence in a readable form."
   ]
  },
  {
   "cell_type": "code",
   "execution_count": 110,
   "metadata": {},
   "outputs": [
    {
     "name": "stdout",
     "output_type": "stream",
     "text": [
      "4 1 3\n",
      "2   5\n",
      "6 7 8\n",
      "\n",
      "4 1 3\n",
      "  2 5\n",
      "6 7 8\n",
      "\n",
      "  1 3\n",
      "4 2 5\n",
      "6 7 8\n",
      "\n",
      "1   3\n",
      "4 2 5\n",
      "6 7 8\n",
      "\n",
      "1 2 3\n",
      "4   5\n",
      "6 7 8\n",
      "\n"
     ]
    }
   ],
   "source": [
    "for p in path:\n",
    "    printState_8p(p)\n",
    "    print()"
   ]
  },
  {
   "cell_type": "markdown",
   "metadata": {},
   "source": [
    "Here is one way to format the search problem and solution in a readable form."
   ]
  },
  {
   "cell_type": "code",
   "execution_count": 111,
   "metadata": {},
   "outputs": [
    {
     "name": "stdout",
     "output_type": "stream",
     "text": [
      "--Start State--\n",
      "4 1 3\n",
      "2   5\n",
      "6 7 8\n",
      "--End State--\n",
      "1 2 3\n",
      "4   5\n",
      "6 7 8\n",
      "5  states for success: \n",
      "- 1 -\n",
      "4 1 3\n",
      "2   5\n",
      "6 7 8\n",
      "\n",
      "- 2 -\n",
      "4 1 3\n",
      "  2 5\n",
      "6 7 8\n",
      "\n",
      "- 3 -\n",
      "  1 3\n",
      "4 2 5\n",
      "6 7 8\n",
      "\n",
      "- 4 -\n",
      "1   3\n",
      "4 2 5\n",
      "6 7 8\n",
      "\n",
      "- 5 -\n",
      "1 2 3\n",
      "4   5\n",
      "6 7 8\n",
      "\n"
     ]
    }
   ],
   "source": [
    "printPath_8p(startState, goalState, path)"
   ]
  },
  {
   "cell_type": "markdown",
   "metadata": {},
   "source": [
    "### Max texting"
   ]
  },
  {
   "cell_type": "code",
   "execution_count": 137,
   "metadata": {},
   "outputs": [],
   "source": [
    "goalState = [1,2,3,4,0,5,6,7,8]\n",
    "for shuffle in range(1,20,2):\n",
    "    startState = randomStartState(goalState, actionsF_8p, takeActionF_8p, shuffle)\n",
    "    path = iterativeDeepeningSearch(startState, goalState, actionsF_8p, takeActionF_8p, shuffle+1)\n",
    "    if path == 'cutoff':\n",
    "        print('cutoff occured for {} shuffles and start state: '.format(shuffle))\n",
    "        printPath_8p(path)"
   ]
  },
  {
   "cell_type": "markdown",
   "metadata": {},
   "source": [
    "# My Puzzle: 15 Piece Puzzle"
   ]
  },
  {
   "cell_type": "markdown",
   "metadata": {},
   "source": [
    "Below are the functions required for using iterativeDeepeningSearch on a 15 Piece puzzle"
   ]
  },
  {
   "cell_type": "code",
   "execution_count": 50,
   "metadata": {
    "collapsed": true
   },
   "outputs": [],
   "source": [
    "import copy\n",
    "\n",
    "#Formats 15-puzzle for printing\n",
    "def printState_15p(state):\n",
    "    state[state.index(0)] = \"*\"\n",
    "    print(state[0], state[1], state[2], state[3])\n",
    "    print(state[4], state[5], state[6], state[7])\n",
    "    print(state[8], state[9], state[10], state[11])\n",
    "    print(state[12], state[13], state[14], state[15])\n",
    "    state[state.index(\"*\")] = 0\n",
    "\n",
    "#Returns index of blank as tuple\n",
    "def findBlank_15p(state):\n",
    "    col, row = 0, 0\n",
    "\n",
    "    #find column\n",
    "    while col < 4:\n",
    "        if(0 in state[col::4]): break\n",
    "        col += 1\n",
    "\n",
    "    #col = 3 if 0 wasnt in state\n",
    "    if col == 4:\n",
    "        raise ValueError('Blank not found in 15-Puzzle!')\n",
    "\n",
    "    #find row\n",
    "    for i in state[col::4]:\n",
    "        if i == 0: break\n",
    "        row += 1\n",
    "\n",
    "    return (row, col)\n",
    "\n",
    "def actionsF_15p(state):\n",
    "    actions = []\n",
    "    index = findBlank_15p(state)\n",
    "\n",
    "    if index[1] > 0:\n",
    "        actions.append('left')\n",
    "    if index[1] < 3:\n",
    "        actions.append('right')\n",
    "    if index[0] > 0:\n",
    "        actions.append('up')\n",
    "    if index[0] < 3:\n",
    "        actions.append('down')\n",
    "\n",
    "    return actions\n",
    "\n",
    "def takeActionF_15p(state, action):\n",
    "    if action not in actionsF_15p(state):\n",
    "        raise ValueError(action, 'not valid with blank at index:', findBlank_15p(state))\n",
    "\n",
    "    here = state.index(0) #Index of blank\n",
    "    there = state.index(0) #Index of spot to move blank\n",
    "\n",
    "    if(action == 'left'):\n",
    "        there -= 1\n",
    "    if(action == 'right'):\n",
    "        there += 1\n",
    "    if(action == 'up'):\n",
    "        there -= 4\n",
    "    if(action == 'down'):\n",
    "        there += 4\n",
    "\n",
    "    stateC = copy.copy(state)\n",
    "    stateC[here], stateC[there] = stateC[there], stateC[here]\n",
    "    return stateC\n",
    "\n",
    "def printPath_15p(startState, goalState, path):\n",
    "    print('--Start State--')\n",
    "    printState_15p(startState)\n",
    "    print('--End State--')\n",
    "    printState_15p(goalState)\n",
    "    print(len(path), ' states for success: ')\n",
    "\n",
    "    stateNum = 1\n",
    "    for state in path:\n",
    "        print('-', stateNum, '-')\n",
    "        printState_15p(state)\n",
    "        print()\n",
    "        stateNum += 1"
   ]
  },
  {
   "cell_type": "markdown",
   "metadata": {},
   "source": [
    "Here are a few examples for using the 15 piece puzzle"
   ]
  },
  {
   "cell_type": "code",
   "execution_count": 51,
   "metadata": {},
   "outputs": [
    {
     "data": {
      "text/plain": [
       "[[1, 2, 3, 4, 5, 6, 7, 8, 9, 10, 11, 0, 13, 14, 15, 12],\n",
       " [1, 2, 3, 4, 5, 6, 7, 8, 9, 10, 11, 12, 13, 14, 15, 0]]"
      ]
     },
     "execution_count": 51,
     "metadata": {},
     "output_type": "execute_result"
    }
   ],
   "source": [
    "#Simple\n",
    "goalState = [1,2,3,4,5,6,7,8,9,10,11,12,13,14,15,0]\n",
    "startState = [1,2,3,4,5,6,7,8,9,10,11,0,13,14,15,12]\n",
    "path = iterativeDeepeningSearch(startState, goalState, actionsF_15p, takeActionF_15p, 10)\n",
    "path"
   ]
  },
  {
   "cell_type": "code",
   "execution_count": 52,
   "metadata": {},
   "outputs": [
    {
     "name": "stdout",
     "output_type": "stream",
     "text": [
      "--Start State--\n",
      "1 2 3 4\n",
      "5 6 7 8\n",
      "9 10 11 *\n",
      "13 14 15 12\n",
      "--End State--\n",
      "1 2 3 4\n",
      "5 6 7 8\n",
      "9 10 11 12\n",
      "13 14 15 *\n",
      "2  states for success: \n",
      "- 1 -\n",
      "1 2 3 4\n",
      "5 6 7 8\n",
      "9 10 11 *\n",
      "13 14 15 12\n",
      "\n",
      "- 2 -\n",
      "1 2 3 4\n",
      "5 6 7 8\n",
      "9 10 11 12\n",
      "13 14 15 *\n",
      "\n"
     ]
    }
   ],
   "source": [
    "printPath_15p(startState, goalState, path)"
   ]
  },
  {
   "cell_type": "code",
   "execution_count": 53,
   "metadata": {},
   "outputs": [
    {
     "name": "stdout",
     "output_type": "stream",
     "text": [
      "--Start State--\n",
      "1 2 3 4\n",
      "5 6 7 8\n",
      "* 9 10 11\n",
      "13 14 15 12\n",
      "--End State--\n",
      "1 2 3 4\n",
      "5 6 7 8\n",
      "9 10 11 12\n",
      "13 14 15 *\n",
      "5  states for success: \n",
      "- 1 -\n",
      "1 2 3 4\n",
      "5 6 7 8\n",
      "* 9 10 11\n",
      "13 14 15 12\n",
      "\n",
      "- 2 -\n",
      "1 2 3 4\n",
      "5 6 7 8\n",
      "9 * 10 11\n",
      "13 14 15 12\n",
      "\n",
      "- 3 -\n",
      "1 2 3 4\n",
      "5 6 7 8\n",
      "9 10 * 11\n",
      "13 14 15 12\n",
      "\n",
      "- 4 -\n",
      "1 2 3 4\n",
      "5 6 7 8\n",
      "9 10 11 *\n",
      "13 14 15 12\n",
      "\n",
      "- 5 -\n",
      "1 2 3 4\n",
      "5 6 7 8\n",
      "9 10 11 12\n",
      "13 14 15 *\n",
      "\n"
     ]
    }
   ],
   "source": [
    "#A bit harder\n",
    "startState = [1,2,3,4,5,6,7,8,0,9,10,11,13,14,15,12]\n",
    "path = iterativeDeepeningSearch(startState, goalState, actionsF_15p, takeActionF_15p, 10)\n",
    "printPath_15p(startState, goalState, path)"
   ]
  },
  {
   "cell_type": "markdown",
   "metadata": {},
   "source": [
    "# Problems & Notes"
   ]
  },
  {
   "cell_type": "markdown",
   "metadata": {},
   "source": [
    "1.) Formatting of print for the 15 puzzle should be improved.\n",
    "\n",
    "2.) The recursive step really threw me for a loop.  Once I figured out I was doing everything right I was pretty much finished but I thought that I needed to implement a 'path' to keep track of the results.  This ate up about 3 hours because I didnt realize that the recursive step added the path as the result. \n",
    "\n",
    "3.) I should go into office hours and talk about where I was going wrong with my program."
   ]
  },
  {
   "cell_type": "markdown",
   "metadata": {},
   "source": [
    "Download [A2grader.tar](A2grader.tar) and extract A2grader.py from it."
   ]
  },
  {
   "cell_type": "code",
   "execution_count": 138,
   "metadata": {},
   "outputs": [
    {
     "name": "stdout",
     "output_type": "stream",
     "text": [
      "\n",
      "Searching this graph:\n",
      " {'a': ['b', 'z', 'd'], 'b': ['a'], 'e': ['z'], 'd': ['y'], 'y': ['z']}\n",
      "\n",
      "Looking for path from a to y with max depth of 1.\n",
      " 5/ 5 points. Your search correctly returned cutoff\n",
      "\n",
      "Looking for path from a to y with max depth of 5.\n",
      "10/10 points. Your search correctly returned ['a', 'z']\n",
      "\n",
      "Testing findBlank_8p([1, 2, 3, 4, 5, 6, 7, 0, 8])\n",
      " 5/ 5 points. Your findBlank_8p correctly returned 2 1\n",
      "\n",
      "Testing actionsF_8p([1, 2, 3, 4, 5, 6, 7, 0, 8])\n",
      "10/10 points. Your actionsF_8p correctly returned ['left', 'right', 'up']\n",
      "\n",
      "Testing takeActionF_8p([1, 2, 3, 4, 5, 6, 7, 0, 8],up)\n",
      "10/10 points. Your takeActionsF_8p correctly returned [1, 2, 3, 4, 0, 6, 7, 5, 8]\n",
      "\n",
      "Testing iterativeDeepeningSearch([1, 2, 3, 4, 5, 6, 7, 0, 8],[0, 2, 3, 1, 4,  6, 7, 5, 8], actionsF_8p, takeActionF_8p, 5)\n",
      "20/20 points. Your search correctly returned [[1, 2, 3, 4, 5, 6, 7, 0, 8], [1, 2, 3, 4, 0, 6, 7, 5, 8], [1, 2, 3, 0, 4, 6, 7, 5, 8], [0, 2, 3, 1, 4, 6, 7, 5, 8]]\n",
      "\n",
      "Testing iterativeDeepeningSearch([5, 2, 8, 0, 1, 4, 3, 7, 6], [0, 2, 3, 1, 4,  6, 7, 5, 8], actionsF_8p, takeActionF_8p, 10)\n",
      "20/20 points. Your search correctly returned cutoff\n",
      "\n",
      "A2 Grade is 80/80\n",
      "Up to 20 more points will be given based on the qualty of your descriptions of the method and the results.\n"
     ]
    }
   ],
   "source": [
    "%run -i A2grader.py"
   ]
  },
  {
   "cell_type": "code",
   "execution_count": null,
   "metadata": {
    "collapsed": true
   },
   "outputs": [],
   "source": []
  }
 ],
 "metadata": {
  "anaconda-cloud": {},
  "kernelspec": {
   "display_name": "Python 3",
   "language": "python",
   "name": "python3"
  },
  "language_info": {
   "codemirror_mode": {
    "name": "ipython",
    "version": 3
   },
   "file_extension": ".py",
   "mimetype": "text/x-python",
   "name": "python",
   "nbconvert_exporter": "python",
   "pygments_lexer": "ipython3",
   "version": "3.6.1"
  }
 },
 "nbformat": 4,
 "nbformat_minor": 1
}
